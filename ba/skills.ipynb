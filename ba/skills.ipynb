{
 "cells": [
  {
   "cell_type": "code",
   "execution_count": 2,
   "metadata": {},
   "outputs": [
    {
     "data": {
      "text/html": [
       "<div>\n",
       "<style scoped>\n",
       "    .dataframe tbody tr th:only-of-type {\n",
       "        vertical-align: middle;\n",
       "    }\n",
       "\n",
       "    .dataframe tbody tr th {\n",
       "        vertical-align: top;\n",
       "    }\n",
       "\n",
       "    .dataframe thead th {\n",
       "        text-align: right;\n",
       "    }\n",
       "</style>\n",
       "<table border=\"1\" class=\"dataframe\">\n",
       "  <thead>\n",
       "    <tr style=\"text-align: right;\">\n",
       "      <th></th>\n",
       "      <th>Python</th>\n",
       "      <th>Probability &amp; Statistics</th>\n",
       "      <th>Data Visualization</th>\n",
       "      <th>Math (Algebra &amp; Calculus)</th>\n",
       "      <th>Critical Thinking</th>\n",
       "      <th>Data Cleaning / Data Preparation / ETL</th>\n",
       "      <th>Communications Skills</th>\n",
       "      <th>Excel</th>\n",
       "      <th>SQL</th>\n",
       "      <th>Machine Learning Techniques</th>\n",
       "      <th>...</th>\n",
       "      <th>Other Cloud Computing Platforms</th>\n",
       "      <th>SAS</th>\n",
       "      <th>R Language</th>\n",
       "      <th>Text Processing</th>\n",
       "      <th>Software Engineering</th>\n",
       "      <th>Tableau</th>\n",
       "      <th>XGBoost</th>\n",
       "      <th>Java</th>\n",
       "      <th>C++</th>\n",
       "      <th>MATLAB</th>\n",
       "    </tr>\n",
       "  </thead>\n",
       "  <tbody>\n",
       "    <tr>\n",
       "      <th>0</th>\n",
       "      <td>Have</td>\n",
       "      <td>Want</td>\n",
       "      <td>Have;Want</td>\n",
       "      <td>Have</td>\n",
       "      <td>Have</td>\n",
       "      <td>Don't know</td>\n",
       "      <td>Have;Want</td>\n",
       "      <td>Have</td>\n",
       "      <td>Have</td>\n",
       "      <td>Want</td>\n",
       "      <td>...</td>\n",
       "      <td>Don't know</td>\n",
       "      <td>Don't know</td>\n",
       "      <td>Want</td>\n",
       "      <td>Want</td>\n",
       "      <td>Have</td>\n",
       "      <td>Have</td>\n",
       "      <td>Don't know</td>\n",
       "      <td>Want</td>\n",
       "      <td>Have</td>\n",
       "      <td>Have</td>\n",
       "    </tr>\n",
       "    <tr>\n",
       "      <th>1</th>\n",
       "      <td>Have;Want</td>\n",
       "      <td>Have</td>\n",
       "      <td>Have</td>\n",
       "      <td>Have;Want</td>\n",
       "      <td>Have</td>\n",
       "      <td>Have</td>\n",
       "      <td>Have</td>\n",
       "      <td>Want</td>\n",
       "      <td>Have;Want</td>\n",
       "      <td>Have;Want</td>\n",
       "      <td>...</td>\n",
       "      <td>Don't know</td>\n",
       "      <td>Have;Want</td>\n",
       "      <td>Want</td>\n",
       "      <td>Don't know</td>\n",
       "      <td>Have;Want</td>\n",
       "      <td>Have;Want</td>\n",
       "      <td>Don't know</td>\n",
       "      <td>Have</td>\n",
       "      <td>Have</td>\n",
       "      <td>Have;Want</td>\n",
       "    </tr>\n",
       "    <tr>\n",
       "      <th>2</th>\n",
       "      <td>Have</td>\n",
       "      <td>Have</td>\n",
       "      <td>Have</td>\n",
       "      <td>Want</td>\n",
       "      <td>Have</td>\n",
       "      <td>Have</td>\n",
       "      <td>Have</td>\n",
       "      <td>Have</td>\n",
       "      <td>Want</td>\n",
       "      <td>Have</td>\n",
       "      <td>...</td>\n",
       "      <td>Don't know</td>\n",
       "      <td>Don't know</td>\n",
       "      <td>Have</td>\n",
       "      <td>Don't know</td>\n",
       "      <td>Want</td>\n",
       "      <td>Have</td>\n",
       "      <td>Want</td>\n",
       "      <td>Want</td>\n",
       "      <td>Don't know</td>\n",
       "      <td>Have</td>\n",
       "    </tr>\n",
       "    <tr>\n",
       "      <th>3</th>\n",
       "      <td>Have;Want</td>\n",
       "      <td>Have</td>\n",
       "      <td>Have;Want</td>\n",
       "      <td>Have</td>\n",
       "      <td>Have</td>\n",
       "      <td>Have;Want</td>\n",
       "      <td>Have</td>\n",
       "      <td>Have</td>\n",
       "      <td>Have</td>\n",
       "      <td>Want</td>\n",
       "      <td>...</td>\n",
       "      <td>NaN</td>\n",
       "      <td>NaN</td>\n",
       "      <td>Have</td>\n",
       "      <td>NaN</td>\n",
       "      <td>Don't know</td>\n",
       "      <td>Have</td>\n",
       "      <td>NaN</td>\n",
       "      <td>Have;Want</td>\n",
       "      <td>Have;Want</td>\n",
       "      <td>Don't know</td>\n",
       "    </tr>\n",
       "    <tr>\n",
       "      <th>4</th>\n",
       "      <td>Have</td>\n",
       "      <td>Have;Want</td>\n",
       "      <td>Have</td>\n",
       "      <td>Have</td>\n",
       "      <td>Have</td>\n",
       "      <td>Want</td>\n",
       "      <td>Have</td>\n",
       "      <td>Have</td>\n",
       "      <td>Have;Want</td>\n",
       "      <td>Have</td>\n",
       "      <td>...</td>\n",
       "      <td>Don't know</td>\n",
       "      <td>Don't know</td>\n",
       "      <td>Have;Want</td>\n",
       "      <td>Have</td>\n",
       "      <td>Want</td>\n",
       "      <td>Have</td>\n",
       "      <td>Want</td>\n",
       "      <td>Want</td>\n",
       "      <td>Want</td>\n",
       "      <td>Have</td>\n",
       "    </tr>\n",
       "    <tr>\n",
       "      <th>5</th>\n",
       "      <td>Have;Want</td>\n",
       "      <td>Have;Want</td>\n",
       "      <td>Have;Want</td>\n",
       "      <td>Have;Want</td>\n",
       "      <td>Have;Want</td>\n",
       "      <td>Have;Want</td>\n",
       "      <td>Have;Want</td>\n",
       "      <td>Have</td>\n",
       "      <td>Have</td>\n",
       "      <td>Have;Want</td>\n",
       "      <td>...</td>\n",
       "      <td>Don't know</td>\n",
       "      <td>Don't know</td>\n",
       "      <td>Have</td>\n",
       "      <td>Have;Want</td>\n",
       "      <td>Don't know</td>\n",
       "      <td>Have</td>\n",
       "      <td>Have</td>\n",
       "      <td>Don't know</td>\n",
       "      <td>Don't know</td>\n",
       "      <td>Have</td>\n",
       "    </tr>\n",
       "    <tr>\n",
       "      <th>6</th>\n",
       "      <td>Have</td>\n",
       "      <td>Have;Want</td>\n",
       "      <td>Have;Want</td>\n",
       "      <td>Have;Want</td>\n",
       "      <td>Have</td>\n",
       "      <td>Want</td>\n",
       "      <td>Have</td>\n",
       "      <td>Want</td>\n",
       "      <td>Have</td>\n",
       "      <td>Have;Want</td>\n",
       "      <td>...</td>\n",
       "      <td>Don't know</td>\n",
       "      <td>Don't know</td>\n",
       "      <td>Have</td>\n",
       "      <td>Have</td>\n",
       "      <td>Don't know</td>\n",
       "      <td>Have</td>\n",
       "      <td>Have</td>\n",
       "      <td>Want</td>\n",
       "      <td>Want</td>\n",
       "      <td>Have</td>\n",
       "    </tr>\n",
       "    <tr>\n",
       "      <th>7</th>\n",
       "      <td>Have</td>\n",
       "      <td>Have;Want</td>\n",
       "      <td>Have</td>\n",
       "      <td>Have;Want</td>\n",
       "      <td>Have</td>\n",
       "      <td>Have</td>\n",
       "      <td>Have</td>\n",
       "      <td>Have;Want</td>\n",
       "      <td>Have;Want</td>\n",
       "      <td>Have;Want</td>\n",
       "      <td>...</td>\n",
       "      <td>Don't know</td>\n",
       "      <td>Don't know</td>\n",
       "      <td>Have;Want</td>\n",
       "      <td>Have</td>\n",
       "      <td>Want</td>\n",
       "      <td>Have</td>\n",
       "      <td>Have;Want</td>\n",
       "      <td>Want</td>\n",
       "      <td>Want</td>\n",
       "      <td>Want</td>\n",
       "    </tr>\n",
       "    <tr>\n",
       "      <th>8</th>\n",
       "      <td>Have</td>\n",
       "      <td>Have</td>\n",
       "      <td>Have</td>\n",
       "      <td>Have</td>\n",
       "      <td>Have</td>\n",
       "      <td>Have</td>\n",
       "      <td>NaN</td>\n",
       "      <td>Have</td>\n",
       "      <td>Have</td>\n",
       "      <td>Have</td>\n",
       "      <td>...</td>\n",
       "      <td>Have</td>\n",
       "      <td>Have</td>\n",
       "      <td>Have</td>\n",
       "      <td>Have</td>\n",
       "      <td>Have</td>\n",
       "      <td>Have</td>\n",
       "      <td>Don't know</td>\n",
       "      <td>Have</td>\n",
       "      <td>Have</td>\n",
       "      <td>Have</td>\n",
       "    </tr>\n",
       "    <tr>\n",
       "      <th>9</th>\n",
       "      <td>Have</td>\n",
       "      <td>Have;Want</td>\n",
       "      <td>Have</td>\n",
       "      <td>Have;Want</td>\n",
       "      <td>Want</td>\n",
       "      <td>Have;Want</td>\n",
       "      <td>Have;Want</td>\n",
       "      <td>Want</td>\n",
       "      <td>Have;Want</td>\n",
       "      <td>Have;Want</td>\n",
       "      <td>...</td>\n",
       "      <td>Want</td>\n",
       "      <td>Don't know</td>\n",
       "      <td>Have;Want</td>\n",
       "      <td>Want</td>\n",
       "      <td>Want</td>\n",
       "      <td>Have</td>\n",
       "      <td>Don't know</td>\n",
       "      <td>Want</td>\n",
       "      <td>Have;Want</td>\n",
       "      <td>Want</td>\n",
       "    </tr>\n",
       "    <tr>\n",
       "      <th>10</th>\n",
       "      <td>Have</td>\n",
       "      <td>Have</td>\n",
       "      <td>Have</td>\n",
       "      <td>Have</td>\n",
       "      <td>Have</td>\n",
       "      <td>Have</td>\n",
       "      <td>Have</td>\n",
       "      <td>Have</td>\n",
       "      <td>Have</td>\n",
       "      <td>Have</td>\n",
       "      <td>...</td>\n",
       "      <td>Want</td>\n",
       "      <td>NaN</td>\n",
       "      <td>Have</td>\n",
       "      <td>Have</td>\n",
       "      <td>Have</td>\n",
       "      <td>Have</td>\n",
       "      <td>Have</td>\n",
       "      <td>Want</td>\n",
       "      <td>Want</td>\n",
       "      <td>Have</td>\n",
       "    </tr>\n",
       "    <tr>\n",
       "      <th>11</th>\n",
       "      <td>Have</td>\n",
       "      <td>Have;Want</td>\n",
       "      <td>Have;Want</td>\n",
       "      <td>Have;Want</td>\n",
       "      <td>Have</td>\n",
       "      <td>Have</td>\n",
       "      <td>Have;Want</td>\n",
       "      <td>Have;Want</td>\n",
       "      <td>Have</td>\n",
       "      <td>Have</td>\n",
       "      <td>...</td>\n",
       "      <td>Don't know</td>\n",
       "      <td>Have;Want</td>\n",
       "      <td>Have</td>\n",
       "      <td>Have</td>\n",
       "      <td>Want</td>\n",
       "      <td>Have;Want</td>\n",
       "      <td>Have</td>\n",
       "      <td>Want</td>\n",
       "      <td>Want</td>\n",
       "      <td>Have</td>\n",
       "    </tr>\n",
       "    <tr>\n",
       "      <th>12</th>\n",
       "      <td>Have</td>\n",
       "      <td>Have;Want</td>\n",
       "      <td>Have;Want</td>\n",
       "      <td>Want</td>\n",
       "      <td>Have</td>\n",
       "      <td>Have</td>\n",
       "      <td>Want</td>\n",
       "      <td>Want</td>\n",
       "      <td>Want</td>\n",
       "      <td>Have;Want</td>\n",
       "      <td>...</td>\n",
       "      <td>Want</td>\n",
       "      <td>Don't know</td>\n",
       "      <td>Have;Want</td>\n",
       "      <td>Have;Want</td>\n",
       "      <td>Don't know</td>\n",
       "      <td>Have;Want</td>\n",
       "      <td>Have;Want</td>\n",
       "      <td>NaN</td>\n",
       "      <td>NaN</td>\n",
       "      <td>Have</td>\n",
       "    </tr>\n",
       "    <tr>\n",
       "      <th>13</th>\n",
       "      <td>Have</td>\n",
       "      <td>Have;Want</td>\n",
       "      <td>Have;Want</td>\n",
       "      <td>Want</td>\n",
       "      <td>Want</td>\n",
       "      <td>Have;Want</td>\n",
       "      <td>Have;Want</td>\n",
       "      <td>Have;Want</td>\n",
       "      <td>Have;Want</td>\n",
       "      <td>Have;Want</td>\n",
       "      <td>...</td>\n",
       "      <td>Want</td>\n",
       "      <td>Don't know</td>\n",
       "      <td>Have;Want</td>\n",
       "      <td>Have;Want</td>\n",
       "      <td>Have;Want</td>\n",
       "      <td>Have;Want</td>\n",
       "      <td>Have;Want</td>\n",
       "      <td>Want</td>\n",
       "      <td>Want</td>\n",
       "      <td>Have;Want</td>\n",
       "    </tr>\n",
       "    <tr>\n",
       "      <th>14</th>\n",
       "      <td>Have</td>\n",
       "      <td>Have</td>\n",
       "      <td>Have</td>\n",
       "      <td>Have</td>\n",
       "      <td>Have</td>\n",
       "      <td>Have</td>\n",
       "      <td>Have</td>\n",
       "      <td>Want</td>\n",
       "      <td>Have</td>\n",
       "      <td>Have;Want</td>\n",
       "      <td>...</td>\n",
       "      <td>Have;Want</td>\n",
       "      <td>Have</td>\n",
       "      <td>Have</td>\n",
       "      <td>Have</td>\n",
       "      <td>Have;Want</td>\n",
       "      <td>Have</td>\n",
       "      <td>Have</td>\n",
       "      <td>Want</td>\n",
       "      <td>NaN</td>\n",
       "      <td>Have</td>\n",
       "    </tr>\n",
       "    <tr>\n",
       "      <th>15</th>\n",
       "      <td>Have</td>\n",
       "      <td>Have</td>\n",
       "      <td>Have;Want</td>\n",
       "      <td>Have</td>\n",
       "      <td>Want</td>\n",
       "      <td>NaN</td>\n",
       "      <td>Have;Want</td>\n",
       "      <td>NaN</td>\n",
       "      <td>Have</td>\n",
       "      <td>Want</td>\n",
       "      <td>...</td>\n",
       "      <td>NaN</td>\n",
       "      <td>Don't know</td>\n",
       "      <td>Want</td>\n",
       "      <td>Don't know</td>\n",
       "      <td>Have</td>\n",
       "      <td>Have;Want</td>\n",
       "      <td>Don't know</td>\n",
       "      <td>Have</td>\n",
       "      <td>Have</td>\n",
       "      <td>NaN</td>\n",
       "    </tr>\n",
       "    <tr>\n",
       "      <th>16</th>\n",
       "      <td>Have</td>\n",
       "      <td>Have</td>\n",
       "      <td>Have</td>\n",
       "      <td>Have</td>\n",
       "      <td>Have</td>\n",
       "      <td>Have</td>\n",
       "      <td>Have</td>\n",
       "      <td>Don't know</td>\n",
       "      <td>Have</td>\n",
       "      <td>Have</td>\n",
       "      <td>...</td>\n",
       "      <td>Want</td>\n",
       "      <td>Don't know</td>\n",
       "      <td>Have</td>\n",
       "      <td>Have</td>\n",
       "      <td>Don't know</td>\n",
       "      <td>Have</td>\n",
       "      <td>Have</td>\n",
       "      <td>Don't know</td>\n",
       "      <td>Want</td>\n",
       "      <td>Don't know</td>\n",
       "    </tr>\n",
       "    <tr>\n",
       "      <th>17</th>\n",
       "      <td>Have</td>\n",
       "      <td>Have</td>\n",
       "      <td>Have</td>\n",
       "      <td>Have</td>\n",
       "      <td>Have</td>\n",
       "      <td>Have</td>\n",
       "      <td>Want</td>\n",
       "      <td>Have</td>\n",
       "      <td>Have</td>\n",
       "      <td>Have</td>\n",
       "      <td>...</td>\n",
       "      <td>Want</td>\n",
       "      <td>Want</td>\n",
       "      <td>Have</td>\n",
       "      <td>Have</td>\n",
       "      <td>Want</td>\n",
       "      <td>Have</td>\n",
       "      <td>Have</td>\n",
       "      <td>Want</td>\n",
       "      <td>Want</td>\n",
       "      <td>Have</td>\n",
       "    </tr>\n",
       "    <tr>\n",
       "      <th>18</th>\n",
       "      <td>Have;Want</td>\n",
       "      <td>Have;Want</td>\n",
       "      <td>Have;Want</td>\n",
       "      <td>NaN</td>\n",
       "      <td>Have;Want</td>\n",
       "      <td>Have;Want</td>\n",
       "      <td>Have;Want</td>\n",
       "      <td>Have;Want</td>\n",
       "      <td>Have;Want</td>\n",
       "      <td>Have;Want</td>\n",
       "      <td>...</td>\n",
       "      <td>Don't know</td>\n",
       "      <td>Don't know</td>\n",
       "      <td>Have;Want</td>\n",
       "      <td>Have;Want</td>\n",
       "      <td>Don't know</td>\n",
       "      <td>Have;Want</td>\n",
       "      <td>Have;Want</td>\n",
       "      <td>NaN</td>\n",
       "      <td>NaN</td>\n",
       "      <td>Have</td>\n",
       "    </tr>\n",
       "    <tr>\n",
       "      <th>19</th>\n",
       "      <td>Have;Want</td>\n",
       "      <td>Have</td>\n",
       "      <td>Have</td>\n",
       "      <td>Have</td>\n",
       "      <td>Have;Want</td>\n",
       "      <td>Have;Want</td>\n",
       "      <td>Have;Want</td>\n",
       "      <td>Have</td>\n",
       "      <td>Have</td>\n",
       "      <td>Have;Want</td>\n",
       "      <td>...</td>\n",
       "      <td>Want</td>\n",
       "      <td>Don't know</td>\n",
       "      <td>Have</td>\n",
       "      <td>Have;Want</td>\n",
       "      <td>Have;Want</td>\n",
       "      <td>NaN</td>\n",
       "      <td>Have;Want</td>\n",
       "      <td>Want</td>\n",
       "      <td>Have;Want</td>\n",
       "      <td>Have</td>\n",
       "    </tr>\n",
       "    <tr>\n",
       "      <th>20</th>\n",
       "      <td>Have</td>\n",
       "      <td>Have;Want</td>\n",
       "      <td>Have;Want</td>\n",
       "      <td>Have</td>\n",
       "      <td>Have;Want</td>\n",
       "      <td>Have</td>\n",
       "      <td>Have;Want</td>\n",
       "      <td>Have</td>\n",
       "      <td>Have;Want</td>\n",
       "      <td>Have</td>\n",
       "      <td>...</td>\n",
       "      <td>Don't know</td>\n",
       "      <td>Don't know</td>\n",
       "      <td>Have</td>\n",
       "      <td>Have;Want</td>\n",
       "      <td>Don't know</td>\n",
       "      <td>Have</td>\n",
       "      <td>Have</td>\n",
       "      <td>Don't know</td>\n",
       "      <td>Don't know</td>\n",
       "      <td>Have</td>\n",
       "    </tr>\n",
       "    <tr>\n",
       "      <th>21</th>\n",
       "      <td>Have;Want</td>\n",
       "      <td>Have;Want</td>\n",
       "      <td>Have;Want</td>\n",
       "      <td>Have;Want</td>\n",
       "      <td>Have;Want</td>\n",
       "      <td>Have;Want</td>\n",
       "      <td>Have;Want</td>\n",
       "      <td>Have;Want</td>\n",
       "      <td>Have;Want</td>\n",
       "      <td>Have;Want</td>\n",
       "      <td>...</td>\n",
       "      <td>NaN</td>\n",
       "      <td>Don't know</td>\n",
       "      <td>Have</td>\n",
       "      <td>Have;Want</td>\n",
       "      <td>NaN</td>\n",
       "      <td>Have</td>\n",
       "      <td>NaN</td>\n",
       "      <td>NaN</td>\n",
       "      <td>NaN</td>\n",
       "      <td>Have</td>\n",
       "    </tr>\n",
       "    <tr>\n",
       "      <th>22</th>\n",
       "      <td>Have;Want</td>\n",
       "      <td>Have;Want</td>\n",
       "      <td>Have;Want</td>\n",
       "      <td>Have;Want</td>\n",
       "      <td>Have</td>\n",
       "      <td>Have</td>\n",
       "      <td>Have;Want</td>\n",
       "      <td>Have;Want</td>\n",
       "      <td>Have;Want</td>\n",
       "      <td>Have;Want</td>\n",
       "      <td>...</td>\n",
       "      <td>Want</td>\n",
       "      <td>Want</td>\n",
       "      <td>Have;Want</td>\n",
       "      <td>Have;Want</td>\n",
       "      <td>NaN</td>\n",
       "      <td>Have;Want</td>\n",
       "      <td>Want</td>\n",
       "      <td>NaN</td>\n",
       "      <td>NaN</td>\n",
       "      <td>Have;Want</td>\n",
       "    </tr>\n",
       "    <tr>\n",
       "      <th>23</th>\n",
       "      <td>Have;Want</td>\n",
       "      <td>Have</td>\n",
       "      <td>Have;Want</td>\n",
       "      <td>Have</td>\n",
       "      <td>Have;Want</td>\n",
       "      <td>Want</td>\n",
       "      <td>Want</td>\n",
       "      <td>Have</td>\n",
       "      <td>Have;Want</td>\n",
       "      <td>Want</td>\n",
       "      <td>...</td>\n",
       "      <td>NaN</td>\n",
       "      <td>Want</td>\n",
       "      <td>Have</td>\n",
       "      <td>Have;Want</td>\n",
       "      <td>Want</td>\n",
       "      <td>Have</td>\n",
       "      <td>Want</td>\n",
       "      <td>Want</td>\n",
       "      <td>Have;Want</td>\n",
       "      <td>Have;Want</td>\n",
       "    </tr>\n",
       "    <tr>\n",
       "      <th>24</th>\n",
       "      <td>Have;Want</td>\n",
       "      <td>Have;Want</td>\n",
       "      <td>Have;Want</td>\n",
       "      <td>Have;Want</td>\n",
       "      <td>Have;Want</td>\n",
       "      <td>Want</td>\n",
       "      <td>Have</td>\n",
       "      <td>Have;Want</td>\n",
       "      <td>Have</td>\n",
       "      <td>Want</td>\n",
       "      <td>...</td>\n",
       "      <td>Don't know</td>\n",
       "      <td>Don't know</td>\n",
       "      <td>Have;Want</td>\n",
       "      <td>Don't know</td>\n",
       "      <td>Want</td>\n",
       "      <td>Have;Want</td>\n",
       "      <td>Want;Don't know</td>\n",
       "      <td>Have;Want</td>\n",
       "      <td>Want</td>\n",
       "      <td>Have;Want</td>\n",
       "    </tr>\n",
       "    <tr>\n",
       "      <th>25</th>\n",
       "      <td>Have</td>\n",
       "      <td>Have;Want</td>\n",
       "      <td>Have</td>\n",
       "      <td>Want</td>\n",
       "      <td>Have</td>\n",
       "      <td>Have</td>\n",
       "      <td>Have</td>\n",
       "      <td>Have;Want</td>\n",
       "      <td>Have;Want</td>\n",
       "      <td>Have;Want</td>\n",
       "      <td>...</td>\n",
       "      <td>Want</td>\n",
       "      <td>Don't know</td>\n",
       "      <td>Have</td>\n",
       "      <td>Have</td>\n",
       "      <td>NaN</td>\n",
       "      <td>Have</td>\n",
       "      <td>Have;Want</td>\n",
       "      <td>NaN</td>\n",
       "      <td>NaN</td>\n",
       "      <td>Have</td>\n",
       "    </tr>\n",
       "    <tr>\n",
       "      <th>26</th>\n",
       "      <td>Have</td>\n",
       "      <td>Have</td>\n",
       "      <td>Have</td>\n",
       "      <td>Have</td>\n",
       "      <td>Have</td>\n",
       "      <td>Want</td>\n",
       "      <td>Have</td>\n",
       "      <td>Don't know</td>\n",
       "      <td>Have</td>\n",
       "      <td>Have</td>\n",
       "      <td>...</td>\n",
       "      <td>Don't know</td>\n",
       "      <td>Don't know</td>\n",
       "      <td>Don't know</td>\n",
       "      <td>Have</td>\n",
       "      <td>Have</td>\n",
       "      <td>Don't know</td>\n",
       "      <td>Have</td>\n",
       "      <td>Have</td>\n",
       "      <td>Have</td>\n",
       "      <td>Have</td>\n",
       "    </tr>\n",
       "  </tbody>\n",
       "</table>\n",
       "<p>27 rows × 50 columns</p>\n",
       "</div>"
      ],
      "text/plain": [
       "       Python Probability & Statistics Data Visualization  \\\n",
       "0        Have                     Want          Have;Want   \n",
       "1   Have;Want                     Have               Have   \n",
       "2        Have                     Have               Have   \n",
       "3   Have;Want                     Have          Have;Want   \n",
       "4        Have                Have;Want               Have   \n",
       "5   Have;Want                Have;Want          Have;Want   \n",
       "6        Have                Have;Want          Have;Want   \n",
       "7        Have                Have;Want               Have   \n",
       "8        Have                     Have               Have   \n",
       "9        Have                Have;Want               Have   \n",
       "10       Have                     Have               Have   \n",
       "11       Have                Have;Want          Have;Want   \n",
       "12       Have                Have;Want          Have;Want   \n",
       "13       Have                Have;Want          Have;Want   \n",
       "14       Have                     Have               Have   \n",
       "15       Have                     Have          Have;Want   \n",
       "16       Have                     Have               Have   \n",
       "17       Have                     Have               Have   \n",
       "18  Have;Want                Have;Want          Have;Want   \n",
       "19  Have;Want                     Have               Have   \n",
       "20       Have                Have;Want          Have;Want   \n",
       "21  Have;Want                Have;Want          Have;Want   \n",
       "22  Have;Want                Have;Want          Have;Want   \n",
       "23  Have;Want                     Have          Have;Want   \n",
       "24  Have;Want                Have;Want          Have;Want   \n",
       "25       Have                Have;Want               Have   \n",
       "26       Have                     Have               Have   \n",
       "\n",
       "   Math (Algebra & Calculus) Critical Thinking  \\\n",
       "0                       Have              Have   \n",
       "1                  Have;Want              Have   \n",
       "2                       Want              Have   \n",
       "3                       Have              Have   \n",
       "4                       Have              Have   \n",
       "5                  Have;Want         Have;Want   \n",
       "6                  Have;Want              Have   \n",
       "7                  Have;Want              Have   \n",
       "8                       Have              Have   \n",
       "9                  Have;Want              Want   \n",
       "10                      Have              Have   \n",
       "11                 Have;Want              Have   \n",
       "12                      Want              Have   \n",
       "13                      Want              Want   \n",
       "14                      Have              Have   \n",
       "15                      Have              Want   \n",
       "16                      Have              Have   \n",
       "17                      Have              Have   \n",
       "18                       NaN         Have;Want   \n",
       "19                      Have         Have;Want   \n",
       "20                      Have         Have;Want   \n",
       "21                 Have;Want         Have;Want   \n",
       "22                 Have;Want              Have   \n",
       "23                      Have         Have;Want   \n",
       "24                 Have;Want         Have;Want   \n",
       "25                      Want              Have   \n",
       "26                      Have              Have   \n",
       "\n",
       "   Data Cleaning / Data Preparation / ETL Communications Skills       Excel  \\\n",
       "0                              Don't know             Have;Want        Have   \n",
       "1                                    Have                  Have        Want   \n",
       "2                                    Have                  Have        Have   \n",
       "3                               Have;Want                  Have        Have   \n",
       "4                                    Want                  Have        Have   \n",
       "5                               Have;Want             Have;Want        Have   \n",
       "6                                    Want                  Have        Want   \n",
       "7                                    Have                  Have   Have;Want   \n",
       "8                                    Have                   NaN        Have   \n",
       "9                               Have;Want             Have;Want        Want   \n",
       "10                                   Have                  Have        Have   \n",
       "11                                   Have             Have;Want   Have;Want   \n",
       "12                                   Have                  Want        Want   \n",
       "13                              Have;Want             Have;Want   Have;Want   \n",
       "14                                   Have                  Have        Want   \n",
       "15                                    NaN             Have;Want         NaN   \n",
       "16                                   Have                  Have  Don't know   \n",
       "17                                   Have                  Want        Have   \n",
       "18                              Have;Want             Have;Want   Have;Want   \n",
       "19                              Have;Want             Have;Want        Have   \n",
       "20                                   Have             Have;Want        Have   \n",
       "21                              Have;Want             Have;Want   Have;Want   \n",
       "22                                   Have             Have;Want   Have;Want   \n",
       "23                                   Want                  Want        Have   \n",
       "24                                   Want                  Have   Have;Want   \n",
       "25                                   Have                  Have   Have;Want   \n",
       "26                                   Want                  Have  Don't know   \n",
       "\n",
       "          SQL Machine Learning Techniques  ...  \\\n",
       "0        Have                        Want  ...   \n",
       "1   Have;Want                   Have;Want  ...   \n",
       "2        Want                        Have  ...   \n",
       "3        Have                        Want  ...   \n",
       "4   Have;Want                        Have  ...   \n",
       "5        Have                   Have;Want  ...   \n",
       "6        Have                   Have;Want  ...   \n",
       "7   Have;Want                   Have;Want  ...   \n",
       "8        Have                        Have  ...   \n",
       "9   Have;Want                   Have;Want  ...   \n",
       "10       Have                        Have  ...   \n",
       "11       Have                        Have  ...   \n",
       "12       Want                   Have;Want  ...   \n",
       "13  Have;Want                   Have;Want  ...   \n",
       "14       Have                   Have;Want  ...   \n",
       "15       Have                        Want  ...   \n",
       "16       Have                        Have  ...   \n",
       "17       Have                        Have  ...   \n",
       "18  Have;Want                   Have;Want  ...   \n",
       "19       Have                   Have;Want  ...   \n",
       "20  Have;Want                        Have  ...   \n",
       "21  Have;Want                   Have;Want  ...   \n",
       "22  Have;Want                   Have;Want  ...   \n",
       "23  Have;Want                        Want  ...   \n",
       "24       Have                        Want  ...   \n",
       "25  Have;Want                   Have;Want  ...   \n",
       "26       Have                        Have  ...   \n",
       "\n",
       "   Other Cloud Computing Platforms         SAS  R Language Text Processing  \\\n",
       "0                       Don't know  Don't know        Want            Want   \n",
       "1                       Don't know   Have;Want        Want      Don't know   \n",
       "2                       Don't know  Don't know        Have      Don't know   \n",
       "3                              NaN         NaN        Have             NaN   \n",
       "4                       Don't know  Don't know   Have;Want            Have   \n",
       "5                       Don't know  Don't know        Have       Have;Want   \n",
       "6                       Don't know  Don't know        Have            Have   \n",
       "7                       Don't know  Don't know   Have;Want            Have   \n",
       "8                             Have        Have        Have            Have   \n",
       "9                             Want  Don't know   Have;Want            Want   \n",
       "10                            Want         NaN        Have            Have   \n",
       "11                      Don't know   Have;Want        Have            Have   \n",
       "12                            Want  Don't know   Have;Want       Have;Want   \n",
       "13                            Want  Don't know   Have;Want       Have;Want   \n",
       "14                       Have;Want        Have        Have            Have   \n",
       "15                             NaN  Don't know        Want      Don't know   \n",
       "16                            Want  Don't know        Have            Have   \n",
       "17                            Want        Want        Have            Have   \n",
       "18                      Don't know  Don't know   Have;Want       Have;Want   \n",
       "19                            Want  Don't know        Have       Have;Want   \n",
       "20                      Don't know  Don't know        Have       Have;Want   \n",
       "21                             NaN  Don't know        Have       Have;Want   \n",
       "22                            Want        Want   Have;Want       Have;Want   \n",
       "23                             NaN        Want        Have       Have;Want   \n",
       "24                      Don't know  Don't know   Have;Want      Don't know   \n",
       "25                            Want  Don't know        Have            Have   \n",
       "26                      Don't know  Don't know  Don't know            Have   \n",
       "\n",
       "   Software Engineering     Tableau          XGBoost        Java         C++  \\\n",
       "0                  Have        Have       Don't know        Want        Have   \n",
       "1             Have;Want   Have;Want       Don't know        Have        Have   \n",
       "2                  Want        Have             Want        Want  Don't know   \n",
       "3            Don't know        Have              NaN   Have;Want   Have;Want   \n",
       "4                  Want        Have             Want        Want        Want   \n",
       "5            Don't know        Have             Have  Don't know  Don't know   \n",
       "6            Don't know        Have             Have        Want        Want   \n",
       "7                  Want        Have        Have;Want        Want        Want   \n",
       "8                  Have        Have       Don't know        Have        Have   \n",
       "9                  Want        Have       Don't know        Want   Have;Want   \n",
       "10                 Have        Have             Have        Want        Want   \n",
       "11                 Want   Have;Want             Have        Want        Want   \n",
       "12           Don't know   Have;Want        Have;Want         NaN         NaN   \n",
       "13            Have;Want   Have;Want        Have;Want        Want        Want   \n",
       "14            Have;Want        Have             Have        Want         NaN   \n",
       "15                 Have   Have;Want       Don't know        Have        Have   \n",
       "16           Don't know        Have             Have  Don't know        Want   \n",
       "17                 Want        Have             Have        Want        Want   \n",
       "18           Don't know   Have;Want        Have;Want         NaN         NaN   \n",
       "19            Have;Want         NaN        Have;Want        Want   Have;Want   \n",
       "20           Don't know        Have             Have  Don't know  Don't know   \n",
       "21                  NaN        Have              NaN         NaN         NaN   \n",
       "22                  NaN   Have;Want             Want         NaN         NaN   \n",
       "23                 Want        Have             Want        Want   Have;Want   \n",
       "24                 Want   Have;Want  Want;Don't know   Have;Want        Want   \n",
       "25                  NaN        Have        Have;Want         NaN         NaN   \n",
       "26                 Have  Don't know             Have        Have        Have   \n",
       "\n",
       "        MATLAB  \n",
       "0         Have  \n",
       "1    Have;Want  \n",
       "2         Have  \n",
       "3   Don't know  \n",
       "4         Have  \n",
       "5         Have  \n",
       "6         Have  \n",
       "7         Want  \n",
       "8         Have  \n",
       "9         Want  \n",
       "10        Have  \n",
       "11        Have  \n",
       "12        Have  \n",
       "13   Have;Want  \n",
       "14        Have  \n",
       "15         NaN  \n",
       "16  Don't know  \n",
       "17        Have  \n",
       "18        Have  \n",
       "19        Have  \n",
       "20        Have  \n",
       "21        Have  \n",
       "22   Have;Want  \n",
       "23   Have;Want  \n",
       "24   Have;Want  \n",
       "25        Have  \n",
       "26        Have  \n",
       "\n",
       "[27 rows x 50 columns]"
      ]
     },
     "execution_count": 2,
     "metadata": {},
     "output_type": "execute_result"
    }
   ],
   "source": [
    "\n",
    "import pandas as pd\n",
    "\n",
    "df = pd.read_csv(\"Analytics skills _Responses.csv\")\n",
    "df"
   ]
  },
  {
   "cell_type": "code",
   "execution_count": 3,
   "metadata": {},
   "outputs": [
    {
     "data": {
      "text/plain": [
       "Index(['Python', 'Probability & Statistics', 'Data Visualization',\n",
       "       'Math (Algebra & Calculus)', 'Critical Thinking',\n",
       "       'Data Cleaning / Data Preparation / ETL', 'Communications Skills',\n",
       "       'Excel', 'SQL', 'Machine Learning Techniques', 'Business Understanding',\n",
       "       'Github', 'Scikit-learn', 'Reinforcement Learning', 'TensorFlow',\n",
       "       'Deep Learning Algorithms', 'PyTorch', 'AWS (Amazon Web Services)',\n",
       "       'NLP', 'Apache Spark', 'Docker', 'No-SQL Databases', 'Computer Vision',\n",
       "       'Kubernetes', 'Keras', 'Unstructured Data', 'Graph Databases',\n",
       "       'Survival Analysis', 'Google Cloud Computing', 'Microsoft Azure',\n",
       "       'DevOps', 'Kaggle', 'PowerBI',\n",
       "       'Big Data Tools other than Hadoop or Spark', 'Hadoop',\n",
       "       'Other DL frameworks', 'Julia', 'Scala', 'Epidemiology', 'Dask',\n",
       "       'Other Cloud Computing Platforms', 'SAS', 'R Language',\n",
       "       'Text Processing', 'Software Engineering', 'Tableau', 'XGBoost', 'Java',\n",
       "       'C++', 'MATLAB'],\n",
       "      dtype='object')"
      ]
     },
     "execution_count": 3,
     "metadata": {},
     "output_type": "execute_result"
    }
   ],
   "source": [
    "df.columns"
   ]
  },
  {
   "cell_type": "code",
   "execution_count": 4,
   "metadata": {},
   "outputs": [],
   "source": [
    "import numpy as np\n",
    "categories = {\"Programming languages\": [\"Python\", \"Java\", \"C++\", \"MATLAB\", \"SAS\", \"Scala\", \"Julia\", 'R Language'],    \n",
    "              \"Math & Stats\": [\"Math (Algebra & Calculus)\", \"Probability & Statistics\", \"Survival Analysis\", \"Epidemiology\"],\n",
    "              \"Business & Communication\": ['Business Understanding', 'Critical Thinking', 'Communications Skills', 'Excel', 'Data Visualization', 'Tableau', 'PowerBI'],\n",
    "              \"Data Science & ML Tools/Methods\": ['Data Cleaning / Data Preparation / ETL', 'Machine Learning Techniques', 'Scikit-learn', 'Text Processing', 'XGBoost', 'Unstructured Data', 'Kaggle', 'Reinforcement Learning'], \n",
    "              \"Software development\": ['Github', 'Software Engineering', 'Docker', 'DevOps', 'Kubernetes'], \n",
    "              \"SQL/ Databases\": ['SQL', 'No-SQL Databases', 'Graph Databases'],\n",
    "              \"Big data & cloud\": ['AWS (Amazon Web Services)', 'Apache Spark', 'Dask', 'Microsoft Azure', 'Google Cloud Computing', 'Hadoop', 'Big Data Tools other than Hadoop or Spark', 'Other Cloud Computing Platforms'],\n",
    "              \"Deep learning\": ['Deep Learning Algorithms', 'Keras', 'NLP', 'TensorFlow', 'Computer Vision', 'PyTorch', 'Other DL frameworks']\n",
    "}"
   ]
  },
  {
   "cell_type": "code",
   "execution_count": 5,
   "metadata": {},
   "outputs": [],
   "source": [
    "def find_skill_number(skills, skill):\n",
    "    for i, skill_type in enumerate(skills.keys()):\n",
    "            if skill in skills[skill_type]:\n",
    "                return i\n",
    "    print(f\"Skill {skill} not found\")\n",
    "    return -1"
   ]
  },
  {
   "cell_type": "code",
   "execution_count": 6,
   "metadata": {},
   "outputs": [],
   "source": [
    "\n",
    "df[\"Python\"].value_counts().get(\"Have;Want\", 0)\n",
    "\n",
    "results = dict()\n",
    "\n",
    "for column in df.columns:\n",
    "    results[f\"{column}_have\"] = (df[column].value_counts().get(\"Have\", 0) + df[column].value_counts().get(\"Have;Want\", 0))/len(df)*100\n",
    "\n",
    "    results[f\"{column}_want\"] = (df[column].value_counts().get(\"Want\", 0) + df[column].value_counts().get(\"Have;Want\", 0))/len(df)*100"
   ]
  },
  {
   "cell_type": "code",
   "execution_count": 17,
   "metadata": {},
   "outputs": [
    {
     "data": {
      "text/plain": [
       "(23.48148148148148, 21.77777777777778)"
      ]
     },
     "execution_count": 17,
     "metadata": {},
     "output_type": "execute_result"
    }
   ],
   "source": [
    "haves = 0\n",
    "wants = 0\n",
    "for column in df.columns:\n",
    "    haves += df[column].value_counts().get(\"Have\", 0) + df[column].value_counts().get(\"Have;Want\", 0)\n",
    "    wants += df[column].value_counts().get(\"Want\", 0) + df[column].value_counts().get(\"Have;Want\", 0)\n",
    "\n",
    "haves/len(df), wants/len(df)\n"
   ]
  },
  {
   "cell_type": "code",
   "execution_count": 8,
   "metadata": {},
   "outputs": [
    {
     "name": "stderr",
     "output_type": "stream",
     "text": [
      "/tmp/ipykernel_14146/3644687892.py:8: RuntimeWarning: divide by zero encountered in double_scalars\n",
      "  want_by_have = results[f\"{skill}_want\"] / results[f\"{skill}_have\"]\n"
     ]
    },
    {
     "data": {
      "image/png": "[encoded data removed]",
      "text/plain": [
       "<Figure size 1300x1000 with 1 Axes>"
      ]
     },
     "metadata": {},
     "output_type": "display_data"
    }
   ],
   "source": [
    "markers = ['o', 's', '^', 'v', '<', '>', 'D', 'p']    \n",
    "\n",
    "import matplotlib.pyplot as plt\n",
    "\n",
    "\n",
    "plt.figure(figsize=(13,10))\n",
    "for skill in df.columns:\n",
    "    want_by_have = results[f\"{skill}_want\"] / results[f\"{skill}_have\"]\n",
    "    if want_by_have > 1.2:\n",
    "        color = \"red\"\n",
    "    elif want_by_have < 0.8:\n",
    "        color = \"blue\"\n",
    "    else:\n",
    "        color = \"grey\"\n",
    "\n",
    "    plt.scatter(results[f\"{skill}_have\"], results[f\"{skill}_want\"], label=skill, color=color, marker = markers[find_skill_number(categories, skill)])\n",
    "    plt.annotate(skill, (results[f\"{skill}_have\"], results[f\"{skill}_want\"]), fontsize=10, rotation=30)\n",
    "\n",
    "plt.fill([0, 66 , 0, 0], [0, 80, 80, 0], fill=None, edgecolor='red') \n",
    "plt.annotate(\"Hot data science skills\", (0, 81), fontsize=16, color='red')\n",
    "plt.fill([0, 102, 102, 0], [0, 80, 0, 0], fill=None, edgecolor='blue')\n",
    "plt.annotate(\"Core data science skills\", (60, 1), fontsize=16, color=\"blue\")\n",
    "\n",
    "plt.title(\"Data Science Skills, Have vs want – 2023\")\n",
    "plt.xlabel(\"% Have\")\n",
    "plt.ylabel(\"% Want\")\n",
    "plt.show()\n"
   ]
  },
  {
   "cell_type": "code",
   "execution_count": 9,
   "metadata": {},
   "outputs": [
    {
     "data": {
      "text/plain": [
       "([55.55555555555556,\n",
       "  55.55555555555556,\n",
       "  70.37037037037037,\n",
       "  66.66666666666666,\n",
       "  55.55555555555556,\n",
       "  51.85185185185185,\n",
       "  66.66666666666666,\n",
       "  74.07407407407408],\n",
       " [100.0,\n",
       "  96.29629629629629,\n",
       "  100.0,\n",
       "  81.48148148148148,\n",
       "  66.66666666666666,\n",
       "  92.5925925925926,\n",
       "  44.44444444444444,\n",
       "  59.25925925925925])"
      ]
     },
     "execution_count": 9,
     "metadata": {},
     "output_type": "execute_result"
    }
   ],
   "source": [
    "max_haves = []\n",
    "max_wants = []\n",
    "for i, skills in enumerate(categories.values()):\n",
    "    max_haves.append(0)\n",
    "    max_wants.append(0)\n",
    "    for skill in skills:\n",
    "        max_haves[i] = max(max_haves[i], results[f\"{skill}_have\"])\n",
    "        max_wants[i] = max(max_wants[i], results[f\"{skill}_want\"])\n",
    "    \n",
    "max_wants, max_haves"
   ]
  },
  {
   "cell_type": "code",
   "execution_count": 10,
   "metadata": {},
   "outputs": [
    {
     "data": {
      "application/vnd.plotly.v1+json": {
       "config": {
        "plotlyServerURL": "https://plot.ly"
       },
       "data": [
        {
         "fill": "none",
         "line": {
          "color": "orange"
         },
         "name": "Max % want",
         "r": [
          55.55555555555556,
          55.55555555555556,
          70.37037037037037,
          66.66666666666666,
          55.55555555555556,
          51.85185185185185,
          66.66666666666666,
          74.07407407407408,
          55.55555555555556
         ],
         "theta": [
          "Programming languages",
          "Math & Stats",
          "Business & Communication",
          "Data Science & ML Tools/Methods",
          "Software development",
          "SQL/ Databases",
          "Big data & cloud",
          "Deep learning",
          "Programming languages"
         ],
         "type": "scatterpolar"
        },
        {
         "fill": "none",
         "line": {
          "color": "blue"
         },
         "name": "Max % have",
         "r": [
          100,
          96.29629629629629,
          100,
          81.48148148148148,
          66.66666666666666,
          92.5925925925926,
          44.44444444444444,
          59.25925925925925,
          100
         ],
         "theta": [
          "Programming languages",
          "Math & Stats",
          "Business & Communication",
          "Data Science & ML Tools/Methods",
          "Software development",
          "SQL/ Databases",
          "Big data & cloud",
          "Deep learning",
          "Programming languages"
         ],
         "type": "scatterpolar"
        }
       ],
       "layout": {
        "polar": {
         "radialaxis": {
          "range": [
           0,
           100
          ],
          "visible": true
         }
        },
        "showlegend": true,
        "template": {
         "data": {
          "bar": [
           {
            "error_x": {
             "color": "#2a3f5f"
            },
            "error_y": {
             "color": "#2a3f5f"
            },
            "marker": {
             "line": {
              "color": "#E5ECF6",
              "width": 0.5
             },
             "pattern": {
              "fillmode": "overlay",
              "size": 10,
              "solidity": 0.2
             }
            },
            "type": "bar"
           }
          ],
          "barpolar": [
           {
            "marker": {
             "line": {
              "color": "#E5ECF6",
              "width": 0.5
             },
             "pattern": {
              "fillmode": "overlay",
              "size": 10,
              "solidity": 0.2
             }
            },
            "type": "barpolar"
           }
          ],
          "carpet": [
           {
            "aaxis": {
             "endlinecolor": "#2a3f5f",
             "gridcolor": "white",
             "linecolor": "white",
             "minorgridcolor": "white",
             "startlinecolor": "#2a3f5f"
            },
            "baxis": {
             "endlinecolor": "#2a3f5f",
             "gridcolor": "white",
             "linecolor": "white",
             "minorgridcolor": "white",
             "startlinecolor": "#2a3f5f"
            },
            "type": "carpet"
           }
          ],
          "choropleth": [
           {
            "colorbar": {
             "outlinewidth": 0,
             "ticks": ""
            },
            "type": "choropleth"
           }
          ],
          "contour": [
           {
            "colorbar": {
             "outlinewidth": 0,
             "ticks": ""
            },
            "colorscale": [
             [
              0,
              "#0d0887"
             ],
             [
              0.1111111111111111,
              "#46039f"
             ],
             [
              0.2222222222222222,
              "#7201a8"
             ],
             [
              0.3333333333333333,
              "#9c179e"
             ],
             [
              0.4444444444444444,
              "#bd3786"
             ],
             [
              0.5555555555555556,
              "#d8576b"
             ],
             [
              0.6666666666666666,
              "#ed7953"
             ],
             [
              0.7777777777777778,
              "#fb9f3a"
             ],
             [
              0.8888888888888888,
              "#fdca26"
             ],
             [
              1,
              "#f0f921"
             ]
            ],
            "type": "contour"
           }
          ],
          "contourcarpet": [
           {
            "colorbar": {
             "outlinewidth": 0,
             "ticks": ""
            },
            "type": "contourcarpet"
           }
          ],
          "heatmap": [
           {
            "colorbar": {
             "outlinewidth": 0,
             "ticks": ""
            },
            "colorscale": [
             [
              0,
              "#0d0887"
             ],
             [
              0.1111111111111111,
              "#46039f"
             ],
             [
              0.2222222222222222,
              "#7201a8"
             ],
             [
              0.3333333333333333,
              "#9c179e"
             ],
             [
              0.4444444444444444,
              "#bd3786"
             ],
             [
              0.5555555555555556,
              "#d8576b"
             ],
             [
              0.6666666666666666,
              "#ed7953"
             ],
             [
              0.7777777777777778,
              "#fb9f3a"
             ],
             [
              0.8888888888888888,
              "#fdca26"
             ],
             [
              1,
              "#f0f921"
             ]
            ],
            "type": "heatmap"
           }
          ],
          "heatmapgl": [
           {
            "colorbar": {
             "outlinewidth": 0,
             "ticks": ""
            },
            "colorscale": [
             [
              0,
              "#0d0887"
             ],
             [
              0.1111111111111111,
              "#46039f"
             ],
             [
              0.2222222222222222,
              "#7201a8"
             ],
             [
              0.3333333333333333,
              "#9c179e"
             ],
             [
              0.4444444444444444,
              "#bd3786"
             ],
             [
              0.5555555555555556,
              "#d8576b"
             ],
             [
              0.6666666666666666,
              "#ed7953"
             ],
             [
              0.7777777777777778,
              "#fb9f3a"
             ],
             [
              0.8888888888888888,
              "#fdca26"
             ],
             [
              1,
              "#f0f921"
             ]
            ],
            "type": "heatmapgl"
           }
          ],
          "histogram": [
           {
            "marker": {
             "pattern": {
              "fillmode": "overlay",
              "size": 10,
              "solidity": 0.2
             }
            },
            "type": "histogram"
           }
          ],
          "histogram2d": [
           {
            "colorbar": {
             "outlinewidth": 0,
             "ticks": ""
            },
            "colorscale": [
             [
              0,
              "#0d0887"
             ],
             [
              0.1111111111111111,
              "#46039f"
             ],
             [
              0.2222222222222222,
              "#7201a8"
             ],
             [
              0.3333333333333333,
              "#9c179e"
             ],
             [
              0.4444444444444444,
              "#bd3786"
             ],
             [
              0.5555555555555556,
              "#d8576b"
             ],
             [
              0.6666666666666666,
              "#ed7953"
             ],
             [
              0.7777777777777778,
              "#fb9f3a"
             ],
             [
              0.8888888888888888,
              "#fdca26"
             ],
             [
              1,
              "#f0f921"
             ]
            ],
            "type": "histogram2d"
           }
          ],
          "histogram2dcontour": [
           {
            "colorbar": {
             "outlinewidth": 0,
             "ticks": ""
            },
            "colorscale": [
             [
              0,
              "#0d0887"
             ],
             [
              0.1111111111111111,
              "#46039f"
             ],
             [
              0.2222222222222222,
              "#7201a8"
             ],
             [
              0.3333333333333333,
              "#9c179e"
             ],
             [
              0.4444444444444444,
              "#bd3786"
             ],
             [
              0.5555555555555556,
              "#d8576b"
             ],
             [
              0.6666666666666666,
              "#ed7953"
             ],
             [
              0.7777777777777778,
              "#fb9f3a"
             ],
             [
              0.8888888888888888,
              "#fdca26"
             ],
             [
              1,
              "#f0f921"
             ]
            ],
            "type": "histogram2dcontour"
           }
          ],
          "mesh3d": [
           {
            "colorbar": {
             "outlinewidth": 0,
             "ticks": ""
            },
            "type": "mesh3d"
           }
          ],
          "parcoords": [
           {
            "line": {
             "colorbar": {
              "outlinewidth": 0,
              "ticks": ""
             }
            },
            "type": "parcoords"
           }
          ],
          "pie": [
           {
            "automargin": true,
            "type": "pie"
           }
          ],
          "scatter": [
           {
            "fillpattern": {
             "fillmode": "overlay",
             "size": 10,
             "solidity": 0.2
            },
            "type": "scatter"
           }
          ],
          "scatter3d": [
           {
            "line": {
             "colorbar": {
              "outlinewidth": 0,
              "ticks": ""
             }
            },
            "marker": {
             "colorbar": {
              "outlinewidth": 0,
              "ticks": ""
             }
            },
            "type": "scatter3d"
           }
          ],
          "scattercarpet": [
           {
            "marker": {
             "colorbar": {
              "outlinewidth": 0,
              "ticks": ""
             }
            },
            "type": "scattercarpet"
           }
          ],
          "scattergeo": [
           {
            "marker": {
             "colorbar": {
              "outlinewidth": 0,
              "ticks": ""
             }
            },
            "type": "scattergeo"
           }
          ],
          "scattergl": [
           {
            "marker": {
             "colorbar": {
              "outlinewidth": 0,
              "ticks": ""
             }
            },
            "type": "scattergl"
           }
          ],
          "scattermapbox": [
           {
            "marker": {
             "colorbar": {
              "outlinewidth": 0,
              "ticks": ""
             }
            },
            "type": "scattermapbox"
           }
          ],
          "scatterpolar": [
           {
            "marker": {
             "colorbar": {
              "outlinewidth": 0,
              "ticks": ""
             }
            },
            "type": "scatterpolar"
           }
          ],
          "scatterpolargl": [
           {
            "marker": {
             "colorbar": {
              "outlinewidth": 0,
              "ticks": ""
             }
            },
            "type": "scatterpolargl"
           }
          ],
          "scatterternary": [
           {
            "marker": {
             "colorbar": {
              "outlinewidth": 0,
              "ticks": ""
             }
            },
            "type": "scatterternary"
           }
          ],
          "surface": [
           {
            "colorbar": {
             "outlinewidth": 0,
             "ticks": ""
            },
            "colorscale": [
             [
              0,
              "#0d0887"
             ],
             [
              0.1111111111111111,
              "#46039f"
             ],
             [
              0.2222222222222222,
              "#7201a8"
             ],
             [
              0.3333333333333333,
              "#9c179e"
             ],
             [
              0.4444444444444444,
              "#bd3786"
             ],
             [
              0.5555555555555556,
              "#d8576b"
             ],
             [
              0.6666666666666666,
              "#ed7953"
             ],
             [
              0.7777777777777778,
              "#fb9f3a"
             ],
             [
              0.8888888888888888,
              "#fdca26"
             ],
             [
              1,
              "#f0f921"
             ]
            ],
            "type": "surface"
           }
          ],
          "table": [
           {
            "cells": {
             "fill": {
              "color": "#EBF0F8"
             },
             "line": {
              "color": "white"
             }
            },
            "header": {
             "fill": {
              "color": "#C8D4E3"
             },
             "line": {
              "color": "white"
             }
            },
            "type": "table"
           }
          ]
         },
         "layout": {
          "annotationdefaults": {
           "arrowcolor": "#2a3f5f",
           "arrowhead": 0,
           "arrowwidth": 1
          },
          "autotypenumbers": "strict",
          "coloraxis": {
           "colorbar": {
            "outlinewidth": 0,
            "ticks": ""
           }
          },
          "colorscale": {
           "diverging": [
            [
             0,
             "#8e0152"
            ],
            [
             0.1,
             "#c51b7d"
            ],
            [
             0.2,
             "#de77ae"
            ],
            [
             0.3,
             "#f1b6da"
            ],
            [
             0.4,
             "#fde0ef"
            ],
            [
             0.5,
             "#f7f7f7"
            ],
            [
             0.6,
             "#e6f5d0"
            ],
            [
             0.7,
             "#b8e186"
            ],
            [
             0.8,
             "#7fbc41"
            ],
            [
             0.9,
             "#4d9221"
            ],
            [
             1,
             "#276419"
            ]
           ],
           "sequential": [
            [
             0,
             "#0d0887"
            ],
            [
             0.1111111111111111,
             "#46039f"
            ],
            [
             0.2222222222222222,
             "#7201a8"
            ],
            [
             0.3333333333333333,
             "#9c179e"
            ],
            [
             0.4444444444444444,
             "#bd3786"
            ],
            [
             0.5555555555555556,
             "#d8576b"
            ],
            [
             0.6666666666666666,
             "#ed7953"
            ],
            [
             0.7777777777777778,
             "#fb9f3a"
            ],
            [
             0.8888888888888888,
             "#fdca26"
            ],
            [
             1,
             "#f0f921"
            ]
           ],
           "sequentialminus": [
            [
             0,
             "#0d0887"
            ],
            [
             0.1111111111111111,
             "#46039f"
            ],
            [
             0.2222222222222222,
             "#7201a8"
            ],
            [
             0.3333333333333333,
             "#9c179e"
            ],
            [
             0.4444444444444444,
             "#bd3786"
            ],
            [
             0.5555555555555556,
             "#d8576b"
            ],
            [
             0.6666666666666666,
             "#ed7953"
            ],
            [
             0.7777777777777778,
             "#fb9f3a"
            ],
            [
             0.8888888888888888,
             "#fdca26"
            ],
            [
             1,
             "#f0f921"
            ]
           ]
          },
          "colorway": [
           "#636efa",
           "#EF553B",
           "#00cc96",
           "#ab63fa",
           "#FFA15A",
           "#19d3f3",
           "#FF6692",
           "#B6E880",
           "#FF97FF",
           "#FECB52"
          ],
          "font": {
           "color": "#2a3f5f"
          },
          "geo": {
           "bgcolor": "white",
           "lakecolor": "white",
           "landcolor": "#E5ECF6",
           "showlakes": true,
           "showland": true,
           "subunitcolor": "white"
          },
          "hoverlabel": {
           "align": "left"
          },
          "hovermode": "closest",
          "mapbox": {
           "style": "light"
          },
          "paper_bgcolor": "white",
          "plot_bgcolor": "#E5ECF6",
          "polar": {
           "angularaxis": {
            "gridcolor": "white",
            "linecolor": "white",
            "ticks": ""
           },
           "bgcolor": "#E5ECF6",
           "radialaxis": {
            "gridcolor": "white",
            "linecolor": "white",
            "ticks": ""
           }
          },
          "scene": {
           "xaxis": {
            "backgroundcolor": "#E5ECF6",
            "gridcolor": "white",
            "gridwidth": 2,
            "linecolor": "white",
            "showbackground": true,
            "ticks": "",
            "zerolinecolor": "white"
           },
           "yaxis": {
            "backgroundcolor": "#E5ECF6",
            "gridcolor": "white",
            "gridwidth": 2,
            "linecolor": "white",
            "showbackground": true,
            "ticks": "",
            "zerolinecolor": "white"
           },
           "zaxis": {
            "backgroundcolor": "#E5ECF6",
            "gridcolor": "white",
            "gridwidth": 2,
            "linecolor": "white",
            "showbackground": true,
            "ticks": "",
            "zerolinecolor": "white"
           }
          },
          "shapedefaults": {
           "line": {
            "color": "#2a3f5f"
           }
          },
          "ternary": {
           "aaxis": {
            "gridcolor": "white",
            "linecolor": "white",
            "ticks": ""
           },
           "baxis": {
            "gridcolor": "white",
            "linecolor": "white",
            "ticks": ""
           },
           "bgcolor": "#E5ECF6",
           "caxis": {
            "gridcolor": "white",
            "linecolor": "white",
            "ticks": ""
           }
          },
          "title": {
           "x": 0.05
          },
          "xaxis": {
           "automargin": true,
           "gridcolor": "white",
           "linecolor": "white",
           "ticks": "",
           "title": {
            "standoff": 15
           },
           "zerolinecolor": "white",
           "zerolinewidth": 2
          },
          "yaxis": {
           "automargin": true,
           "gridcolor": "white",
           "linecolor": "white",
           "ticks": "",
           "title": {
            "standoff": 15
           },
           "zerolinecolor": "white",
           "zerolinewidth": 2
          }
         }
        },
        "title": {
         "text": "8 categories of modern data science skills, have vs want"
        }
       }
      }
     },
     "metadata": {},
     "output_type": "display_data"
    }
   ],
   "source": [
    "import plotly.graph_objects as go\n",
    "\n",
    "categories_names = list(categories.keys())\n",
    "\n",
    "fig = go.Figure()\n",
    "\n",
    "\n",
    "fig.add_trace(go.Scatterpolar(\n",
    "      r= max_wants + [max_wants[0]],\n",
    "      theta= categories_names + [categories_names[0]],\n",
    "      fill=\"none\",\n",
    "      name='Max % want',\n",
    "      line=dict(color='orange'),\n",
    "))\n",
    "\n",
    "fig.add_trace(go.Scatterpolar(\n",
    "      r = max_haves + [max_haves[0]],\n",
    "      theta = categories_names + [categories_names[0]],\n",
    "      fill = \"none\",\n",
    "      name = 'Max % have',\n",
    "      line=dict(color='blue')\n",
    "      \n",
    "))\n",
    "\n",
    "fig.update_layout(\n",
    "  polar=dict(\n",
    "    radialaxis=dict(\n",
    "      visible=True,\n",
    "      range=[0, 100]\n",
    "    )),\n",
    "  showlegend=True,\n",
    "  title = \"8 categories of modern data science skills, have vs want\"\n",
    ")\n",
    "\n",
    "fig.show()\n"
   ]
  },
  {
   "cell_type": "markdown",
   "metadata": {},
   "source": [
    "**Compare the results of the 2020 KDnuggets poll with those obtained for the class group.**\n",
    "\n",
    "Students believe they have a bit biger lever of all skills and wanting of them than the KDnuggets poll participants. However, the populatrity of the categories is similar. For the students a bit more of them wants to learn buisness & communication. \n",
    "\n",
    "Looking at hot and core data science skills, students believe Tableau and MATLAB are core skills. Also more of them wants to learn excel. ML techniques, github and scikit learn, which are important for kdnuggets participants, are not so important for the students. Suprisingly, NLP is also treated as core skills, when in kdnuggets is a hot one, which not many people have. Deep learning algorithms remine hot with very high percentage of wants and most percentage of haves in both groups.\n",
    "\n",
    "**What would you change about the study to get more insight?**\n",
    "I'd analyse each category separately to know e.g. which Programming languages are the most popular. I'd also change the plot to show the average percentage of people wanting to learn a skill, not the max of them. I believe it would be more informative.\n",
    "\n"
   ]
  },
  {
   "cell_type": "markdown",
   "metadata": {},
   "source": []
  }
 ],
 "metadata": {
  "kernelspec": {
   "display_name": "Python 3",
   "language": "python",
   "name": "python3"
  },
  "language_info": {
   "codemirror_mode": {
    "name": "ipython",
    "version": 3
   },
   "file_extension": ".py",
   "mimetype": "text/x-python",
   "name": "python",
   "nbconvert_exporter": "python",
   "pygments_lexer": "ipython3",
   "version": "3.10.9"
  }
 },
 "nbformat": 4,
 "nbformat_minor": 2
}
