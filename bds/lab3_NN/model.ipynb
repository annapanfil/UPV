{
 "cells": [
  {
   "cell_type": "code",
   "execution_count": 1,
   "metadata": {},
   "outputs": [],
   "source": [
    "import pandas as pd"
   ]
  },
  {
   "cell_type": "code",
   "execution_count": 2,
   "metadata": {},
   "outputs": [
    {
     "name": "stdout",
     "output_type": "stream",
     "text": [
      "<class 'pandas.core.frame.DataFrame'>\n",
      "Int64Index: 91 entries, 0 to 90\n",
      "Data columns (total 16 columns):\n",
      " #   Column         Non-Null Count  Dtype  \n",
      "---  ------         --------------  -----  \n",
      " 0   METABOLITE 0   91 non-null     float64\n",
      " 1   METABOLITE 1   91 non-null     float64\n",
      " 2   METABOLITE 2   91 non-null     float64\n",
      " 3   METABOLITE 3   91 non-null     float64\n",
      " 4   METABOLITE 4   91 non-null     float64\n",
      " 5   METABOLITE 5   91 non-null     float64\n",
      " 6   METABOLITE 6   91 non-null     float64\n",
      " 7   METABOLITE 7   91 non-null     float64\n",
      " 8   METABOLITE 8   91 non-null     float64\n",
      " 9   METABOLITE 9   91 non-null     float64\n",
      " 10  METABOLITE 10  91 non-null     float64\n",
      " 11  METABOLITE 11  91 non-null     float64\n",
      " 12  METABOLITE 12  91 non-null     float64\n",
      " 13  METABOLITE 13  91 non-null     float64\n",
      " 14  METABOLITE 14  91 non-null     float64\n",
      " 15  TYPE           91 non-null     object \n",
      "dtypes: float64(15), object(1)\n",
      "memory usage: 12.1+ KB\n"
     ]
    }
   ],
   "source": [
    "df = pd.read_csv(\"Metabolite_concentrations_diagnosis.csv\", sep=\";\", decimal=\",\", index_col=0)\n",
    "\n",
    "df.info()"
   ]
  },
  {
   "cell_type": "code",
   "execution_count": 3,
   "metadata": {},
   "outputs": [
    {
     "data": {
      "text/html": [
       "<div>\n",
       "<style scoped>\n",
       "    .dataframe tbody tr th:only-of-type {\n",
       "        vertical-align: middle;\n",
       "    }\n",
       "\n",
       "    .dataframe tbody tr th {\n",
       "        vertical-align: top;\n",
       "    }\n",
       "\n",
       "    .dataframe thead th {\n",
       "        text-align: right;\n",
       "    }\n",
       "</style>\n",
       "<table border=\"1\" class=\"dataframe\">\n",
       "  <thead>\n",
       "    <tr style=\"text-align: right;\">\n",
       "      <th></th>\n",
       "      <th>METABOLITE 0</th>\n",
       "      <th>METABOLITE 1</th>\n",
       "      <th>METABOLITE 2</th>\n",
       "      <th>METABOLITE 3</th>\n",
       "      <th>METABOLITE 4</th>\n",
       "      <th>METABOLITE 5</th>\n",
       "      <th>METABOLITE 6</th>\n",
       "      <th>METABOLITE 7</th>\n",
       "      <th>METABOLITE 8</th>\n",
       "      <th>METABOLITE 9</th>\n",
       "      <th>METABOLITE 10</th>\n",
       "      <th>METABOLITE 11</th>\n",
       "      <th>METABOLITE 12</th>\n",
       "      <th>METABOLITE 13</th>\n",
       "      <th>METABOLITE 14</th>\n",
       "      <th>TYPE</th>\n",
       "    </tr>\n",
       "  </thead>\n",
       "  <tbody>\n",
       "    <tr>\n",
       "      <th>0</th>\n",
       "      <td>0.322695</td>\n",
       "      <td>0.575024</td>\n",
       "      <td>0.742645</td>\n",
       "      <td>0.635958</td>\n",
       "      <td>0.544804</td>\n",
       "      <td>0.785336</td>\n",
       "      <td>0.885756</td>\n",
       "      <td>0.577938</td>\n",
       "      <td>0.123017</td>\n",
       "      <td>0.701689</td>\n",
       "      <td>0.731254</td>\n",
       "      <td>0.846980</td>\n",
       "      <td>3.551957</td>\n",
       "      <td>3.742832</td>\n",
       "      <td>1.719949</td>\n",
       "      <td>MENINGIOMA</td>\n",
       "    </tr>\n",
       "    <tr>\n",
       "      <th>1</th>\n",
       "      <td>0.457408</td>\n",
       "      <td>0.764700</td>\n",
       "      <td>0.444451</td>\n",
       "      <td>0.451300</td>\n",
       "      <td>0.388213</td>\n",
       "      <td>0.401597</td>\n",
       "      <td>0.382574</td>\n",
       "      <td>0.407632</td>\n",
       "      <td>0.715072</td>\n",
       "      <td>1.216084</td>\n",
       "      <td>1.204490</td>\n",
       "      <td>2.329079</td>\n",
       "      <td>3.179366</td>\n",
       "      <td>3.117351</td>\n",
       "      <td>1.252479</td>\n",
       "      <td>MENINGIOMA</td>\n",
       "    </tr>\n",
       "    <tr>\n",
       "      <th>2</th>\n",
       "      <td>1.452870</td>\n",
       "      <td>1.152910</td>\n",
       "      <td>0.647735</td>\n",
       "      <td>0.622494</td>\n",
       "      <td>0.648020</td>\n",
       "      <td>0.826787</td>\n",
       "      <td>0.797439</td>\n",
       "      <td>0.695269</td>\n",
       "      <td>0.850328</td>\n",
       "      <td>0.910488</td>\n",
       "      <td>0.914841</td>\n",
       "      <td>1.805095</td>\n",
       "      <td>2.156737</td>\n",
       "      <td>2.152553</td>\n",
       "      <td>1.081571</td>\n",
       "      <td>MENINGIOMA</td>\n",
       "    </tr>\n",
       "    <tr>\n",
       "      <th>3</th>\n",
       "      <td>0.157588</td>\n",
       "      <td>0.314415</td>\n",
       "      <td>0.251613</td>\n",
       "      <td>0.186498</td>\n",
       "      <td>0.100556</td>\n",
       "      <td>0.287618</td>\n",
       "      <td>0.334349</td>\n",
       "      <td>0.213802</td>\n",
       "      <td>0.305852</td>\n",
       "      <td>0.754096</td>\n",
       "      <td>0.627211</td>\n",
       "      <td>1.566407</td>\n",
       "      <td>4.274654</td>\n",
       "      <td>4.210731</td>\n",
       "      <td>1.128131</td>\n",
       "      <td>MENINGIOMA</td>\n",
       "    </tr>\n",
       "    <tr>\n",
       "      <th>4</th>\n",
       "      <td>0.368681</td>\n",
       "      <td>0.206993</td>\n",
       "      <td>0.211521</td>\n",
       "      <td>0.034699</td>\n",
       "      <td>0.164187</td>\n",
       "      <td>0.364590</td>\n",
       "      <td>0.340892</td>\n",
       "      <td>0.110287</td>\n",
       "      <td>0.260206</td>\n",
       "      <td>0.531801</td>\n",
       "      <td>0.496068</td>\n",
       "      <td>0.654805</td>\n",
       "      <td>4.070067</td>\n",
       "      <td>4.324002</td>\n",
       "      <td>1.350580</td>\n",
       "      <td>MENINGIOMA</td>\n",
       "    </tr>\n",
       "  </tbody>\n",
       "</table>\n",
       "</div>"
      ],
      "text/plain": [
       "   METABOLITE 0  METABOLITE 1  METABOLITE 2  METABOLITE 3  METABOLITE 4  \\\n",
       "0      0.322695      0.575024      0.742645      0.635958      0.544804   \n",
       "1      0.457408      0.764700      0.444451      0.451300      0.388213   \n",
       "2      1.452870      1.152910      0.647735      0.622494      0.648020   \n",
       "3      0.157588      0.314415      0.251613      0.186498      0.100556   \n",
       "4      0.368681      0.206993      0.211521      0.034699      0.164187   \n",
       "\n",
       "   METABOLITE 5  METABOLITE 6  METABOLITE 7  METABOLITE 8  METABOLITE 9  \\\n",
       "0      0.785336      0.885756      0.577938      0.123017      0.701689   \n",
       "1      0.401597      0.382574      0.407632      0.715072      1.216084   \n",
       "2      0.826787      0.797439      0.695269      0.850328      0.910488   \n",
       "3      0.287618      0.334349      0.213802      0.305852      0.754096   \n",
       "4      0.364590      0.340892      0.110287      0.260206      0.531801   \n",
       "\n",
       "   METABOLITE 10  METABOLITE 11  METABOLITE 12  METABOLITE 13  METABOLITE 14  \\\n",
       "0       0.731254       0.846980       3.551957       3.742832       1.719949   \n",
       "1       1.204490       2.329079       3.179366       3.117351       1.252479   \n",
       "2       0.914841       1.805095       2.156737       2.152553       1.081571   \n",
       "3       0.627211       1.566407       4.274654       4.210731       1.128131   \n",
       "4       0.496068       0.654805       4.070067       4.324002       1.350580   \n",
       "\n",
       "         TYPE  \n",
       "0  MENINGIOMA  \n",
       "1  MENINGIOMA  \n",
       "2  MENINGIOMA  \n",
       "3  MENINGIOMA  \n",
       "4  MENINGIOMA  "
      ]
     },
     "execution_count": 3,
     "metadata": {},
     "output_type": "execute_result"
    }
   ],
   "source": [
    "df.head()"
   ]
  },
  {
   "cell_type": "code",
   "execution_count": 4,
   "metadata": {},
   "outputs": [
    {
     "data": {
      "text/html": [
       "<div>\n",
       "<style scoped>\n",
       "    .dataframe tbody tr th:only-of-type {\n",
       "        vertical-align: middle;\n",
       "    }\n",
       "\n",
       "    .dataframe tbody tr th {\n",
       "        vertical-align: top;\n",
       "    }\n",
       "\n",
       "    .dataframe thead th {\n",
       "        text-align: right;\n",
       "    }\n",
       "</style>\n",
       "<table border=\"1\" class=\"dataframe\">\n",
       "  <thead>\n",
       "    <tr style=\"text-align: right;\">\n",
       "      <th></th>\n",
       "      <th>ASTROCYTOMA</th>\n",
       "      <th>GLIOBLASTOMA</th>\n",
       "      <th>MENINGIOMA</th>\n",
       "    </tr>\n",
       "  </thead>\n",
       "  <tbody>\n",
       "    <tr>\n",
       "      <th>0</th>\n",
       "      <td>0</td>\n",
       "      <td>0</td>\n",
       "      <td>1</td>\n",
       "    </tr>\n",
       "    <tr>\n",
       "      <th>1</th>\n",
       "      <td>0</td>\n",
       "      <td>0</td>\n",
       "      <td>1</td>\n",
       "    </tr>\n",
       "    <tr>\n",
       "      <th>2</th>\n",
       "      <td>0</td>\n",
       "      <td>0</td>\n",
       "      <td>1</td>\n",
       "    </tr>\n",
       "    <tr>\n",
       "      <th>3</th>\n",
       "      <td>0</td>\n",
       "      <td>0</td>\n",
       "      <td>1</td>\n",
       "    </tr>\n",
       "    <tr>\n",
       "      <th>4</th>\n",
       "      <td>0</td>\n",
       "      <td>0</td>\n",
       "      <td>1</td>\n",
       "    </tr>\n",
       "  </tbody>\n",
       "</table>\n",
       "</div>"
      ],
      "text/plain": [
       "   ASTROCYTOMA  GLIOBLASTOMA  MENINGIOMA\n",
       "0            0             0           1\n",
       "1            0             0           1\n",
       "2            0             0           1\n",
       "3            0             0           1\n",
       "4            0             0           1"
      ]
     },
     "execution_count": 4,
     "metadata": {},
     "output_type": "execute_result"
    }
   ],
   "source": [
    "X = df.drop(\"TYPE\", axis=1)\n",
    "Y = pd.get_dummies(df[\"TYPE\"], columns=[\"TYPE\"])\n",
    "Y.head()"
   ]
  },
  {
   "cell_type": "code",
   "execution_count": 5,
   "metadata": {},
   "outputs": [],
   "source": [
    "from sklearn.model_selection import train_test_split\n",
    "X_train, X_test, y_train, y_test =  train_test_split(X, Y, test_size=0.3, random_state=42)"
   ]
  },
  {
   "cell_type": "code",
   "execution_count": 11,
   "metadata": {},
   "outputs": [
    {
     "data": {
      "application/vnd.jupyter.widget-view+json": {
       "model_id": "a72701b616764bf3a91b09fa4ea7c7aa",
       "version_major": 2,
       "version_minor": 0
      },
      "text/plain": [
       "Summarize dataset:   0%|          | 0/5 [00:00<?, ?it/s]"
      ]
     },
     "metadata": {},
     "output_type": "display_data"
    },
    {
     "data": {
      "application/vnd.jupyter.widget-view+json": {
       "model_id": "2603ca8d9b994290983ebe239650d174",
       "version_major": 2,
       "version_minor": 0
      },
      "text/plain": [
       "Generate report structure:   0%|          | 0/1 [00:00<?, ?it/s]"
      ]
     },
     "metadata": {},
     "output_type": "display_data"
    },
    {
     "data": {
      "application/vnd.jupyter.widget-view+json": {
       "model_id": "da89d6db994947a5b953a37661e55ca2",
       "version_major": 2,
       "version_minor": 0
      },
      "text/plain": [
       "Render HTML:   0%|          | 0/1 [00:00<?, ?it/s]"
      ]
     },
     "metadata": {},
     "output_type": "display_data"
    },
    {
     "data": {
      "application/vnd.jupyter.widget-view+json": {
       "model_id": "df531e8c271b4ff289615d91c67feb38",
       "version_major": 2,
       "version_minor": 0
      },
      "text/plain": [
       "Export report to file:   0%|          | 0/1 [00:00<?, ?it/s]"
      ]
     },
     "metadata": {},
     "output_type": "display_data"
    }
   ],
   "source": [
    "import ydata_profiling as ydp\n",
    "# generate profiling report and save it\n",
    "report = ydp.ProfileReport(pd.concat([X_train, y_train], axis=1))\n",
    "report.to_file(\"report.html\")"
   ]
  },
  {
   "cell_type": "markdown",
   "metadata": {},
   "source": [
    "Dataset contains 91 examples described by 16 features – 15 metabolites and type of cancer. The data were divided to the training and test set. The training set will be described further.\n",
    "\n",
    "There are 63 examples in this set. Each example has one-hot encoded predictive feature – type of cancer. Classes are unbalanced. Meningtoma appears 35 times, astrocytoma – 15 and glioblastoma – 13. It's inversely proportional to the malignancy of the tumor. Therefore, it is crucial to detect the minority classes correctly. \n",
    "The metabolites ranges vary, but generally it can be said that there are real numbers mostly greater than 0 and always under 4,5. Distribution of values mostly aren't normal, maybe with except of metabolite 9 (but its a bit skewed) and 11. Some metabolites are highly correlated. Eg. metabolite 12 and 13 are highly correlated and also correlate negatively with all metabolites from 0 to 10. Simmilar situation occurs with metabolites 11 and 14. Moreover metabolite 2 quite highly correlates with 3 and 5 with 6."
   ]
  },
  {
   "cell_type": "code",
   "execution_count": 6,
   "metadata": {},
   "outputs": [],
   "source": [
    "import torch\n",
    "from sklearn.preprocessing import MinMaxScaler\n",
    "\n",
    "scaler = MinMaxScaler()\n",
    "X_train = pd.DataFrame(scaler.fit_transform(X_train), columns=X_train.columns)\n",
    "X_test = pd.DataFrame(scaler.transform(X_test), columns=X_test.columns)\n",
    "\n",
    "X_train, X_test, y_train, y_test = torch.tensor(X_train.values), torch.tensor(X_test.values), torch.tensor(y_train.values), torch.tensor(y_test.values)\n",
    "X_train = X_train.to(torch.float32)\n",
    "y_train = y_train.to(torch.float32)\n",
    "X_test = X_test.to(torch.float32)\n",
    "y_test = y_test.to(torch.float32)\n"
   ]
  },
  {
   "cell_type": "code",
   "execution_count": 7,
   "metadata": {},
   "outputs": [
    {
     "name": "stdout",
     "output_type": "stream",
     "text": [
      "Epoka 1/100, Strata: 0.3105586767196655\n",
      "Strata walidacyjna: 0.3054589629173279\n",
      "Epoka 11/100, Strata: 0.23558780550956726\n",
      "Strata walidacyjna: 0.22918841242790222\n",
      "Epoka 21/100, Strata: 0.19713923335075378\n",
      "Strata walidacyjna: 0.19138677418231964\n",
      "Epoka 31/100, Strata: 0.18677353858947754\n",
      "Strata walidacyjna: 0.18139466643333435\n",
      "Epoka 41/100, Strata: 0.17160911858081818\n",
      "Strata walidacyjna: 0.16837598383426666\n",
      "Epoka 51/100, Strata: 0.1562720090150833\n",
      "Strata walidacyjna: 0.1622355580329895\n",
      "Epoka 61/100, Strata: 0.14040672779083252\n",
      "Strata walidacyjna: 0.15643250942230225\n",
      "Epoka 71/100, Strata: 0.12811188399791718\n",
      "Strata walidacyjna: 0.1521192342042923\n",
      "Epoka 81/100, Strata: 0.12158579379320145\n",
      "Strata walidacyjna: 0.1526457965373993\n",
      "Epoka 91/100, Strata: 0.11643164604902267\n",
      "Strata walidacyjna: 0.15137751400470734\n"
     ]
    }
   ],
   "source": [
    "import torch\n",
    "import torch.nn as nn\n",
    "import torch.optim as optim\n",
    "\n",
    "class MojaSiec(nn.Module):\n",
    "    def __init__(self):\n",
    "        super(MojaSiec, self).__init__()\n",
    "        self.fc1 = nn.Linear(15, 64)  # Warstwa w pełni połączona z 14 wejściami i 64 neuronami\n",
    "        self.fc2 = nn.Linear(64, 32)  # Warstwa w pełni połączona z 64 neuronami i 32 neuronami\n",
    "        self.fc3 = nn.Linear(32, 3)   # Warstwa w pełni połączona z 32 neuronami i 3 wyjściami\n",
    "\n",
    "    def forward(self, x):\n",
    "        x = torch.relu(self.fc1(x))  # Funkcja aktywacji ReLU po pierwszej warstwie\n",
    "        x = torch.relu(self.fc2(x))  # Funkcja aktywacji ReLU po drugiej warstwie\n",
    "        x = self.fc3(x)             # Brak funkcji aktywacji po ostatniej warstwie\n",
    "        return x\n",
    "\n",
    "# Inicjalizacja modelu\n",
    "model = MojaSiec()\n",
    "\n",
    "# Definicja funkcji straty i optymalizatora\n",
    "criterion = nn.MSELoss()  # Wybierz odpowiednią funkcję straty\n",
    "optimizer = optim.Adam(model.parameters(), lr=0.001)  # Wybierz odpowiedni optymalizator i współczynnik uczenia\n",
    "\n",
    "# Uczenie modelu\n",
    "epochs = 100  # Liczba epok uczenia\n",
    "for epoch in range(epochs):\n",
    "    # Zerowanie gradientów\n",
    "    optimizer.zero_grad()\n",
    "\n",
    "    # Przewidywanie na podstawie danych treningowych\n",
    "    outputs = model(X_train)\n",
    "\n",
    "    # Obliczenie funkcji straty\n",
    "    loss = criterion(outputs, y_train)\n",
    "\n",
    "    # Propagacja wsteczna\n",
    "    loss.backward()\n",
    "\n",
    "    # Aktualizacja wag\n",
    "    optimizer.step()\n",
    "\n",
    "    if epoch % 10 == 0:\n",
    "        # Wypisywanie bieżącego stanu uczenia\n",
    "        print(f'Epoka {epoch+1}/{epochs}, Strata: {loss.item()}')\n",
    "    \n",
    "        # Walidacja na zbiorze testowym\n",
    "        model.eval()  # Ustawienie modelu w tryb ewaluacji (wyłączenie Dropout itp.)\n",
    "\n",
    "        # Przewidywanie na podstawie danych testowych\n",
    "        outputs_test = model(X_test)\n",
    "\n",
    "        # Obliczenie funkcji straty na danych testowych\n",
    "        loss_test = criterion(outputs_test, y_test)\n",
    "\n",
    "        # Wypisywanie bieżącego stanu walidacji\n",
    "        print(f'Strata walidacyjna: {loss_test.item()}')\n",
    "\n"
   ]
  },
  {
   "cell_type": "code",
   "execution_count": 8,
   "metadata": {},
   "outputs": [
    {
     "name": "stdout",
     "output_type": "stream",
     "text": [
      "Dokładność klasyfikacji: 64.29%\n"
     ]
    },
    {
     "name": "stderr",
     "output_type": "stream",
     "text": [
      "/home/anna/.local/lib/python3.10/site-packages/sklearn/neural_network/_multilayer_perceptron.py:684: ConvergenceWarning: Stochastic Optimizer: Maximum iterations (1000) reached and the optimization hasn't converged yet.\n",
      "  warnings.warn(\n"
     ]
    }
   ],
   "source": [
    "from sklearn.neural_network import MLPClassifier\n",
    "from sklearn.model_selection import train_test_split\n",
    "from sklearn.metrics import accuracy_score\n",
    "import numpy as np\n",
    "\n",
    "model = MLPClassifier(hidden_layer_sizes=(64, 32), max_iter=1000, random_state=42)  # Ustawiłem dwa ukryte warstwy o rozmiarach 64 i 32, można dostosować\n",
    "\n",
    "model.fit(X_train, y_train)  # Uczenie modelu na danych treningowych\n",
    "\n",
    "y_pred = model.predict(X_test)\n",
    "\n",
    "accuracy = accuracy_score(y_test, y_pred)\n",
    "print(f'Dokładność klasyfikacji: {accuracy * 100:.2f}%')\n",
    "\n"
   ]
  },
  {
   "cell_type": "code",
   "execution_count": 11,
   "metadata": {},
   "outputs": [
    {
     "name": "stderr",
     "output_type": "stream",
     "text": [
      "/home/anna/.local/lib/python3.10/site-packages/sklearn/neural_network/_multilayer_perceptron.py:684: ConvergenceWarning: Stochastic Optimizer: Maximum iterations (1000) reached and the optimization hasn't converged yet.\n",
      "  warnings.warn(\n",
      "/home/anna/.local/lib/python3.10/site-packages/sklearn/neural_network/_multilayer_perceptron.py:684: ConvergenceWarning: Stochastic Optimizer: Maximum iterations (1000) reached and the optimization hasn't converged yet.\n",
      "  warnings.warn(\n",
      "/home/anna/.local/lib/python3.10/site-packages/sklearn/neural_network/_multilayer_perceptron.py:684: ConvergenceWarning: Stochastic Optimizer: Maximum iterations (1000) reached and the optimization hasn't converged yet.\n",
      "  warnings.warn(\n",
      "/home/anna/.local/lib/python3.10/site-packages/sklearn/neural_network/_multilayer_perceptron.py:684: ConvergenceWarning: Stochastic Optimizer: Maximum iterations (1000) reached and the optimization hasn't converged yet.\n",
      "  warnings.warn(\n",
      "/home/anna/.local/lib/python3.10/site-packages/sklearn/neural_network/_multilayer_perceptron.py:684: ConvergenceWarning: Stochastic Optimizer: Maximum iterations (1000) reached and the optimization hasn't converged yet.\n",
      "  warnings.warn(\n",
      "/home/anna/.local/lib/python3.10/site-packages/sklearn/neural_network/_multilayer_perceptron.py:684: ConvergenceWarning: Stochastic Optimizer: Maximum iterations (1000) reached and the optimization hasn't converged yet.\n",
      "  warnings.warn(\n",
      "/home/anna/.local/lib/python3.10/site-packages/sklearn/neural_network/_multilayer_perceptron.py:684: ConvergenceWarning: Stochastic Optimizer: Maximum iterations (1000) reached and the optimization hasn't converged yet.\n",
      "  warnings.warn(\n"
     ]
    },
    {
     "name": "stdout",
     "output_type": "stream",
     "text": [
      "Najlepsze parametry znalezione w Grid Search:\n",
      "{'activation': 'tanh', 'hidden_layer_sizes': (32, 32)}\n",
      "Dokładność klasyfikacji na danych testowych: 64.29%\n"
     ]
    },
    {
     "name": "stderr",
     "output_type": "stream",
     "text": [
      "/home/anna/.local/lib/python3.10/site-packages/sklearn/neural_network/_multilayer_perceptron.py:684: ConvergenceWarning: Stochastic Optimizer: Maximum iterations (1000) reached and the optimization hasn't converged yet.\n",
      "  warnings.warn(\n"
     ]
    }
   ],
   "source": [
    "from sklearn.neural_network import MLPClassifier\n",
    "from sklearn.model_selection import GridSearchCV\n",
    "from sklearn.metrics import accuracy_score\n",
    "\n",
    "model = MLPClassifier(max_iter=1000, random_state=42)\n",
    "\n",
    "# Definicja przestrzeni parametrów do przeszukania\n",
    "param_grid = {\n",
    "    'hidden_layer_sizes': [(32, 32)],  \n",
    "            \"activation\": [ \"tanh\", \"relu\"],  \n",
    "}\n",
    "\n",
    "grid_search = GridSearchCV(model, param_grid, cv=5)  # cv to liczba podziałów dla walidacji krzyżowej\n",
    "\n",
    "grid_search.fit(X_train, y_train)\n",
    "\n",
    "print(\"Najlepsze parametry znalezione w Grid Search:\")\n",
    "print(grid_search.best_params_)\n",
    "\n",
    "y_pred = grid_search.predict(X_test)\n",
    "\n",
    "accuracy = accuracy_score(y_test, y_pred)\n",
    "print(f'Dokładność klasyfikacji na danych testowych: {accuracy * 100:.2f}%')\n"
   ]
  },
  {
   "cell_type": "code",
   "execution_count": null,
   "metadata": {},
   "outputs": [],
   "source": []
  }
 ],
 "metadata": {
  "kernelspec": {
   "display_name": "ml",
   "language": "python",
   "name": "python3"
  },
  "language_info": {
   "codemirror_mode": {
    "name": "ipython",
    "version": 3
   },
   "file_extension": ".py",
   "mimetype": "text/x-python",
   "name": "python",
   "nbconvert_exporter": "python",
   "pygments_lexer": "ipython3",
   "version": "3.10.9"
  },
  "orig_nbformat": 4
 },
 "nbformat": 4,
 "nbformat_minor": 2
}
