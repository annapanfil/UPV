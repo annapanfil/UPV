{
 "cells": [
  {
   "cell_type": "code",
   "execution_count": 2,
   "metadata": {},
   "outputs": [],
   "source": [
    "import pandas as pd"
   ]
  },
  {
   "cell_type": "code",
   "execution_count": 3,
   "metadata": {},
   "outputs": [
    {
     "name": "stdout",
     "output_type": "stream",
     "text": [
      "<class 'pandas.core.frame.DataFrame'>\n",
      "RangeIndex: 91 entries, 0 to 90\n",
      "Data columns (total 17 columns):\n",
      " #   Column         Non-Null Count  Dtype  \n",
      "---  ------         --------------  -----  \n",
      " 0   Unnamed: 0     91 non-null     int64  \n",
      " 1   METABOLITE 0   91 non-null     float64\n",
      " 2   METABOLITE 1   91 non-null     float64\n",
      " 3   METABOLITE 2   91 non-null     float64\n",
      " 4   METABOLITE 3   91 non-null     float64\n",
      " 5   METABOLITE 4   91 non-null     float64\n",
      " 6   METABOLITE 5   91 non-null     float64\n",
      " 7   METABOLITE 6   91 non-null     float64\n",
      " 8   METABOLITE 7   91 non-null     float64\n",
      " 9   METABOLITE 8   91 non-null     float64\n",
      " 10  METABOLITE 9   91 non-null     float64\n",
      " 11  METABOLITE 10  91 non-null     float64\n",
      " 12  METABOLITE 11  91 non-null     float64\n",
      " 13  METABOLITE 12  91 non-null     float64\n",
      " 14  METABOLITE 13  91 non-null     float64\n",
      " 15  METABOLITE 14  91 non-null     float64\n",
      " 16  TYPE           91 non-null     object \n",
      "dtypes: float64(15), int64(1), object(1)\n",
      "memory usage: 12.2+ KB\n"
     ]
    }
   ],
   "source": [
    "df = pd.read_csv(\"Metabolite_concentrations_diagnosis.csv\", sep=\";\", decimal=\",\")\n",
    "\n",
    "\n",
    "df.info()"
   ]
  },
  {
   "cell_type": "code",
   "execution_count": null,
   "metadata": {},
   "outputs": [],
   "source": []
  },
  {
   "cell_type": "code",
   "execution_count": null,
   "metadata": {},
   "outputs": [],
   "source": []
  },
  {
   "cell_type": "code",
   "execution_count": 50,
   "metadata": {},
   "outputs": [
    {
     "data": {
      "application/vnd.jupyter.widget-view+json": {
       "model_id": "8900d71d0b7746118548b72b9947f474",
       "version_major": 2,
       "version_minor": 0
      },
      "text/plain": [
       "Summarize dataset:   0%|          | 0/5 [00:00<?, ?it/s]"
      ]
     },
     "metadata": {},
     "output_type": "display_data"
    }
   ],
   "source": [
    "import ydata_profiling as ydp\n",
    "ydp.ProfileReport(df)"
   ]
  },
  {
   "cell_type": "code",
   "execution_count": 4,
   "metadata": {},
   "outputs": [
    {
     "data": {
      "text/html": [
       "<div>\n",
       "<style scoped>\n",
       "    .dataframe tbody tr th:only-of-type {\n",
       "        vertical-align: middle;\n",
       "    }\n",
       "\n",
       "    .dataframe tbody tr th {\n",
       "        vertical-align: top;\n",
       "    }\n",
       "\n",
       "    .dataframe thead th {\n",
       "        text-align: right;\n",
       "    }\n",
       "</style>\n",
       "<table border=\"1\" class=\"dataframe\">\n",
       "  <thead>\n",
       "    <tr style=\"text-align: right;\">\n",
       "      <th></th>\n",
       "      <th>ASTROCYTOMA</th>\n",
       "      <th>GLIOBLASTOMA</th>\n",
       "      <th>MENINGIOMA</th>\n",
       "    </tr>\n",
       "  </thead>\n",
       "  <tbody>\n",
       "    <tr>\n",
       "      <th>0</th>\n",
       "      <td>0</td>\n",
       "      <td>0</td>\n",
       "      <td>1</td>\n",
       "    </tr>\n",
       "    <tr>\n",
       "      <th>1</th>\n",
       "      <td>0</td>\n",
       "      <td>0</td>\n",
       "      <td>1</td>\n",
       "    </tr>\n",
       "    <tr>\n",
       "      <th>2</th>\n",
       "      <td>0</td>\n",
       "      <td>0</td>\n",
       "      <td>1</td>\n",
       "    </tr>\n",
       "    <tr>\n",
       "      <th>3</th>\n",
       "      <td>0</td>\n",
       "      <td>0</td>\n",
       "      <td>1</td>\n",
       "    </tr>\n",
       "    <tr>\n",
       "      <th>4</th>\n",
       "      <td>0</td>\n",
       "      <td>0</td>\n",
       "      <td>1</td>\n",
       "    </tr>\n",
       "  </tbody>\n",
       "</table>\n",
       "</div>"
      ],
      "text/plain": [
       "   ASTROCYTOMA  GLIOBLASTOMA  MENINGIOMA\n",
       "0            0             0           1\n",
       "1            0             0           1\n",
       "2            0             0           1\n",
       "3            0             0           1\n",
       "4            0             0           1"
      ]
     },
     "execution_count": 4,
     "metadata": {},
     "output_type": "execute_result"
    }
   ],
   "source": [
    "Y = pd.get_dummies(df[\"TYPE\"], columns=[\"TYPE\"])\n",
    "Y.head()"
   ]
  },
  {
   "cell_type": "code",
   "execution_count": 5,
   "metadata": {},
   "outputs": [],
   "source": [
    "from sklearn.preprocessing import MinMaxScaler\n",
    "\n",
    "X = df.drop(columns=[\"Unnamed: 0\", \"TYPE\"])"
   ]
  },
  {
   "cell_type": "code",
   "execution_count": 6,
   "metadata": {},
   "outputs": [],
   "source": [
    "import torch\n",
    "from sklearn.model_selection import train_test_split\n",
    "X_train, X_test, y_train, y_test =  train_test_split(X, Y, test_size=0.3, random_state=42)\n",
    "\n",
    "scaler = MinMaxScaler()\n",
    "X_train = pd.DataFrame(scaler.fit_transform(X_train), columns=X_train.columns)\n",
    "X_test = pd.DataFrame(scaler.transform(X_test), columns=X_test.columns)\n",
    "\n",
    "X_train, X_test, y_train, y_test = torch.tensor(X_train.values), torch.tensor(X_test.values), torch.tensor(y_train.values), torch.tensor(y_test.values)\n",
    "X_train = X_train.to(torch.float32)\n",
    "y_train = y_train.to(torch.float32)\n",
    "X_test = X_test.to(torch.float32)\n",
    "y_test = y_test.to(torch.float32)\n"
   ]
  },
  {
   "cell_type": "code",
   "execution_count": 7,
   "metadata": {},
   "outputs": [
    {
     "name": "stdout",
     "output_type": "stream",
     "text": [
      "Epoka 1/100, Strata: 0.3105586767196655\n",
      "Strata walidacyjna: 0.3054589629173279\n",
      "Epoka 11/100, Strata: 0.23558780550956726\n",
      "Strata walidacyjna: 0.22918841242790222\n",
      "Epoka 21/100, Strata: 0.19713923335075378\n",
      "Strata walidacyjna: 0.19138677418231964\n",
      "Epoka 31/100, Strata: 0.18677353858947754\n",
      "Strata walidacyjna: 0.18139466643333435\n",
      "Epoka 41/100, Strata: 0.17160911858081818\n",
      "Strata walidacyjna: 0.16837598383426666\n",
      "Epoka 51/100, Strata: 0.1562720090150833\n",
      "Strata walidacyjna: 0.1622355580329895\n",
      "Epoka 61/100, Strata: 0.14040672779083252\n",
      "Strata walidacyjna: 0.15643250942230225\n",
      "Epoka 71/100, Strata: 0.12811188399791718\n",
      "Strata walidacyjna: 0.1521192342042923\n",
      "Epoka 81/100, Strata: 0.12158579379320145\n",
      "Strata walidacyjna: 0.1526457965373993\n",
      "Epoka 91/100, Strata: 0.11643164604902267\n",
      "Strata walidacyjna: 0.15137751400470734\n"
     ]
    }
   ],
   "source": [
    "import torch\n",
    "import torch.nn as nn\n",
    "import torch.optim as optim\n",
    "\n",
    "class MojaSiec(nn.Module):\n",
    "    def __init__(self):\n",
    "        super(MojaSiec, self).__init__()\n",
    "        self.fc1 = nn.Linear(15, 64)  # Warstwa w pełni połączona z 14 wejściami i 64 neuronami\n",
    "        self.fc2 = nn.Linear(64, 32)  # Warstwa w pełni połączona z 64 neuronami i 32 neuronami\n",
    "        self.fc3 = nn.Linear(32, 3)   # Warstwa w pełni połączona z 32 neuronami i 3 wyjściami\n",
    "\n",
    "    def forward(self, x):\n",
    "        x = torch.relu(self.fc1(x))  # Funkcja aktywacji ReLU po pierwszej warstwie\n",
    "        x = torch.relu(self.fc2(x))  # Funkcja aktywacji ReLU po drugiej warstwie\n",
    "        x = self.fc3(x)             # Brak funkcji aktywacji po ostatniej warstwie\n",
    "        return x\n",
    "\n",
    "# Inicjalizacja modelu\n",
    "model = MojaSiec()\n",
    "\n",
    "# Definicja funkcji straty i optymalizatora\n",
    "criterion = nn.MSELoss()  # Wybierz odpowiednią funkcję straty\n",
    "optimizer = optim.Adam(model.parameters(), lr=0.001)  # Wybierz odpowiedni optymalizator i współczynnik uczenia\n",
    "\n",
    "# Uczenie modelu\n",
    "epochs = 100  # Liczba epok uczenia\n",
    "for epoch in range(epochs):\n",
    "    # Zerowanie gradientów\n",
    "    optimizer.zero_grad()\n",
    "\n",
    "    # Przewidywanie na podstawie danych treningowych\n",
    "    outputs = model(X_train)\n",
    "\n",
    "    # Obliczenie funkcji straty\n",
    "    loss = criterion(outputs, y_train)\n",
    "\n",
    "    # Propagacja wsteczna\n",
    "    loss.backward()\n",
    "\n",
    "    # Aktualizacja wag\n",
    "    optimizer.step()\n",
    "\n",
    "    if epoch % 10 == 0:\n",
    "        # Wypisywanie bieżącego stanu uczenia\n",
    "        print(f'Epoka {epoch+1}/{epochs}, Strata: {loss.item()}')\n",
    "    \n",
    "        # Walidacja na zbiorze testowym\n",
    "        model.eval()  # Ustawienie modelu w tryb ewaluacji (wyłączenie Dropout itp.)\n",
    "\n",
    "        # Przewidywanie na podstawie danych testowych\n",
    "        outputs_test = model(X_test)\n",
    "\n",
    "        # Obliczenie funkcji straty na danych testowych\n",
    "        loss_test = criterion(outputs_test, y_test)\n",
    "\n",
    "        # Wypisywanie bieżącego stanu walidacji\n",
    "        print(f'Strata walidacyjna: {loss_test.item()}')\n",
    "\n"
   ]
  },
  {
   "cell_type": "code",
   "execution_count": 8,
   "metadata": {},
   "outputs": [
    {
     "name": "stdout",
     "output_type": "stream",
     "text": [
      "Dokładność klasyfikacji: 64.29%\n"
     ]
    },
    {
     "name": "stderr",
     "output_type": "stream",
     "text": [
      "/home/anna/.local/lib/python3.10/site-packages/sklearn/neural_network/_multilayer_perceptron.py:684: ConvergenceWarning: Stochastic Optimizer: Maximum iterations (1000) reached and the optimization hasn't converged yet.\n",
      "  warnings.warn(\n"
     ]
    }
   ],
   "source": [
    "from sklearn.neural_network import MLPClassifier\n",
    "from sklearn.model_selection import train_test_split\n",
    "from sklearn.metrics import accuracy_score\n",
    "import numpy as np\n",
    "\n",
    "model = MLPClassifier(hidden_layer_sizes=(64, 32), max_iter=1000, random_state=42)  # Ustawiłem dwa ukryte warstwy o rozmiarach 64 i 32, można dostosować\n",
    "\n",
    "model.fit(X_train, y_train)  # Uczenie modelu na danych treningowych\n",
    "\n",
    "y_pred = model.predict(X_test)\n",
    "\n",
    "accuracy = accuracy_score(y_test, y_pred)\n",
    "print(f'Dokładność klasyfikacji: {accuracy * 100:.2f}%')\n",
    "\n"
   ]
  },
  {
   "cell_type": "code",
   "execution_count": 11,
   "metadata": {},
   "outputs": [
    {
     "name": "stderr",
     "output_type": "stream",
     "text": [
      "/home/anna/.local/lib/python3.10/site-packages/sklearn/neural_network/_multilayer_perceptron.py:684: ConvergenceWarning: Stochastic Optimizer: Maximum iterations (1000) reached and the optimization hasn't converged yet.\n",
      "  warnings.warn(\n",
      "/home/anna/.local/lib/python3.10/site-packages/sklearn/neural_network/_multilayer_perceptron.py:684: ConvergenceWarning: Stochastic Optimizer: Maximum iterations (1000) reached and the optimization hasn't converged yet.\n",
      "  warnings.warn(\n",
      "/home/anna/.local/lib/python3.10/site-packages/sklearn/neural_network/_multilayer_perceptron.py:684: ConvergenceWarning: Stochastic Optimizer: Maximum iterations (1000) reached and the optimization hasn't converged yet.\n",
      "  warnings.warn(\n",
      "/home/anna/.local/lib/python3.10/site-packages/sklearn/neural_network/_multilayer_perceptron.py:684: ConvergenceWarning: Stochastic Optimizer: Maximum iterations (1000) reached and the optimization hasn't converged yet.\n",
      "  warnings.warn(\n",
      "/home/anna/.local/lib/python3.10/site-packages/sklearn/neural_network/_multilayer_perceptron.py:684: ConvergenceWarning: Stochastic Optimizer: Maximum iterations (1000) reached and the optimization hasn't converged yet.\n",
      "  warnings.warn(\n",
      "/home/anna/.local/lib/python3.10/site-packages/sklearn/neural_network/_multilayer_perceptron.py:684: ConvergenceWarning: Stochastic Optimizer: Maximum iterations (1000) reached and the optimization hasn't converged yet.\n",
      "  warnings.warn(\n",
      "/home/anna/.local/lib/python3.10/site-packages/sklearn/neural_network/_multilayer_perceptron.py:684: ConvergenceWarning: Stochastic Optimizer: Maximum iterations (1000) reached and the optimization hasn't converged yet.\n",
      "  warnings.warn(\n"
     ]
    },
    {
     "name": "stdout",
     "output_type": "stream",
     "text": [
      "Najlepsze parametry znalezione w Grid Search:\n",
      "{'activation': 'tanh', 'hidden_layer_sizes': (32, 32)}\n",
      "Dokładność klasyfikacji na danych testowych: 64.29%\n"
     ]
    },
    {
     "name": "stderr",
     "output_type": "stream",
     "text": [
      "/home/anna/.local/lib/python3.10/site-packages/sklearn/neural_network/_multilayer_perceptron.py:684: ConvergenceWarning: Stochastic Optimizer: Maximum iterations (1000) reached and the optimization hasn't converged yet.\n",
      "  warnings.warn(\n"
     ]
    }
   ],
   "source": [
    "from sklearn.neural_network import MLPClassifier\n",
    "from sklearn.model_selection import GridSearchCV\n",
    "from sklearn.metrics import accuracy_score\n",
    "\n",
    "model = MLPClassifier(max_iter=1000, random_state=42)\n",
    "\n",
    "# Definicja przestrzeni parametrów do przeszukania\n",
    "param_grid = {\n",
    "    'hidden_layer_sizes': [(32, 32)],  \n",
    "            \"activation\": [ \"tanh\", \"relu\"],  \n",
    "}\n",
    "\n",
    "grid_search = GridSearchCV(model, param_grid, cv=5)  # cv to liczba podziałów dla walidacji krzyżowej\n",
    "\n",
    "grid_search.fit(X_train, y_train)\n",
    "\n",
    "print(\"Najlepsze parametry znalezione w Grid Search:\")\n",
    "print(grid_search.best_params_)\n",
    "\n",
    "y_pred = grid_search.predict(X_test)\n",
    "\n",
    "accuracy = accuracy_score(y_test, y_pred)\n",
    "print(f'Dokładność klasyfikacji na danych testowych: {accuracy * 100:.2f}%')\n"
   ]
  },
  {
   "cell_type": "code",
   "execution_count": null,
   "metadata": {},
   "outputs": [],
   "source": []
  }
 ],
 "metadata": {
  "kernelspec": {
   "display_name": "ml",
   "language": "python",
   "name": "python3"
  },
  "language_info": {
   "codemirror_mode": {
    "name": "ipython",
    "version": 3
   },
   "file_extension": ".py",
   "mimetype": "text/x-python",
   "name": "python",
   "nbconvert_exporter": "python",
   "pygments_lexer": "ipython3",
   "version": "3.10.9"
  },
  "orig_nbformat": 4
 },
 "nbformat": 4,
 "nbformat_minor": 2
}
