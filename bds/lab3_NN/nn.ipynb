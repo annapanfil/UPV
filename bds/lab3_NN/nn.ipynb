{
 "cells": [
  {
   "cell_type": "markdown",
   "metadata": {},
   "source": [
    "# Practical session 3: Virtual biopsy of brain tumors combining magnetic resonance spectroscopy with artificial neural networks\n",
    "\n",
    "\n",
    "**Authors:**  \n",
    "- Anna Panfil\n",
    "- Igor Czudy\n",
    "\n",
    "**Professor:**  \n",
    "Pablo Ferri Borredà\n",
    "\n",
    "---\n",
    "\n",
    "*Date: 16.10.2023\n"
   ]
  },
  {
   "cell_type": "markdown",
   "metadata": {},
   "source": [
    "### Read and explore the data"
   ]
  },
  {
   "cell_type": "code",
   "execution_count": 1,
   "metadata": {},
   "outputs": [],
   "source": [
    "import pandas as pd\n",
    "import numpy as np "
   ]
  },
  {
   "cell_type": "code",
   "execution_count": 2,
   "metadata": {},
   "outputs": [
    {
     "data": {
      "text/html": [
       "<div>\n",
       "<style scoped>\n",
       "    .dataframe tbody tr th:only-of-type {\n",
       "        vertical-align: middle;\n",
       "    }\n",
       "\n",
       "    .dataframe tbody tr th {\n",
       "        vertical-align: top;\n",
       "    }\n",
       "\n",
       "    .dataframe thead th {\n",
       "        text-align: right;\n",
       "    }\n",
       "</style>\n",
       "<table border=\"1\" class=\"dataframe\">\n",
       "  <thead>\n",
       "    <tr style=\"text-align: right;\">\n",
       "      <th></th>\n",
       "      <th>METABOLITE 0</th>\n",
       "      <th>METABOLITE 1</th>\n",
       "      <th>METABOLITE 2</th>\n",
       "      <th>METABOLITE 3</th>\n",
       "      <th>METABOLITE 4</th>\n",
       "      <th>METABOLITE 5</th>\n",
       "      <th>METABOLITE 6</th>\n",
       "      <th>METABOLITE 7</th>\n",
       "      <th>METABOLITE 8</th>\n",
       "      <th>METABOLITE 9</th>\n",
       "      <th>METABOLITE 10</th>\n",
       "      <th>METABOLITE 11</th>\n",
       "      <th>METABOLITE 12</th>\n",
       "      <th>METABOLITE 13</th>\n",
       "      <th>METABOLITE 14</th>\n",
       "      <th>TYPE</th>\n",
       "    </tr>\n",
       "  </thead>\n",
       "  <tbody>\n",
       "    <tr>\n",
       "      <th>0</th>\n",
       "      <td>0.322695</td>\n",
       "      <td>0.575024</td>\n",
       "      <td>0.742645</td>\n",
       "      <td>0.635958</td>\n",
       "      <td>0.544804</td>\n",
       "      <td>0.785336</td>\n",
       "      <td>0.885756</td>\n",
       "      <td>0.577938</td>\n",
       "      <td>0.123017</td>\n",
       "      <td>0.701689</td>\n",
       "      <td>0.731254</td>\n",
       "      <td>0.846980</td>\n",
       "      <td>3.551957</td>\n",
       "      <td>3.742832</td>\n",
       "      <td>1.719949</td>\n",
       "      <td>MENINGIOMA</td>\n",
       "    </tr>\n",
       "    <tr>\n",
       "      <th>1</th>\n",
       "      <td>0.457408</td>\n",
       "      <td>0.764700</td>\n",
       "      <td>0.444451</td>\n",
       "      <td>0.451300</td>\n",
       "      <td>0.388213</td>\n",
       "      <td>0.401597</td>\n",
       "      <td>0.382574</td>\n",
       "      <td>0.407632</td>\n",
       "      <td>0.715072</td>\n",
       "      <td>1.216084</td>\n",
       "      <td>1.204490</td>\n",
       "      <td>2.329079</td>\n",
       "      <td>3.179366</td>\n",
       "      <td>3.117351</td>\n",
       "      <td>1.252479</td>\n",
       "      <td>MENINGIOMA</td>\n",
       "    </tr>\n",
       "    <tr>\n",
       "      <th>2</th>\n",
       "      <td>1.452870</td>\n",
       "      <td>1.152910</td>\n",
       "      <td>0.647735</td>\n",
       "      <td>0.622494</td>\n",
       "      <td>0.648020</td>\n",
       "      <td>0.826787</td>\n",
       "      <td>0.797439</td>\n",
       "      <td>0.695269</td>\n",
       "      <td>0.850328</td>\n",
       "      <td>0.910488</td>\n",
       "      <td>0.914841</td>\n",
       "      <td>1.805095</td>\n",
       "      <td>2.156737</td>\n",
       "      <td>2.152553</td>\n",
       "      <td>1.081571</td>\n",
       "      <td>MENINGIOMA</td>\n",
       "    </tr>\n",
       "    <tr>\n",
       "      <th>3</th>\n",
       "      <td>0.157588</td>\n",
       "      <td>0.314415</td>\n",
       "      <td>0.251613</td>\n",
       "      <td>0.186498</td>\n",
       "      <td>0.100556</td>\n",
       "      <td>0.287618</td>\n",
       "      <td>0.334349</td>\n",
       "      <td>0.213802</td>\n",
       "      <td>0.305852</td>\n",
       "      <td>0.754096</td>\n",
       "      <td>0.627211</td>\n",
       "      <td>1.566407</td>\n",
       "      <td>4.274654</td>\n",
       "      <td>4.210731</td>\n",
       "      <td>1.128131</td>\n",
       "      <td>MENINGIOMA</td>\n",
       "    </tr>\n",
       "    <tr>\n",
       "      <th>4</th>\n",
       "      <td>0.368681</td>\n",
       "      <td>0.206993</td>\n",
       "      <td>0.211521</td>\n",
       "      <td>0.034699</td>\n",
       "      <td>0.164187</td>\n",
       "      <td>0.364590</td>\n",
       "      <td>0.340892</td>\n",
       "      <td>0.110287</td>\n",
       "      <td>0.260206</td>\n",
       "      <td>0.531801</td>\n",
       "      <td>0.496068</td>\n",
       "      <td>0.654805</td>\n",
       "      <td>4.070067</td>\n",
       "      <td>4.324002</td>\n",
       "      <td>1.350580</td>\n",
       "      <td>MENINGIOMA</td>\n",
       "    </tr>\n",
       "  </tbody>\n",
       "</table>\n",
       "</div>"
      ],
      "text/plain": [
       "   METABOLITE 0  METABOLITE 1  METABOLITE 2  METABOLITE 3  METABOLITE 4  \\\n",
       "0      0.322695      0.575024      0.742645      0.635958      0.544804   \n",
       "1      0.457408      0.764700      0.444451      0.451300      0.388213   \n",
       "2      1.452870      1.152910      0.647735      0.622494      0.648020   \n",
       "3      0.157588      0.314415      0.251613      0.186498      0.100556   \n",
       "4      0.368681      0.206993      0.211521      0.034699      0.164187   \n",
       "\n",
       "   METABOLITE 5  METABOLITE 6  METABOLITE 7  METABOLITE 8  METABOLITE 9  \\\n",
       "0      0.785336      0.885756      0.577938      0.123017      0.701689   \n",
       "1      0.401597      0.382574      0.407632      0.715072      1.216084   \n",
       "2      0.826787      0.797439      0.695269      0.850328      0.910488   \n",
       "3      0.287618      0.334349      0.213802      0.305852      0.754096   \n",
       "4      0.364590      0.340892      0.110287      0.260206      0.531801   \n",
       "\n",
       "   METABOLITE 10  METABOLITE 11  METABOLITE 12  METABOLITE 13  METABOLITE 14  \\\n",
       "0       0.731254       0.846980       3.551957       3.742832       1.719949   \n",
       "1       1.204490       2.329079       3.179366       3.117351       1.252479   \n",
       "2       0.914841       1.805095       2.156737       2.152553       1.081571   \n",
       "3       0.627211       1.566407       4.274654       4.210731       1.128131   \n",
       "4       0.496068       0.654805       4.070067       4.324002       1.350580   \n",
       "\n",
       "         TYPE  \n",
       "0  MENINGIOMA  \n",
       "1  MENINGIOMA  \n",
       "2  MENINGIOMA  \n",
       "3  MENINGIOMA  \n",
       "4  MENINGIOMA  "
      ]
     },
     "execution_count": 2,
     "metadata": {},
     "output_type": "execute_result"
    }
   ],
   "source": [
    "df = pd.read_csv(\"Metabolite_concentrations_diagnosis.csv\", sep=\";\", decimal=\",\", index_col=0)\n",
    "\n",
    "df.head()"
   ]
  },
  {
   "cell_type": "code",
   "execution_count": 3,
   "metadata": {},
   "outputs": [
    {
     "name": "stdout",
     "output_type": "stream",
     "text": [
      "X_train.shape=(63, 15)\n",
      "X_test.shape=(28, 15)\n"
     ]
    }
   ],
   "source": [
    "from sklearn.model_selection import train_test_split\n",
    "\n",
    "X_train, X_test, y_train, y_test = train_test_split(df.iloc[:,:-1], df.iloc[:,-1], test_size=0.3, random_state=42, stratify=df.iloc[:,-1])\n",
    "\n",
    "print(f\"{X_train.shape=}\")\n",
    "print(f\"{X_test.shape=}\")\n"
   ]
  },
  {
   "cell_type": "code",
   "execution_count": 4,
   "metadata": {},
   "outputs": [
    {
     "name": "stderr",
     "output_type": "stream",
     "text": [
      "/home/anna/.local/lib/python3.10/site-packages/numba/core/decorators.py:262: NumbaDeprecationWarning: numba.generated_jit is deprecated. Please see the documentation at: https://numba.readthedocs.io/en/stable/reference/deprecation.html#deprecation-of-generated-jit for more information and advice on a suitable replacement.\n",
      "  warnings.warn(msg, NumbaDeprecationWarning)\n",
      "/home/anna/.conda/envs/ml/lib/python3.10/site-packages/visions/backends/shared/nan_handling.py:51: NumbaDeprecationWarning: The 'nopython' keyword argument was not supplied to the 'numba.jit' decorator. The implicit default value for this argument is currently False, but it will be changed to True in Numba 0.59.0. See https://numba.readthedocs.io/en/stable/reference/deprecation.html#deprecation-of-object-mode-fall-back-behaviour-when-using-jit for details.\n",
      "  def hasna(x: np.ndarray) -> bool:\n"
     ]
    },
    {
     "data": {
      "application/vnd.jupyter.widget-view+json": {
       "model_id": "b13cf7c0402a470da2d9cd00d7afd880",
       "version_major": 2,
       "version_minor": 0
      },
      "text/plain": [
       "Summarize dataset:   0%|          | 0/5 [00:00<?, ?it/s]"
      ]
     },
     "metadata": {},
     "output_type": "display_data"
    },
    {
     "data": {
      "application/vnd.jupyter.widget-view+json": {
       "model_id": "c75cc341fddc4f24967219e2eb6bec8f",
       "version_major": 2,
       "version_minor": 0
      },
      "text/plain": [
       "Generate report structure:   0%|          | 0/1 [00:00<?, ?it/s]"
      ]
     },
     "metadata": {},
     "output_type": "display_data"
    },
    {
     "data": {
      "application/vnd.jupyter.widget-view+json": {
       "model_id": "878f8ac482c34a678eb15216a4136a37",
       "version_major": 2,
       "version_minor": 0
      },
      "text/plain": [
       "Render HTML:   0%|          | 0/1 [00:00<?, ?it/s]"
      ]
     },
     "metadata": {},
     "output_type": "display_data"
    },
    {
     "data": {
      "application/vnd.jupyter.widget-view+json": {
       "model_id": "c1f396d66e0c436cb3faedce6d1fb554",
       "version_major": 2,
       "version_minor": 0
      },
      "text/plain": [
       "Export report to file:   0%|          | 0/1 [00:00<?, ?it/s]"
      ]
     },
     "metadata": {},
     "output_type": "display_data"
    }
   ],
   "source": [
    "import ydata_profiling as ydp\n",
    "\n",
    "# generate profiling report and save it\n",
    "report = ydp.ProfileReport(pd.concat([X_train, y_train], axis=1))\n",
    "report.to_file(\"report.html\")"
   ]
  },
  {
   "cell_type": "markdown",
   "metadata": {},
   "source": [
    "Dataset contains 91 examples described by 16 features – 15 metabolites and type of cancer. The data were divided to the training and test set. The training set will be described further.\n",
    "\n",
    "There are 63 examples in this set. Each example has predictive feature – type of cancer. Classes are unbalanced. Meningtoma appears 36 times, astrocytoma – 16 and glioblastoma – 11. It's inversely proportional to the malignancy of the tumor. Therefore, it is crucial to detect the minority classes correctly. \n",
    "The metabolites ranges vary, but generally it can be said that there are real numbers mostly greater than 0 and always under 4,5. Distribution of values mostly aren't normal, maybe with except of metabolite 9 (but its a bit skewed) and 11. Some metabolites are highly correlated. Eg. metabolite 12 and 13 are highly correlated and also correlate negatively with all metabolites from 0 to 10. Simmilar situation occurs with metabolites 11 and 14. Moreover metabolite 2 quite highly correlates with 3 and 5 with 6."
   ]
  },
  {
   "cell_type": "markdown",
   "metadata": {},
   "source": [
    "### Prepare the data"
   ]
  },
  {
   "cell_type": "code",
   "execution_count": 5,
   "metadata": {},
   "outputs": [
    {
     "data": {
      "text/html": [
       "<div>\n",
       "<style scoped>\n",
       "    .dataframe tbody tr th:only-of-type {\n",
       "        vertical-align: middle;\n",
       "    }\n",
       "\n",
       "    .dataframe tbody tr th {\n",
       "        vertical-align: top;\n",
       "    }\n",
       "\n",
       "    .dataframe thead th {\n",
       "        text-align: right;\n",
       "    }\n",
       "</style>\n",
       "<table border=\"1\" class=\"dataframe\">\n",
       "  <thead>\n",
       "    <tr style=\"text-align: right;\">\n",
       "      <th></th>\n",
       "      <th>ASTROCYTOMA</th>\n",
       "      <th>GLIOBLASTOMA</th>\n",
       "      <th>MENINGIOMA</th>\n",
       "    </tr>\n",
       "  </thead>\n",
       "  <tbody>\n",
       "    <tr>\n",
       "      <th>6</th>\n",
       "      <td>0</td>\n",
       "      <td>0</td>\n",
       "      <td>1</td>\n",
       "    </tr>\n",
       "    <tr>\n",
       "      <th>66</th>\n",
       "      <td>1</td>\n",
       "      <td>0</td>\n",
       "      <td>0</td>\n",
       "    </tr>\n",
       "    <tr>\n",
       "      <th>13</th>\n",
       "      <td>0</td>\n",
       "      <td>0</td>\n",
       "      <td>1</td>\n",
       "    </tr>\n",
       "    <tr>\n",
       "      <th>59</th>\n",
       "      <td>1</td>\n",
       "      <td>0</td>\n",
       "      <td>0</td>\n",
       "    </tr>\n",
       "    <tr>\n",
       "      <th>90</th>\n",
       "      <td>0</td>\n",
       "      <td>1</td>\n",
       "      <td>0</td>\n",
       "    </tr>\n",
       "  </tbody>\n",
       "</table>\n",
       "</div>"
      ],
      "text/plain": [
       "    ASTROCYTOMA  GLIOBLASTOMA  MENINGIOMA\n",
       "6             0             0           1\n",
       "66            1             0           0\n",
       "13            0             0           1\n",
       "59            1             0           0\n",
       "90            0             1           0"
      ]
     },
     "execution_count": 5,
     "metadata": {},
     "output_type": "execute_result"
    }
   ],
   "source": [
    "import torch \n",
    "import torch.nn.functional as F\n",
    "\n",
    "y_train_encoded = pd.get_dummies(y_train)\n",
    "y_test_encoded = pd.get_dummies(y_test)\n",
    "y_test_encoded.head()"
   ]
  },
  {
   "cell_type": "code",
   "execution_count": 6,
   "metadata": {},
   "outputs": [],
   "source": [
    "from sklearn.preprocessing import RobustScaler\n",
    "import pickle\n",
    "\n",
    "numerical_cols = X_train.columns\n",
    "\n",
    "robust_scaler = RobustScaler(quantile_range=(5, 95))  # 95% percentile range\n",
    "\n",
    "X_train[numerical_cols] = robust_scaler.fit_transform(X_train[numerical_cols])\n",
    "X_test[numerical_cols] = robust_scaler.transform(X_test[numerical_cols])\n",
    "\n",
    "pickle.dump(robust_scaler, open('scaler.pkl', 'wb'))\n"
   ]
  },
  {
   "cell_type": "code",
   "execution_count": 7,
   "metadata": {},
   "outputs": [],
   "source": [
    "from torch.utils.data import DataLoader, TensorDataset\n",
    "\n",
    "X_train_tensor = torch.tensor(X_train.to_numpy()).float()\n",
    "y_train_tensor = torch.tensor(y_train_encoded.to_numpy()).float()\n",
    "X_test_tensor = torch.tensor(X_test.to_numpy()).float()\n",
    "y_test_tensor = torch.tensor(y_test_encoded.to_numpy()).float()\n",
    "\n",
    "\n",
    "train_dataset = TensorDataset(X_train_tensor, y_train_tensor)\n",
    "test_dataset = TensorDataset(X_test_tensor, y_test_tensor)"
   ]
  },
  {
   "cell_type": "markdown",
   "metadata": {},
   "source": [
    "### Test various networks"
   ]
  },
  {
   "cell_type": "code",
   "execution_count": 8,
   "metadata": {},
   "outputs": [],
   "source": [
    "import torch.nn as nn\n",
    "import torch.optim as optim\n",
    "\n",
    "class SimpleNN(nn.Module):\n",
    "    def __init__(self, input_size, hidden_size, num_classes):\n",
    "        super(SimpleNN, self).__init__()\n",
    "        self.fc1 = nn.Linear(input_size, hidden_size)\n",
    "        self.relu = nn.ReLU()\n",
    "        self.fc2 = nn.Linear(hidden_size, num_classes)\n",
    "    \n",
    "    def forward(self, x):\n",
    "        out = self.fc1(x)\n",
    "        out = self.relu(out)\n",
    "        out = self.fc2(out)\n",
    "        return out"
   ]
  },
  {
   "cell_type": "code",
   "execution_count": 9,
   "metadata": {},
   "outputs": [],
   "source": [
    "class ComplexNN(nn.Module):\n",
    "    def __init__(self, input_size, hidden_size, num_classes):\n",
    "        super(ComplexNN, self).__init__()\n",
    "        self.fc1 = nn.Linear(input_size, hidden_size)\n",
    "        self.relu = nn.ReLU()\n",
    "        self.fc2 = nn.Linear(hidden_size, hidden_size)\n",
    "        self.fc3 = nn.Linear(hidden_size, num_classes)\n",
    "\n",
    "    def forward(self, x):\n",
    "        out = self.fc1(x)\n",
    "        out = self.relu(out)\n",
    "        out = self.fc2(out)\n",
    "        out = self.relu(out)\n",
    "        out = self.fc3(out)\n",
    "        return out"
   ]
  },
  {
   "cell_type": "code",
   "execution_count": 10,
   "metadata": {},
   "outputs": [],
   "source": [
    "def train_model(model, batch_size, num_epochs, lr):\n",
    "    train_loader = DataLoader(train_dataset, batch_size=batch_size, shuffle=True)\n",
    "\n",
    "    criterion = nn.CrossEntropyLoss(torch.tensor([35, 15, 13]))\n",
    "    optimizer = optim.Adam(model.parameters(), lr=lr)\n",
    "\n",
    "    for epoch in range(num_epochs):\n",
    "        total_loss = 0\n",
    "        for batch_X, batch_y in train_loader:\n",
    "            # Forward pass\n",
    "            outputs = model(batch_X)\n",
    "            loss = criterion(outputs, batch_y)\n",
    "            \n",
    "            # Backward pass and optimization\n",
    "            optimizer.zero_grad()\n",
    "            loss.backward()\n",
    "            optimizer.step()\n",
    "            \n",
    "            total_loss += loss.item()\n",
    "        \n",
    "        if (epoch+1) % 10 == 0:\n",
    "            print(f'Epoch [{epoch+1}/{num_epochs}], Loss: {total_loss}')\n",
    "\n",
    "    return model\n"
   ]
  },
  {
   "cell_type": "code",
   "execution_count": null,
   "metadata": {},
   "outputs": [],
   "source": [
    "from sklearn.metrics import balanced_accuracy_score, precision_score, recall_score, f1_score, roc_auc_score\n",
    "\n",
    "learning_rates = [0.1, 0,3, 0.5]#, 0.01, 0.001,]\n",
    "batch_sizes = [4, 8, 16, 32]\n",
    "num_epochs_list = [10, 20, 50, 100, 150, 200]\n",
    "\n",
    "result = {}\n",
    "\n",
    "input_size = X_test_tensor.shape[1]\n",
    "num_classes = 3\n",
    "\n",
    "for num_epochs in num_epochs_list:\n",
    "    for lr in learning_rates:\n",
    "        for batch_size in batch_sizes:\n",
    "            for model_name, model in {\"SimpleNN_32\": SimpleNN(input_size,32, num_classes),\n",
    "                                    \"SimpleNN_64\": SimpleNN(input_size,64, num_classes),\n",
    "                                    \"ComplexNN_32\": ComplexNN(input_size,32, num_classes),\n",
    "                                    \"ComplexNN_64\": ComplexNN(input_size, 64, num_classes),\n",
    "                                    \"SimpleNN_16\": SimpleNN(input_size,16, num_classes),                          \n",
    "                                    }.items():\n",
    "\n",
    "                train_model(model, batch_size, num_epochs, lr)\n",
    "\n",
    "                # Test the model\n",
    "                test_loader = DataLoader(test_dataset, batch_size=batch_size, shuffle=False)\n",
    "                model.eval()\n",
    "                y_true = []\n",
    "                y_pred = []\n",
    "                y_scores = []\n",
    "                with torch.no_grad():\n",
    "                    for batch_X, batch_y in test_loader:\n",
    "                        outputs = model(batch_X)\n",
    "                        _, predicted = torch.max(outputs.data, 1) \n",
    "                        _, true_labels = torch.max(batch_y, 1)\n",
    "\n",
    "                        y_true.extend(true_labels.cpu().numpy())\n",
    "                        y_pred.extend(predicted.cpu().numpy())\n",
    "                        probabilities = torch.softmax(outputs, dim=1)\n",
    "                        y_scores.extend(probabilities.cpu().numpy())\n",
    "\n",
    "\n",
    "                geometric_mean = balanced_accuracy_score(y_true, y_pred)  # użyj 'weighted' dla wieloklasowego problemu klasyfikacji\n",
    "                precision = precision_score(y_true, y_pred, average='weighted')  # Oblicz precision\n",
    "                recall = recall_score(y_true, y_pred, average='weighted')  # Oblicz recall\n",
    "                f1 = f1_score(y_true, y_pred, average='weighted')  # Oblicz F1-score\n",
    "                \n",
    "                \n",
    "                auc = roc_auc_score(y_true, y_scores, multi_class='ovr')  # Oblicz AUC\n",
    "\n",
    "                print(f'Geometric Mean on the test set: {geometric_mean}')\n",
    "                print(f'Precision on the test set: {precision}')\n",
    "                print(f'Recall on the test set: {recall}')\n",
    "                print(f'F1-score on the test set: {f1}')\n",
    "\n",
    "                # Dodaj wynik do słownika result\n",
    "                result[(model_name, num_epochs, lr, batch_size)] = {\n",
    "                    'geometric_mean': geometric_mean,\n",
    "                    'precision': precision,\n",
    "                    'recall': recall,\n",
    "                    'f1_score': f1,\n",
    "                    'AUC': auc\n",
    "                }"
   ]
  },
  {
   "cell_type": "code",
   "execution_count": 22,
   "metadata": {},
   "outputs": [
    {
     "data": {
      "text/plain": [
       "[(('SimpleNN_16', 50, 0.1, 16),\n",
       "  {'geometric_mean': 0.8172619047619047,\n",
       "   'precision': 0.8553921568627452,\n",
       "   'recall': 0.8571428571428571,\n",
       "   'f1_score': 0.8546453546453546,\n",
       "   'AUC': 0.898749137336094}),\n",
       " (('SimpleNN_16', 100, 0.1, 4),\n",
       "  {'geometric_mean': 0.7964285714285714,\n",
       "   'precision': 0.8273809523809524,\n",
       "   'recall': 0.8214285714285714,\n",
       "   'f1_score': 0.8221778221778221,\n",
       "   'AUC': 0.8992805999211279}),\n",
       " (('SimpleNN_64', 100, 0.1, 8),\n",
       "  {'geometric_mean': 0.7964285714285714,\n",
       "   'precision': 0.8273809523809524,\n",
       "   'recall': 0.8214285714285714,\n",
       "   'f1_score': 0.8221778221778221,\n",
       "   'AUC': 0.9049630903085871}),\n",
       " (('SimpleNN_16', 100, 0.1, 16),\n",
       "  {'geometric_mean': 0.7964285714285714,\n",
       "   'precision': 0.8273809523809524,\n",
       "   'recall': 0.8214285714285714,\n",
       "   'f1_score': 0.8221778221778221,\n",
       "   'AUC': 0.9130277654540078}),\n",
       " (('SimpleNN_64', 150, 0.1, 8),\n",
       "  {'geometric_mean': 0.7964285714285714,\n",
       "   'precision': 0.8273809523809524,\n",
       "   'recall': 0.8214285714285714,\n",
       "   'f1_score': 0.8221778221778221,\n",
       "   'AUC': 0.9045733510795623})]"
      ]
     },
     "execution_count": 22,
     "metadata": {},
     "output_type": "execute_result"
    }
   ],
   "source": [
    "sorted_results = sorted(result.items(), key=lambda x: x[1]['f1_score'], reverse=True)\n",
    "sorted_results[:5]"
   ]
  },
  {
   "cell_type": "code",
   "execution_count": 25,
   "metadata": {},
   "outputs": [
    {
     "data": {
      "text/plain": [
       "('SimpleNN_16', 50, 0.1, 16)"
      ]
     },
     "execution_count": 25,
     "metadata": {},
     "output_type": "execute_result"
    }
   ],
   "source": [
    "best = sorted_results[0][0]\n",
    "best\n"
   ]
  },
  {
   "cell_type": "markdown",
   "metadata": {},
   "source": [
    "### Best model"
   ]
  },
  {
   "cell_type": "code",
   "execution_count": 26,
   "metadata": {},
   "outputs": [
    {
     "name": "stdout",
     "output_type": "stream",
     "text": [
      "Epoch [10/50], Loss: 11.246776700019836\n",
      "Epoch [20/50], Loss: 3.8881739675998688\n",
      "Epoch [30/50], Loss: 1.396323710680008\n",
      "Epoch [40/50], Loss: 0.4803379625082016\n",
      "Epoch [50/50], Loss: 0.25058419071137905\n"
     ]
    }
   ],
   "source": [
    "# train the best model and save it\n",
    "train_loader = DataLoader(train_dataset, batch_size=batch_size, shuffle=True)\n",
    "test_loader = DataLoader(test_dataset, batch_size=batch_size, shuffle=False)\n",
    "\n",
    "model = SimpleNN(input_size,16, num_classes)\n",
    "train_model(model, best[3], best[1], best[2])\n",
    "torch.save(model, \"model.pt\")"
   ]
  }
 ],
 "metadata": {
  "kernelspec": {
   "display_name": "ml",
   "language": "python",
   "name": "python3"
  },
  "language_info": {
   "codemirror_mode": {
    "name": "ipython",
    "version": 3
   },
   "file_extension": ".py",
   "mimetype": "text/x-python",
   "name": "python",
   "nbconvert_exporter": "python",
   "pygments_lexer": "ipython3",
   "version": "3.10.9"
  },
  "orig_nbformat": 4
 },
 "nbformat": 4,
 "nbformat_minor": 2
}
