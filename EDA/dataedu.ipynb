{
 "cells": [
  {
   "cell_type": "code",
   "execution_count": 30,
   "metadata": {
    "vscode": {
     "languageId": "r"
    }
   },
   "outputs": [
    {
     "data": {
      "text/html": [
       "'character'"
      ],
      "text/latex": [
       "'character'"
      ],
      "text/markdown": [
       "'character'"
      ],
      "text/plain": [
       "[1] \"character\""
      ]
     },
     "metadata": {},
     "output_type": "display_data"
    }
   ],
   "source": [
    "data <- load(\"data/mashupData.RData\")\n",
    "\n",
    "class(data)\n"
   ]
  },
  {
   "cell_type": "code",
   "execution_count": 31,
   "metadata": {
    "vscode": {
     "languageId": "r"
    }
   },
   "outputs": [
    {
     "data": {
      "text/html": [
       "<style>\n",
       ".list-inline {list-style: none; margin:0; padding: 0}\n",
       ".list-inline>li {display: inline-block}\n",
       ".list-inline>li:not(:last-child)::after {content: \"\\00b7\"; padding: 0 .5ex}\n",
       "</style>\n",
       "<ol class=list-inline><li>'assessments'</li><li>'courses'</li><li>'data'</li><li>'studentAssessment'</li><li>'studentInfo'</li><li>'studentRegistration'</li><li>'studentVle'</li><li>'vle'</li></ol>\n"
      ],
      "text/latex": [
       "\\begin{enumerate*}\n",
       "\\item 'assessments'\n",
       "\\item 'courses'\n",
       "\\item 'data'\n",
       "\\item 'studentAssessment'\n",
       "\\item 'studentInfo'\n",
       "\\item 'studentRegistration'\n",
       "\\item 'studentVle'\n",
       "\\item 'vle'\n",
       "\\end{enumerate*}\n"
      ],
      "text/markdown": [
       "1. 'assessments'\n",
       "2. 'courses'\n",
       "3. 'data'\n",
       "4. 'studentAssessment'\n",
       "5. 'studentInfo'\n",
       "6. 'studentRegistration'\n",
       "7. 'studentVle'\n",
       "8. 'vle'\n",
       "\n",
       "\n"
      ],
      "text/plain": [
       "[1] \"assessments\"         \"courses\"             \"data\"               \n",
       "[4] \"studentAssessment\"   \"studentInfo\"         \"studentRegistration\"\n",
       "[7] \"studentVle\"          \"vle\"                "
      ]
     },
     "metadata": {},
     "output_type": "display_data"
    }
   ],
   "source": [
    "ls()"
   ]
  },
  {
   "cell_type": "code",
   "execution_count": 32,
   "metadata": {
    "vscode": {
     "languageId": "r"
    }
   },
   "outputs": [
    {
     "data": {
      "text/html": [
       "<style>\n",
       ".list-inline {list-style: none; margin:0; padding: 0}\n",
       ".list-inline>li {display: inline-block}\n",
       ".list-inline>li:not(:last-child)::after {content: \"\\00b7\"; padding: 0 .5ex}\n",
       "</style>\n",
       "<ol class=list-inline><li>'data.table'</li><li>'data.frame'</li></ol>\n"
      ],
      "text/latex": [
       "\\begin{enumerate*}\n",
       "\\item 'data.table'\n",
       "\\item 'data.frame'\n",
       "\\end{enumerate*}\n"
      ],
      "text/markdown": [
       "1. 'data.table'\n",
       "2. 'data.frame'\n",
       "\n",
       "\n"
      ],
      "text/plain": [
       "[1] \"data.table\" \"data.frame\""
      ]
     },
     "metadata": {},
     "output_type": "display_data"
    }
   ],
   "source": [
    "class(assessments)"
   ]
  },
  {
   "cell_type": "code",
   "execution_count": 33,
   "metadata": {
    "vscode": {
     "languageId": "r"
    }
   },
   "outputs": [
    {
     "ename": "ERROR",
     "evalue": "Error in head(mashupData$assessments): nie znaleziono obiektu 'mashupData'\n",
     "output_type": "error",
     "traceback": [
      "Error in head(mashupData$assessments): nie znaleziono obiektu 'mashupData'\nTraceback:\n",
      "1. head(mashupData$assessments)"
     ]
    }
   ],
   "source": [
    "head(mashupData$assessments)"
   ]
  },
  {
   "cell_type": "code",
   "execution_count": null,
   "metadata": {
    "vscode": {
     "languageId": "r"
    }
   },
   "outputs": [],
   "source": []
  }
 ],
 "metadata": {
  "kernelspec": {
   "display_name": "R",
   "language": "R",
   "name": "ir"
  },
  "language_info": {
   "codemirror_mode": "r",
   "file_extension": ".r",
   "mimetype": "text/x-r-source",
   "name": "R",
   "pygments_lexer": "r",
   "version": "4.1.2"
  },
  "orig_nbformat": 4
 },
 "nbformat": 4,
 "nbformat_minor": 2
}
