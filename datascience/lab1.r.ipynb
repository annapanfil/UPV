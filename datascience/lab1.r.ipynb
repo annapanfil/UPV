{
  "cells": [
    {
      "cell_type": "markdown",
      "metadata": {
        "id": "Vr3R0IckDlT6"
      },
      "source": [
        "Anna Panfil"
      ]
    },
    {
      "cell_type": "code",
      "execution_count": null,
      "metadata": {
        "colab": {
          "base_uri": "https://localhost:8080/",
          "height": 34
        },
        "id": "J7wYrGM4DQ08",
        "outputId": "4a0ca39f-5d68-41af-aed8-3534dfce87f5",
        "vscode": {
          "languageId": "r"
        }
      },
      "outputs": [
        {
          "data": {
            "text/html": [
              "<style>\n",
              ".list-inline {list-style: none; margin:0; padding: 0}\n",
              ".list-inline>li {display: inline-block}\n",
              ".list-inline>li:not(:last-child)::after {content: \"\\00b7\"; padding: 0 .5ex}\n",
              "</style>\n",
              "<ol class=list-inline><li>1</li><li>2</li><li>3</li><li>4</li><li>5</li><li>6</li><li>7</li><li>8</li><li>9</li><li>10</li><li>11</li><li>12</li></ol>\n"
            ],
            "text/latex": [
              "\\begin{enumerate*}\n",
              "\\item 1\n",
              "\\item 2\n",
              "\\item 3\n",
              "\\item 4\n",
              "\\item 5\n",
              "\\item 6\n",
              "\\item 7\n",
              "\\item 8\n",
              "\\item 9\n",
              "\\item 10\n",
              "\\item 11\n",
              "\\item 12\n",
              "\\end{enumerate*}\n"
            ],
            "text/markdown": [
              "1. 1\n",
              "2. 2\n",
              "3. 3\n",
              "4. 4\n",
              "5. 5\n",
              "6. 6\n",
              "7. 7\n",
              "8. 8\n",
              "9. 9\n",
              "10. 10\n",
              "11. 11\n",
              "12. 12\n",
              "\n",
              "\n"
            ],
            "text/plain": [
              " [1]  1  2  3  4  5  6  7  8  9 10 11 12"
            ]
          },
          "metadata": {},
          "output_type": "display_data"
        }
      ],
      "source": [
        "sequence <- seq(12)\n",
        "sequence"
      ]
    },
    {
      "cell_type": "code",
      "execution_count": null,
      "metadata": {
        "colab": {
          "base_uri": "https://localhost:8080/",
          "height": 34
        },
        "id": "1XUDCW1cDU5L",
        "outputId": "89453020-8bd8-423b-edef-cc2f756b5d70",
        "vscode": {
          "languageId": "r"
        }
      },
      "outputs": [
        {
          "data": {
            "text/html": [
              "<style>\n",
              ".list-inline {list-style: none; margin:0; padding: 0}\n",
              ".list-inline>li {display: inline-block}\n",
              ".list-inline>li:not(:last-child)::after {content: \"\\00b7\"; padding: 0 .5ex}\n",
              "</style>\n",
              "<ol class=list-inline><li>6</li><li>2</li><li>4</li><li>6</li><li>2</li><li>4</li><li>6</li><li>2</li><li>4</li></ol>\n"
            ],
            "text/latex": [
              "\\begin{enumerate*}\n",
              "\\item 6\n",
              "\\item 2\n",
              "\\item 4\n",
              "\\item 6\n",
              "\\item 2\n",
              "\\item 4\n",
              "\\item 6\n",
              "\\item 2\n",
              "\\item 4\n",
              "\\end{enumerate*}\n"
            ],
            "text/markdown": [
              "1. 6\n",
              "2. 2\n",
              "3. 4\n",
              "4. 6\n",
              "5. 2\n",
              "6. 4\n",
              "7. 6\n",
              "8. 2\n",
              "9. 4\n",
              "\n",
              "\n"
            ],
            "text/plain": [
              "[1] 6 2 4 6 2 4 6 2 4"
            ]
          },
          "metadata": {},
          "output_type": "display_data"
        }
      ],
      "source": [
        "rep(c(6,2,4), 3)"
      ]
    },
    {
      "cell_type": "code",
      "execution_count": null,
      "metadata": {
        "colab": {
          "base_uri": "https://localhost:8080/",
          "height": 226
        },
        "id": "CS8RO0j_EQdo",
        "outputId": "8b8008ee-fd41-4e25-fa66-dd392f1be82a",
        "vscode": {
          "languageId": "r"
        }
      },
      "outputs": [
        {
          "data": {
            "text/html": [
              "<table class=\"dataframe\">\n",
              "<caption>A matrix: 5 × 3 of type dbl</caption>\n",
              "<tbody>\n",
              "\t<tr><td>9</td><td>9</td><td>2</td></tr>\n",
              "\t<tr><td>9</td><td>2</td><td>5</td></tr>\n",
              "\t<tr><td>9</td><td>2</td><td>5</td></tr>\n",
              "\t<tr><td>9</td><td>2</td><td>5</td></tr>\n",
              "\t<tr><td>9</td><td>2</td><td>5</td></tr>\n",
              "</tbody>\n",
              "</table>\n"
            ],
            "text/latex": [
              "A matrix: 5 × 3 of type dbl\n",
              "\\begin{tabular}{lll}\n",
              "\t 9 & 9 & 2\\\\\n",
              "\t 9 & 2 & 5\\\\\n",
              "\t 9 & 2 & 5\\\\\n",
              "\t 9 & 2 & 5\\\\\n",
              "\t 9 & 2 & 5\\\\\n",
              "\\end{tabular}\n"
            ],
            "text/markdown": [
              "\n",
              "A matrix: 5 × 3 of type dbl\n",
              "\n",
              "| 9 | 9 | 2 |\n",
              "| 9 | 2 | 5 |\n",
              "| 9 | 2 | 5 |\n",
              "| 9 | 2 | 5 |\n",
              "| 9 | 2 | 5 |\n",
              "\n"
            ],
            "text/plain": [
              "     [,1] [,2] [,3]\n",
              "[1,] 9    9    2   \n",
              "[2,] 9    2    5   \n",
              "[3,] 9    2    5   \n",
              "[4,] 9    2    5   \n",
              "[5,] 9    2    5   "
            ]
          },
          "metadata": {},
          "output_type": "display_data"
        }
      ],
      "source": [
        "seq <- c(rep(9, 6), rep(2, 5), rep(5, 4))\n",
        "mat <- matrix(seq, 5, 3, byrow = FALSE)\n",
        "mat"
      ]
    },
    {
      "cell_type": "code",
      "execution_count": null,
      "metadata": {
        "colab": {
          "base_uri": "https://localhost:8080/",
          "height": 104
        },
        "id": "PE6Epi12E74r",
        "outputId": "466764d5-ff2a-4918-c3f9-59bd399f27c8",
        "vscode": {
          "languageId": "r"
        }
      },
      "outputs": [
        {
          "name": "stdout",
          "output_type": "stream",
          "text": [
            "[1] \"mean 0.107867147646684\"\n",
            "[1] \"median 0.0930803020313303\"\n",
            "[1] \"variance 0.516335002736962\"\n",
            "[1] \"std 0.718564543194946\"\n"
          ]
        },
        {
          "data": {
            "text/html": [
              "TRUE"
            ],
            "text/latex": [
              "TRUE"
            ],
            "text/markdown": [
              "TRUE"
            ],
            "text/plain": [
              "[1] TRUE"
            ]
          },
          "metadata": {},
          "output_type": "display_data"
        }
      ],
      "source": [
        "set.seed(100)\n",
        "random_vector <- rnorm(20)\n",
        "print(paste('mean', mean(random_vector)))\n",
        "print(paste('median', median(random_vector)))\n",
        "print(paste('variance', var(random_vector)))\n",
        "print(paste('std', sd(random_vector)))\n",
        "\n",
        "set.seed(100)\n",
        "new_random_vector <- rnorm(20)\n",
        "identical(random_vector, new_random_vector)"
      ]
    },
    {
      "cell_type": "markdown",
      "metadata": {
        "id": "XPKcQ09VHsLo"
      },
      "source": [
        "when I set seed once again, they are the same, if not, the second one seems to be taken from another seed."
      ]
    },
    {
      "cell_type": "code",
      "execution_count": null,
      "metadata": {
        "id": "iUiAPt1WzZcC",
        "vscode": {
          "languageId": "r"
        }
      },
      "outputs": [],
      "source": [
        "students <- read.table(\"data/data1.txt\", header = FALSE, col.names = c(\"height\", \"shoesize\", \"gender\", \"population\"))"
      ]
    },
    {
      "cell_type": "code",
      "execution_count": null,
      "metadata": {
        "colab": {
          "base_uri": "https://localhost:8080/",
          "height": 286
        },
        "id": "Ca4TL3Ol0xBh",
        "outputId": "e453645b-49fb-4ae4-9eca-8573ab76a081",
        "vscode": {
          "languageId": "r"
        }
      },
      "outputs": [
        {
          "data": {
            "text/html": [
              "<table class=\"dataframe\">\n",
              "<caption>A data.frame: 6 × 4</caption>\n",
              "<thead>\n",
              "\t<tr><th></th><th scope=col>height</th><th scope=col>shoesize</th><th scope=col>gender</th><th scope=col>population</th></tr>\n",
              "\t<tr><th></th><th scope=col>&lt;int&gt;</th><th scope=col>&lt;int&gt;</th><th scope=col>&lt;chr&gt;</th><th scope=col>&lt;chr&gt;</th></tr>\n",
              "</thead>\n",
              "<tbody>\n",
              "\t<tr><th scope=row>1</th><td>181</td><td>44</td><td>male  </td><td>kuopio</td></tr>\n",
              "\t<tr><th scope=row>2</th><td>160</td><td>38</td><td>female</td><td>kuopio</td></tr>\n",
              "\t<tr><th scope=row>3</th><td>174</td><td>42</td><td>female</td><td>kuopio</td></tr>\n",
              "\t<tr><th scope=row>4</th><td>170</td><td>43</td><td>male  </td><td>kuopio</td></tr>\n",
              "\t<tr><th scope=row>5</th><td>172</td><td>43</td><td>male  </td><td>kuopio</td></tr>\n",
              "\t<tr><th scope=row>6</th><td>165</td><td>39</td><td>female</td><td>kuopio</td></tr>\n",
              "</tbody>\n",
              "</table>\n"
            ],
            "text/latex": [
              "A data.frame: 6 × 4\n",
              "\\begin{tabular}{r|llll}\n",
              "  & height & shoesize & gender & population\\\\\n",
              "  & <int> & <int> & <chr> & <chr>\\\\\n",
              "\\hline\n",
              "\t1 & 181 & 44 & male   & kuopio\\\\\n",
              "\t2 & 160 & 38 & female & kuopio\\\\\n",
              "\t3 & 174 & 42 & female & kuopio\\\\\n",
              "\t4 & 170 & 43 & male   & kuopio\\\\\n",
              "\t5 & 172 & 43 & male   & kuopio\\\\\n",
              "\t6 & 165 & 39 & female & kuopio\\\\\n",
              "\\end{tabular}\n"
            ],
            "text/markdown": [
              "\n",
              "A data.frame: 6 × 4\n",
              "\n",
              "| <!--/--> | height &lt;int&gt; | shoesize &lt;int&gt; | gender &lt;chr&gt; | population &lt;chr&gt; |\n",
              "|---|---|---|---|---|\n",
              "| 1 | 181 | 44 | male   | kuopio |\n",
              "| 2 | 160 | 38 | female | kuopio |\n",
              "| 3 | 174 | 42 | female | kuopio |\n",
              "| 4 | 170 | 43 | male   | kuopio |\n",
              "| 5 | 172 | 43 | male   | kuopio |\n",
              "| 6 | 165 | 39 | female | kuopio |\n",
              "\n"
            ],
            "text/plain": [
              "  height shoesize gender population\n",
              "1 181    44       male   kuopio    \n",
              "2 160    38       female kuopio    \n",
              "3 174    42       female kuopio    \n",
              "4 170    43       male   kuopio    \n",
              "5 172    43       male   kuopio    \n",
              "6 165    39       female kuopio    "
            ]
          },
          "metadata": {},
          "output_type": "display_data"
        }
      ],
      "source": [
        "head(students)"
      ]
    },
    {
      "cell_type": "code",
      "execution_count": null,
      "metadata": {
        "colab": {
          "base_uri": "https://localhost:8080/",
          "height": 34
        },
        "id": "rQBscgYK0-oc",
        "outputId": "a327a37c-4279-4ccf-a6bd-4f44b6ad4e0e",
        "vscode": {
          "languageId": "r"
        }
      },
      "outputs": [
        {
          "data": {
            "text/html": [
              "<style>\n",
              ".list-inline {list-style: none; margin:0; padding: 0}\n",
              ".list-inline>li {display: inline-block}\n",
              ".list-inline>li:not(:last-child)::after {content: \"\\00b7\"; padding: 0 .5ex}\n",
              "</style>\n",
              "<ol class=list-inline><li>'height'</li><li>'shoesize'</li><li>'gender'</li><li>'population'</li></ol>\n"
            ],
            "text/latex": [
              "\\begin{enumerate*}\n",
              "\\item 'height'\n",
              "\\item 'shoesize'\n",
              "\\item 'gender'\n",
              "\\item 'population'\n",
              "\\end{enumerate*}\n"
            ],
            "text/markdown": [
              "1. 'height'\n",
              "2. 'shoesize'\n",
              "3. 'gender'\n",
              "4. 'population'\n",
              "\n",
              "\n"
            ],
            "text/plain": [
              "[1] \"height\"     \"shoesize\"   \"gender\"     \"population\""
            ]
          },
          "metadata": {},
          "output_type": "display_data"
        }
      ],
      "source": [
        "colnames(students)"
      ]
    },
    {
      "cell_type": "code",
      "execution_count": null,
      "metadata": {
        "colab": {
          "base_uri": "https://localhost:8080/",
          "height": 34
        },
        "id": "zfIA6s5a1aWI",
        "outputId": "4f50cd2a-c97f-4887-d1b3-6a285d5a28bd",
        "vscode": {
          "languageId": "r"
        }
      },
      "outputs": [
        {
          "data": {
            "text/html": [
              "<style>\n",
              ".list-inline {list-style: none; margin:0; padding: 0}\n",
              ".list-inline>li {display: inline-block}\n",
              ".list-inline>li:not(:last-child)::after {content: \"\\00b7\"; padding: 0 .5ex}\n",
              "</style>\n",
              "<ol class=list-inline><li>181</li><li>160</li><li>174</li><li>170</li><li>172</li><li>165</li><li>161</li><li>167</li><li>164</li><li>166</li><li>162</li><li>158</li><li>175</li><li>181</li><li>180</li><li>177</li><li>173</li></ol>\n"
            ],
            "text/latex": [
              "\\begin{enumerate*}\n",
              "\\item 181\n",
              "\\item 160\n",
              "\\item 174\n",
              "\\item 170\n",
              "\\item 172\n",
              "\\item 165\n",
              "\\item 161\n",
              "\\item 167\n",
              "\\item 164\n",
              "\\item 166\n",
              "\\item 162\n",
              "\\item 158\n",
              "\\item 175\n",
              "\\item 181\n",
              "\\item 180\n",
              "\\item 177\n",
              "\\item 173\n",
              "\\end{enumerate*}\n"
            ],
            "text/markdown": [
              "1. 181\n",
              "2. 160\n",
              "3. 174\n",
              "4. 170\n",
              "5. 172\n",
              "6. 165\n",
              "7. 161\n",
              "8. 167\n",
              "9. 164\n",
              "10. 166\n",
              "11. 162\n",
              "12. 158\n",
              "13. 175\n",
              "14. 181\n",
              "15. 180\n",
              "16. 177\n",
              "17. 173\n",
              "\n",
              "\n"
            ],
            "text/plain": [
              " [1] 181 160 174 170 172 165 161 167 164 166 162 158 175 181 180 177 173"
            ]
          },
          "metadata": {},
          "output_type": "display_data"
        }
      ],
      "source": [
        "students$height"
      ]
    },
    {
      "cell_type": "code",
      "execution_count": null,
      "metadata": {
        "colab": {
          "base_uri": "https://localhost:8080/",
          "height": 69
        },
        "id": "sfThmwaV2R2W",
        "outputId": "df73e73e-63b7-4fe1-a372-c18509cd2507",
        "vscode": {
          "languageId": "r"
        }
      },
      "outputs": [
        {
          "data": {
            "text/plain": [
              "\n",
              "female   male \n",
              "     9      8 "
            ]
          },
          "metadata": {},
          "output_type": "display_data"
        }
      ],
      "source": [
        "table(students$gender)"
      ]
    },
    {
      "cell_type": "code",
      "execution_count": null,
      "metadata": {
        "colab": {
          "base_uri": "https://localhost:8080/",
          "height": 69
        },
        "id": "q9FEeBy52m8S",
        "outputId": "6441f2c6-9551-4a92-9c93-847dc2c43e53",
        "vscode": {
          "languageId": "r"
        }
      },
      "outputs": [
        {
          "data": {
            "text/plain": [
              "\n",
              " kuopio tampere \n",
              "      7      10 "
            ]
          },
          "metadata": {},
          "output_type": "display_data"
        }
      ],
      "source": [
        "table(students$population)"
      ]
    },
    {
      "cell_type": "code",
      "execution_count": null,
      "metadata": {
        "colab": {
          "base_uri": "https://localhost:8080/",
          "height": 86
        },
        "id": "p1Gmpl0K3Stj",
        "outputId": "30beb147-602e-4e5a-fc1c-b7f2b2dbe137",
        "vscode": {
          "languageId": "r"
        }
      },
      "outputs": [
        {
          "data": {
            "text/plain": [
              "        \n",
              "         kuopio tampere\n",
              "  female      4       5\n",
              "  male        3       5"
            ]
          },
          "metadata": {},
          "output_type": "display_data"
        }
      ],
      "source": [
        "table(students$gender, students$population)"
      ]
    },
    {
      "cell_type": "code",
      "execution_count": null,
      "metadata": {
        "id": "R30tqpBg5Vl7",
        "vscode": {
          "languageId": "r"
        }
      },
      "outputs": [],
      "source": [
        "?subset"
      ]
    },
    {
      "cell_type": "code",
      "execution_count": null,
      "metadata": {
        "colab": {
          "base_uri": "https://localhost:8080/",
          "height": 747
        },
        "id": "3y8p73es3cEB",
        "outputId": "86098061-e7e0-4dad-b329-df7ee674f7dc",
        "vscode": {
          "languageId": "r"
        }
      },
      "outputs": [
        {
          "data": {
            "text/html": [
              "<strong>$female</strong> = <table class=\"dataframe\">\n",
              "<caption>A data.frame: 9 × 4</caption>\n",
              "<thead>\n",
              "\t<tr><th></th><th scope=col>height</th><th scope=col>shoesize</th><th scope=col>gender</th><th scope=col>population</th></tr>\n",
              "\t<tr><th></th><th scope=col>&lt;dbl&gt;</th><th scope=col>&lt;int&gt;</th><th scope=col>&lt;chr&gt;</th><th scope=col>&lt;chr&gt;</th></tr>\n",
              "</thead>\n",
              "<tbody>\n",
              "\t<tr><th scope=row>2</th><td>1.60</td><td>38</td><td>female</td><td>kuopio </td></tr>\n",
              "\t<tr><th scope=row>3</th><td>1.74</td><td>42</td><td>female</td><td>kuopio </td></tr>\n",
              "\t<tr><th scope=row>6</th><td>1.65</td><td>39</td><td>female</td><td>kuopio </td></tr>\n",
              "\t<tr><th scope=row>7</th><td>1.61</td><td>38</td><td>female</td><td>kuopio </td></tr>\n",
              "\t<tr><th scope=row>8</th><td>1.67</td><td>38</td><td>female</td><td>tampere</td></tr>\n",
              "\t<tr><th scope=row>9</th><td>1.64</td><td>39</td><td>female</td><td>tampere</td></tr>\n",
              "\t<tr><th scope=row>10</th><td>1.66</td><td>38</td><td>female</td><td>tampere</td></tr>\n",
              "\t<tr><th scope=row>11</th><td>1.62</td><td>37</td><td>female</td><td>tampere</td></tr>\n",
              "\t<tr><th scope=row>12</th><td>1.58</td><td>36</td><td>female</td><td>tampere</td></tr>\n",
              "</tbody>\n",
              "</table>\n"
            ],
            "text/latex": [
              "\\textbf{\\$female} = A data.frame: 9 × 4\n",
              "\\begin{tabular}{r|llll}\n",
              "  & height & shoesize & gender & population\\\\\n",
              "  & <dbl> & <int> & <chr> & <chr>\\\\\n",
              "\\hline\n",
              "\t2 & 1.60 & 38 & female & kuopio \\\\\n",
              "\t3 & 1.74 & 42 & female & kuopio \\\\\n",
              "\t6 & 1.65 & 39 & female & kuopio \\\\\n",
              "\t7 & 1.61 & 38 & female & kuopio \\\\\n",
              "\t8 & 1.67 & 38 & female & tampere\\\\\n",
              "\t9 & 1.64 & 39 & female & tampere\\\\\n",
              "\t10 & 1.66 & 38 & female & tampere\\\\\n",
              "\t11 & 1.62 & 37 & female & tampere\\\\\n",
              "\t12 & 1.58 & 36 & female & tampere\\\\\n",
              "\\end{tabular}\n"
            ],
            "text/markdown": [
              "**$female** = \n",
              "A data.frame: 9 × 4\n",
              "\n",
              "| <!--/--> | height &lt;dbl&gt; | shoesize &lt;int&gt; | gender &lt;chr&gt; | population &lt;chr&gt; |\n",
              "|---|---|---|---|---|\n",
              "| 2 | 1.60 | 38 | female | kuopio  |\n",
              "| 3 | 1.74 | 42 | female | kuopio  |\n",
              "| 6 | 1.65 | 39 | female | kuopio  |\n",
              "| 7 | 1.61 | 38 | female | kuopio  |\n",
              "| 8 | 1.67 | 38 | female | tampere |\n",
              "| 9 | 1.64 | 39 | female | tampere |\n",
              "| 10 | 1.66 | 38 | female | tampere |\n",
              "| 11 | 1.62 | 37 | female | tampere |\n",
              "| 12 | 1.58 | 36 | female | tampere |\n",
              "\n"
            ],
            "text/plain": [
              "$female\n",
              "   height shoesize gender population\n",
              "2    1.60       38 female     kuopio\n",
              "3    1.74       42 female     kuopio\n",
              "6    1.65       39 female     kuopio\n",
              "7    1.61       38 female     kuopio\n",
              "8    1.67       38 female    tampere\n",
              "9    1.64       39 female    tampere\n",
              "10   1.66       38 female    tampere\n",
              "11   1.62       37 female    tampere\n",
              "12   1.58       36 female    tampere\n"
            ]
          },
          "metadata": {},
          "output_type": "display_data"
        },
        {
          "data": {
            "text/html": [
              "<strong>$male</strong> = <table class=\"dataframe\">\n",
              "<caption>A data.frame: 8 × 4</caption>\n",
              "<thead>\n",
              "\t<tr><th></th><th scope=col>height</th><th scope=col>shoesize</th><th scope=col>gender</th><th scope=col>population</th></tr>\n",
              "\t<tr><th></th><th scope=col>&lt;dbl&gt;</th><th scope=col>&lt;int&gt;</th><th scope=col>&lt;chr&gt;</th><th scope=col>&lt;chr&gt;</th></tr>\n",
              "</thead>\n",
              "<tbody>\n",
              "\t<tr><th scope=row>1</th><td>1.81</td><td>44</td><td>male</td><td>kuopio </td></tr>\n",
              "\t<tr><th scope=row>4</th><td>1.70</td><td>43</td><td>male</td><td>kuopio </td></tr>\n",
              "\t<tr><th scope=row>5</th><td>1.72</td><td>43</td><td>male</td><td>kuopio </td></tr>\n",
              "\t<tr><th scope=row>13</th><td>1.75</td><td>42</td><td>male</td><td>tampere</td></tr>\n",
              "\t<tr><th scope=row>14</th><td>1.81</td><td>44</td><td>male</td><td>tampere</td></tr>\n",
              "\t<tr><th scope=row>15</th><td>1.80</td><td>43</td><td>male</td><td>tampere</td></tr>\n",
              "\t<tr><th scope=row>16</th><td>1.77</td><td>43</td><td>male</td><td>tampere</td></tr>\n",
              "\t<tr><th scope=row>17</th><td>1.73</td><td>41</td><td>male</td><td>tampere</td></tr>\n",
              "</tbody>\n",
              "</table>\n"
            ],
            "text/latex": [
              "\\textbf{\\$male} = A data.frame: 8 × 4\n",
              "\\begin{tabular}{r|llll}\n",
              "  & height & shoesize & gender & population\\\\\n",
              "  & <dbl> & <int> & <chr> & <chr>\\\\\n",
              "\\hline\n",
              "\t1 & 1.81 & 44 & male & kuopio \\\\\n",
              "\t4 & 1.70 & 43 & male & kuopio \\\\\n",
              "\t5 & 1.72 & 43 & male & kuopio \\\\\n",
              "\t13 & 1.75 & 42 & male & tampere\\\\\n",
              "\t14 & 1.81 & 44 & male & tampere\\\\\n",
              "\t15 & 1.80 & 43 & male & tampere\\\\\n",
              "\t16 & 1.77 & 43 & male & tampere\\\\\n",
              "\t17 & 1.73 & 41 & male & tampere\\\\\n",
              "\\end{tabular}\n"
            ],
            "text/markdown": [
              "**$male** = \n",
              "A data.frame: 8 × 4\n",
              "\n",
              "| <!--/--> | height &lt;dbl&gt; | shoesize &lt;int&gt; | gender &lt;chr&gt; | population &lt;chr&gt; |\n",
              "|---|---|---|---|---|\n",
              "| 1 | 1.81 | 44 | male | kuopio  |\n",
              "| 4 | 1.70 | 43 | male | kuopio  |\n",
              "| 5 | 1.72 | 43 | male | kuopio  |\n",
              "| 13 | 1.75 | 42 | male | tampere |\n",
              "| 14 | 1.81 | 44 | male | tampere |\n",
              "| 15 | 1.80 | 43 | male | tampere |\n",
              "| 16 | 1.77 | 43 | male | tampere |\n",
              "| 17 | 1.73 | 41 | male | tampere |\n",
              "\n"
            ],
            "text/plain": [
              "$male\n",
              "   height shoesize gender population\n",
              "1    1.81       44   male     kuopio\n",
              "4    1.70       43   male     kuopio\n",
              "5    1.72       43   male     kuopio\n",
              "13   1.75       42   male    tampere\n",
              "14   1.81       44   male    tampere\n",
              "15   1.80       43   male    tampere\n",
              "16   1.77       43   male    tampere\n",
              "17   1.73       41   male    tampere\n"
            ]
          },
          "metadata": {},
          "output_type": "display_data"
        }
      ],
      "source": [
        "subsets <- list()\n",
        "\n",
        "for (gender_name in unique(students$gender)) {\n",
        "  data <- students[students$gender == gender_name, ]\n",
        "  # data <- subset(students, gender == gender_name)\n",
        "  subsets[[gender_name]] <- data\n",
        "}\n",
        "subsets[\"female\"]\n",
        "subsets[\"male\"]"
      ]
    },
    {
      "cell_type": "code",
      "execution_count": null,
      "metadata": {
        "colab": {
          "base_uri": "https://localhost:8080/",
          "height": 981
        },
        "id": "BVZPapTM4pIE",
        "outputId": "83573872-3f69-4778-d9ba-ef0e406f6733",
        "vscode": {
          "languageId": "r"
        }
      },
      "outputs": [
        {
          "data": {
            "text/html": [
              "170"
            ],
            "text/latex": [
              "170"
            ],
            "text/markdown": [
              "170"
            ],
            "text/plain": [
              "[1] 170"
            ]
          },
          "metadata": {},
          "output_type": "display_data"
        },
        {
          "data": {
            "text/html": [
              "<table class=\"dataframe\">\n",
              "<caption>A data.frame: 8 × 4</caption>\n",
              "<thead>\n",
              "\t<tr><th></th><th scope=col>height</th><th scope=col>shoesize</th><th scope=col>gender</th><th scope=col>population</th></tr>\n",
              "\t<tr><th></th><th scope=col>&lt;int&gt;</th><th scope=col>&lt;int&gt;</th><th scope=col>&lt;chr&gt;</th><th scope=col>&lt;chr&gt;</th></tr>\n",
              "</thead>\n",
              "<tbody>\n",
              "\t<tr><th scope=row>2</th><td>160</td><td>38</td><td>female</td><td>kuopio </td></tr>\n",
              "\t<tr><th scope=row>6</th><td>165</td><td>39</td><td>female</td><td>kuopio </td></tr>\n",
              "\t<tr><th scope=row>7</th><td>161</td><td>38</td><td>female</td><td>kuopio </td></tr>\n",
              "\t<tr><th scope=row>8</th><td>167</td><td>38</td><td>female</td><td>tampere</td></tr>\n",
              "\t<tr><th scope=row>9</th><td>164</td><td>39</td><td>female</td><td>tampere</td></tr>\n",
              "\t<tr><th scope=row>10</th><td>166</td><td>38</td><td>female</td><td>tampere</td></tr>\n",
              "\t<tr><th scope=row>11</th><td>162</td><td>37</td><td>female</td><td>tampere</td></tr>\n",
              "\t<tr><th scope=row>12</th><td>158</td><td>36</td><td>female</td><td>tampere</td></tr>\n",
              "</tbody>\n",
              "</table>\n"
            ],
            "text/latex": [
              "A data.frame: 8 × 4\n",
              "\\begin{tabular}{r|llll}\n",
              "  & height & shoesize & gender & population\\\\\n",
              "  & <int> & <int> & <chr> & <chr>\\\\\n",
              "\\hline\n",
              "\t2 & 160 & 38 & female & kuopio \\\\\n",
              "\t6 & 165 & 39 & female & kuopio \\\\\n",
              "\t7 & 161 & 38 & female & kuopio \\\\\n",
              "\t8 & 167 & 38 & female & tampere\\\\\n",
              "\t9 & 164 & 39 & female & tampere\\\\\n",
              "\t10 & 166 & 38 & female & tampere\\\\\n",
              "\t11 & 162 & 37 & female & tampere\\\\\n",
              "\t12 & 158 & 36 & female & tampere\\\\\n",
              "\\end{tabular}\n"
            ],
            "text/markdown": [
              "\n",
              "A data.frame: 8 × 4\n",
              "\n",
              "| <!--/--> | height &lt;int&gt; | shoesize &lt;int&gt; | gender &lt;chr&gt; | population &lt;chr&gt; |\n",
              "|---|---|---|---|---|\n",
              "| 2 | 160 | 38 | female | kuopio  |\n",
              "| 6 | 165 | 39 | female | kuopio  |\n",
              "| 7 | 161 | 38 | female | kuopio  |\n",
              "| 8 | 167 | 38 | female | tampere |\n",
              "| 9 | 164 | 39 | female | tampere |\n",
              "| 10 | 166 | 38 | female | tampere |\n",
              "| 11 | 162 | 37 | female | tampere |\n",
              "| 12 | 158 | 36 | female | tampere |\n",
              "\n"
            ],
            "text/plain": [
              "   height shoesize gender population\n",
              "2  160    38       female kuopio    \n",
              "6  165    39       female kuopio    \n",
              "7  161    38       female kuopio    \n",
              "8  167    38       female tampere   \n",
              "9  164    39       female tampere   \n",
              "10 166    38       female tampere   \n",
              "11 162    37       female tampere   \n",
              "12 158    36       female tampere   "
            ]
          },
          "metadata": {},
          "output_type": "display_data"
        },
        {
          "data": {
            "text/html": [
              "<table class=\"dataframe\">\n",
              "<caption>A data.frame: 17 × 4</caption>\n",
              "<thead>\n",
              "\t<tr><th></th><th scope=col>height</th><th scope=col>shoesize</th><th scope=col>gender</th><th scope=col>population</th></tr>\n",
              "\t<tr><th></th><th scope=col>&lt;int&gt;</th><th scope=col>&lt;int&gt;</th><th scope=col>&lt;chr&gt;</th><th scope=col>&lt;chr&gt;</th></tr>\n",
              "</thead>\n",
              "<tbody>\n",
              "\t<tr><th scope=row>1</th><td>181</td><td>44</td><td>male  </td><td>kuopio </td></tr>\n",
              "\t<tr><th scope=row>2</th><td>160</td><td>38</td><td>female</td><td>kuopio </td></tr>\n",
              "\t<tr><th scope=row>3</th><td>174</td><td>42</td><td>female</td><td>kuopio </td></tr>\n",
              "\t<tr><th scope=row>4</th><td>170</td><td>43</td><td>male  </td><td>kuopio </td></tr>\n",
              "\t<tr><th scope=row>5</th><td>172</td><td>43</td><td>male  </td><td>kuopio </td></tr>\n",
              "\t<tr><th scope=row>6</th><td>165</td><td>39</td><td>female</td><td>kuopio </td></tr>\n",
              "\t<tr><th scope=row>7</th><td>161</td><td>38</td><td>female</td><td>kuopio </td></tr>\n",
              "\t<tr><th scope=row>8</th><td>167</td><td>38</td><td>female</td><td>tampere</td></tr>\n",
              "\t<tr><th scope=row>9</th><td>164</td><td>39</td><td>female</td><td>tampere</td></tr>\n",
              "\t<tr><th scope=row>10</th><td>166</td><td>38</td><td>female</td><td>tampere</td></tr>\n",
              "\t<tr><th scope=row>11</th><td>162</td><td>37</td><td>female</td><td>tampere</td></tr>\n",
              "\t<tr><th scope=row>12</th><td>158</td><td>36</td><td>female</td><td>tampere</td></tr>\n",
              "\t<tr><th scope=row>13</th><td>175</td><td>42</td><td>male  </td><td>tampere</td></tr>\n",
              "\t<tr><th scope=row>14</th><td>181</td><td>44</td><td>male  </td><td>tampere</td></tr>\n",
              "\t<tr><th scope=row>15</th><td>180</td><td>43</td><td>male  </td><td>tampere</td></tr>\n",
              "\t<tr><th scope=row>16</th><td>177</td><td>43</td><td>male  </td><td>tampere</td></tr>\n",
              "\t<tr><th scope=row>17</th><td>173</td><td>41</td><td>male  </td><td>tampere</td></tr>\n",
              "</tbody>\n",
              "</table>\n"
            ],
            "text/latex": [
              "A data.frame: 17 × 4\n",
              "\\begin{tabular}{r|llll}\n",
              "  & height & shoesize & gender & population\\\\\n",
              "  & <int> & <int> & <chr> & <chr>\\\\\n",
              "\\hline\n",
              "\t1 & 181 & 44 & male   & kuopio \\\\\n",
              "\t2 & 160 & 38 & female & kuopio \\\\\n",
              "\t3 & 174 & 42 & female & kuopio \\\\\n",
              "\t4 & 170 & 43 & male   & kuopio \\\\\n",
              "\t5 & 172 & 43 & male   & kuopio \\\\\n",
              "\t6 & 165 & 39 & female & kuopio \\\\\n",
              "\t7 & 161 & 38 & female & kuopio \\\\\n",
              "\t8 & 167 & 38 & female & tampere\\\\\n",
              "\t9 & 164 & 39 & female & tampere\\\\\n",
              "\t10 & 166 & 38 & female & tampere\\\\\n",
              "\t11 & 162 & 37 & female & tampere\\\\\n",
              "\t12 & 158 & 36 & female & tampere\\\\\n",
              "\t13 & 175 & 42 & male   & tampere\\\\\n",
              "\t14 & 181 & 44 & male   & tampere\\\\\n",
              "\t15 & 180 & 43 & male   & tampere\\\\\n",
              "\t16 & 177 & 43 & male   & tampere\\\\\n",
              "\t17 & 173 & 41 & male   & tampere\\\\\n",
              "\\end{tabular}\n"
            ],
            "text/markdown": [
              "\n",
              "A data.frame: 17 × 4\n",
              "\n",
              "| <!--/--> | height &lt;int&gt; | shoesize &lt;int&gt; | gender &lt;chr&gt; | population &lt;chr&gt; |\n",
              "|---|---|---|---|---|\n",
              "| 1 | 181 | 44 | male   | kuopio  |\n",
              "| 2 | 160 | 38 | female | kuopio  |\n",
              "| 3 | 174 | 42 | female | kuopio  |\n",
              "| 4 | 170 | 43 | male   | kuopio  |\n",
              "| 5 | 172 | 43 | male   | kuopio  |\n",
              "| 6 | 165 | 39 | female | kuopio  |\n",
              "| 7 | 161 | 38 | female | kuopio  |\n",
              "| 8 | 167 | 38 | female | tampere |\n",
              "| 9 | 164 | 39 | female | tampere |\n",
              "| 10 | 166 | 38 | female | tampere |\n",
              "| 11 | 162 | 37 | female | tampere |\n",
              "| 12 | 158 | 36 | female | tampere |\n",
              "| 13 | 175 | 42 | male   | tampere |\n",
              "| 14 | 181 | 44 | male   | tampere |\n",
              "| 15 | 180 | 43 | male   | tampere |\n",
              "| 16 | 177 | 43 | male   | tampere |\n",
              "| 17 | 173 | 41 | male   | tampere |\n",
              "\n"
            ],
            "text/plain": [
              "   height shoesize gender population\n",
              "1  181    44       male   kuopio    \n",
              "2  160    38       female kuopio    \n",
              "3  174    42       female kuopio    \n",
              "4  170    43       male   kuopio    \n",
              "5  172    43       male   kuopio    \n",
              "6  165    39       female kuopio    \n",
              "7  161    38       female kuopio    \n",
              "8  167    38       female tampere   \n",
              "9  164    39       female tampere   \n",
              "10 166    38       female tampere   \n",
              "11 162    37       female tampere   \n",
              "12 158    36       female tampere   \n",
              "13 175    42       male   tampere   \n",
              "14 181    44       male   tampere   \n",
              "15 180    43       male   tampere   \n",
              "16 177    43       male   tampere   \n",
              "17 173    41       male   tampere   "
            ]
          },
          "metadata": {},
          "output_type": "display_data"
        }
      ],
      "source": [
        "median_height <- median(students$height)\n",
        "median_height\n",
        "students[students$height < median_height, ]\n",
        "subset(students, gender >= median_height)"
      ]
    },
    {
      "cell_type": "code",
      "execution_count": null,
      "metadata": {
        "colab": {
          "base_uri": "https://localhost:8080/",
          "height": 631
        },
        "id": "uQnEOsjB6iYS",
        "outputId": "b1f43af4-8ec9-4055-dd68-e085365c5427",
        "vscode": {
          "languageId": "r"
        }
      },
      "outputs": [
        {
          "data": {
            "text/html": [
              "<table class=\"dataframe\">\n",
              "<caption>A data.frame: 17 × 4</caption>\n",
              "<thead>\n",
              "\t<tr><th scope=col>height</th><th scope=col>shoesize</th><th scope=col>gender</th><th scope=col>population</th></tr>\n",
              "\t<tr><th scope=col>&lt;dbl&gt;</th><th scope=col>&lt;int&gt;</th><th scope=col>&lt;chr&gt;</th><th scope=col>&lt;chr&gt;</th></tr>\n",
              "</thead>\n",
              "<tbody>\n",
              "\t<tr><td>1.81</td><td>44</td><td>male  </td><td>kuopio </td></tr>\n",
              "\t<tr><td>1.60</td><td>38</td><td>female</td><td>kuopio </td></tr>\n",
              "\t<tr><td>1.74</td><td>42</td><td>female</td><td>kuopio </td></tr>\n",
              "\t<tr><td>1.70</td><td>43</td><td>male  </td><td>kuopio </td></tr>\n",
              "\t<tr><td>1.72</td><td>43</td><td>male  </td><td>kuopio </td></tr>\n",
              "\t<tr><td>1.65</td><td>39</td><td>female</td><td>kuopio </td></tr>\n",
              "\t<tr><td>1.61</td><td>38</td><td>female</td><td>kuopio </td></tr>\n",
              "\t<tr><td>1.67</td><td>38</td><td>female</td><td>tampere</td></tr>\n",
              "\t<tr><td>1.64</td><td>39</td><td>female</td><td>tampere</td></tr>\n",
              "\t<tr><td>1.66</td><td>38</td><td>female</td><td>tampere</td></tr>\n",
              "\t<tr><td>1.62</td><td>37</td><td>female</td><td>tampere</td></tr>\n",
              "\t<tr><td>1.58</td><td>36</td><td>female</td><td>tampere</td></tr>\n",
              "\t<tr><td>1.75</td><td>42</td><td>male  </td><td>tampere</td></tr>\n",
              "\t<tr><td>1.81</td><td>44</td><td>male  </td><td>tampere</td></tr>\n",
              "\t<tr><td>1.80</td><td>43</td><td>male  </td><td>tampere</td></tr>\n",
              "\t<tr><td>1.77</td><td>43</td><td>male  </td><td>tampere</td></tr>\n",
              "\t<tr><td>1.73</td><td>41</td><td>male  </td><td>tampere</td></tr>\n",
              "</tbody>\n",
              "</table>\n"
            ],
            "text/latex": [
              "A data.frame: 17 × 4\n",
              "\\begin{tabular}{llll}\n",
              " height & shoesize & gender & population\\\\\n",
              " <dbl> & <int> & <chr> & <chr>\\\\\n",
              "\\hline\n",
              "\t 1.81 & 44 & male   & kuopio \\\\\n",
              "\t 1.60 & 38 & female & kuopio \\\\\n",
              "\t 1.74 & 42 & female & kuopio \\\\\n",
              "\t 1.70 & 43 & male   & kuopio \\\\\n",
              "\t 1.72 & 43 & male   & kuopio \\\\\n",
              "\t 1.65 & 39 & female & kuopio \\\\\n",
              "\t 1.61 & 38 & female & kuopio \\\\\n",
              "\t 1.67 & 38 & female & tampere\\\\\n",
              "\t 1.64 & 39 & female & tampere\\\\\n",
              "\t 1.66 & 38 & female & tampere\\\\\n",
              "\t 1.62 & 37 & female & tampere\\\\\n",
              "\t 1.58 & 36 & female & tampere\\\\\n",
              "\t 1.75 & 42 & male   & tampere\\\\\n",
              "\t 1.81 & 44 & male   & tampere\\\\\n",
              "\t 1.80 & 43 & male   & tampere\\\\\n",
              "\t 1.77 & 43 & male   & tampere\\\\\n",
              "\t 1.73 & 41 & male   & tampere\\\\\n",
              "\\end{tabular}\n"
            ],
            "text/markdown": [
              "\n",
              "A data.frame: 17 × 4\n",
              "\n",
              "| height &lt;dbl&gt; | shoesize &lt;int&gt; | gender &lt;chr&gt; | population &lt;chr&gt; |\n",
              "|---|---|---|---|\n",
              "| 1.81 | 44 | male   | kuopio  |\n",
              "| 1.60 | 38 | female | kuopio  |\n",
              "| 1.74 | 42 | female | kuopio  |\n",
              "| 1.70 | 43 | male   | kuopio  |\n",
              "| 1.72 | 43 | male   | kuopio  |\n",
              "| 1.65 | 39 | female | kuopio  |\n",
              "| 1.61 | 38 | female | kuopio  |\n",
              "| 1.67 | 38 | female | tampere |\n",
              "| 1.64 | 39 | female | tampere |\n",
              "| 1.66 | 38 | female | tampere |\n",
              "| 1.62 | 37 | female | tampere |\n",
              "| 1.58 | 36 | female | tampere |\n",
              "| 1.75 | 42 | male   | tampere |\n",
              "| 1.81 | 44 | male   | tampere |\n",
              "| 1.80 | 43 | male   | tampere |\n",
              "| 1.77 | 43 | male   | tampere |\n",
              "| 1.73 | 41 | male   | tampere |\n",
              "\n"
            ],
            "text/plain": [
              "   height shoesize gender population\n",
              "1  1.81   44       male   kuopio    \n",
              "2  1.60   38       female kuopio    \n",
              "3  1.74   42       female kuopio    \n",
              "4  1.70   43       male   kuopio    \n",
              "5  1.72   43       male   kuopio    \n",
              "6  1.65   39       female kuopio    \n",
              "7  1.61   38       female kuopio    \n",
              "8  1.67   38       female tampere   \n",
              "9  1.64   39       female tampere   \n",
              "10 1.66   38       female tampere   \n",
              "11 1.62   37       female tampere   \n",
              "12 1.58   36       female tampere   \n",
              "13 1.75   42       male   tampere   \n",
              "14 1.81   44       male   tampere   \n",
              "15 1.80   43       male   tampere   \n",
              "16 1.77   43       male   tampere   \n",
              "17 1.73   41       male   tampere   "
            ]
          },
          "metadata": {},
          "output_type": "display_data"
        }
      ],
      "source": [
        "students_cm <- students\n",
        "\n",
        "students$height <- students$height / 100\n",
        "students"
      ]
    },
    {
      "cell_type": "code",
      "execution_count": null,
      "metadata": {
        "colab": {
          "base_uri": "https://localhost:8080/",
          "height": 631
        },
        "id": "RFdX8Qtf69yR",
        "outputId": "be66e1f3-bd54-4437-e9e9-5633aecad945",
        "vscode": {
          "languageId": "r"
        }
      },
      "outputs": [
        {
          "data": {
            "text/html": [
              "<table class=\"dataframe\">\n",
              "<caption>A data.frame: 17 × 4</caption>\n",
              "<thead>\n",
              "\t<tr><th scope=col>height</th><th scope=col>shoesize</th><th scope=col>gender</th><th scope=col>population</th></tr>\n",
              "\t<tr><th scope=col>&lt;dbl&gt;</th><th scope=col>&lt;int&gt;</th><th scope=col>&lt;chr&gt;</th><th scope=col>&lt;chr&gt;</th></tr>\n",
              "</thead>\n",
              "<tbody>\n",
              "\t<tr><td>1.81</td><td>44</td><td>male  </td><td>kuopio </td></tr>\n",
              "\t<tr><td>1.60</td><td>38</td><td>female</td><td>kuopio </td></tr>\n",
              "\t<tr><td>1.74</td><td>42</td><td>female</td><td>kuopio </td></tr>\n",
              "\t<tr><td>1.70</td><td>43</td><td>male  </td><td>kuopio </td></tr>\n",
              "\t<tr><td>1.72</td><td>43</td><td>male  </td><td>kuopio </td></tr>\n",
              "\t<tr><td>1.65</td><td>39</td><td>female</td><td>kuopio </td></tr>\n",
              "\t<tr><td>1.61</td><td>38</td><td>female</td><td>kuopio </td></tr>\n",
              "\t<tr><td>1.67</td><td>38</td><td>female</td><td>tampere</td></tr>\n",
              "\t<tr><td>1.64</td><td>39</td><td>female</td><td>tampere</td></tr>\n",
              "\t<tr><td>1.66</td><td>38</td><td>female</td><td>tampere</td></tr>\n",
              "\t<tr><td>1.62</td><td>37</td><td>female</td><td>tampere</td></tr>\n",
              "\t<tr><td>1.58</td><td>36</td><td>female</td><td>tampere</td></tr>\n",
              "\t<tr><td>1.75</td><td>42</td><td>male  </td><td>tampere</td></tr>\n",
              "\t<tr><td>1.81</td><td>44</td><td>male  </td><td>tampere</td></tr>\n",
              "\t<tr><td>1.80</td><td>43</td><td>male  </td><td>tampere</td></tr>\n",
              "\t<tr><td>1.77</td><td>43</td><td>male  </td><td>tampere</td></tr>\n",
              "\t<tr><td>1.73</td><td>41</td><td>male  </td><td>tampere</td></tr>\n",
              "</tbody>\n",
              "</table>\n"
            ],
            "text/latex": [
              "A data.frame: 17 × 4\n",
              "\\begin{tabular}{llll}\n",
              " height & shoesize & gender & population\\\\\n",
              " <dbl> & <int> & <chr> & <chr>\\\\\n",
              "\\hline\n",
              "\t 1.81 & 44 & male   & kuopio \\\\\n",
              "\t 1.60 & 38 & female & kuopio \\\\\n",
              "\t 1.74 & 42 & female & kuopio \\\\\n",
              "\t 1.70 & 43 & male   & kuopio \\\\\n",
              "\t 1.72 & 43 & male   & kuopio \\\\\n",
              "\t 1.65 & 39 & female & kuopio \\\\\n",
              "\t 1.61 & 38 & female & kuopio \\\\\n",
              "\t 1.67 & 38 & female & tampere\\\\\n",
              "\t 1.64 & 39 & female & tampere\\\\\n",
              "\t 1.66 & 38 & female & tampere\\\\\n",
              "\t 1.62 & 37 & female & tampere\\\\\n",
              "\t 1.58 & 36 & female & tampere\\\\\n",
              "\t 1.75 & 42 & male   & tampere\\\\\n",
              "\t 1.81 & 44 & male   & tampere\\\\\n",
              "\t 1.80 & 43 & male   & tampere\\\\\n",
              "\t 1.77 & 43 & male   & tampere\\\\\n",
              "\t 1.73 & 41 & male   & tampere\\\\\n",
              "\\end{tabular}\n"
            ],
            "text/markdown": [
              "\n",
              "A data.frame: 17 × 4\n",
              "\n",
              "| height &lt;dbl&gt; | shoesize &lt;int&gt; | gender &lt;chr&gt; | population &lt;chr&gt; |\n",
              "|---|---|---|---|\n",
              "| 1.81 | 44 | male   | kuopio  |\n",
              "| 1.60 | 38 | female | kuopio  |\n",
              "| 1.74 | 42 | female | kuopio  |\n",
              "| 1.70 | 43 | male   | kuopio  |\n",
              "| 1.72 | 43 | male   | kuopio  |\n",
              "| 1.65 | 39 | female | kuopio  |\n",
              "| 1.61 | 38 | female | kuopio  |\n",
              "| 1.67 | 38 | female | tampere |\n",
              "| 1.64 | 39 | female | tampere |\n",
              "| 1.66 | 38 | female | tampere |\n",
              "| 1.62 | 37 | female | tampere |\n",
              "| 1.58 | 36 | female | tampere |\n",
              "| 1.75 | 42 | male   | tampere |\n",
              "| 1.81 | 44 | male   | tampere |\n",
              "| 1.80 | 43 | male   | tampere |\n",
              "| 1.77 | 43 | male   | tampere |\n",
              "| 1.73 | 41 | male   | tampere |\n",
              "\n"
            ],
            "text/plain": [
              "   height shoesize gender population\n",
              "1  1.81   44       male   kuopio    \n",
              "2  1.60   38       female kuopio    \n",
              "3  1.74   42       female kuopio    \n",
              "4  1.70   43       male   kuopio    \n",
              "5  1.72   43       male   kuopio    \n",
              "6  1.65   39       female kuopio    \n",
              "7  1.61   38       female kuopio    \n",
              "8  1.67   38       female tampere   \n",
              "9  1.64   39       female tampere   \n",
              "10 1.66   38       female tampere   \n",
              "11 1.62   37       female tampere   \n",
              "12 1.58   36       female tampere   \n",
              "13 1.75   42       male   tampere   \n",
              "14 1.81   44       male   tampere   \n",
              "15 1.80   43       male   tampere   \n",
              "16 1.77   43       male   tampere   \n",
              "17 1.73   41       male   tampere   "
            ]
          },
          "metadata": {},
          "output_type": "display_data"
        }
      ],
      "source": [
        "students <- students_cm\n",
        "for (i in 1:nrow(students)) {\n",
        "  students$height[i] <- students$height[i] / 100\n",
        "}\n",
        "students"
      ]
    },
    {
      "cell_type": "code",
      "execution_count": null,
      "metadata": {
        "colab": {
          "base_uri": "https://localhost:8080/",
          "height": 631
        },
        "id": "1LVbkaxc76eU",
        "outputId": "9e53cfee-2cf4-4207-a84b-dd9cd2749a2a",
        "vscode": {
          "languageId": "r"
        }
      },
      "outputs": [
        {
          "data": {
            "text/html": [
              "<table class=\"dataframe\">\n",
              "<caption>A data.frame: 17 × 4</caption>\n",
              "<thead>\n",
              "\t<tr><th scope=col>height</th><th scope=col>shoesize</th><th scope=col>gender</th><th scope=col>population</th></tr>\n",
              "\t<tr><th scope=col>&lt;dbl&gt;</th><th scope=col>&lt;int&gt;</th><th scope=col>&lt;chr&gt;</th><th scope=col>&lt;chr&gt;</th></tr>\n",
              "</thead>\n",
              "<tbody>\n",
              "\t<tr><td>1.81</td><td>44</td><td>male  </td><td>kuopio </td></tr>\n",
              "\t<tr><td>1.60</td><td>38</td><td>female</td><td>kuopio </td></tr>\n",
              "\t<tr><td>1.74</td><td>42</td><td>female</td><td>kuopio </td></tr>\n",
              "\t<tr><td>1.70</td><td>43</td><td>male  </td><td>kuopio </td></tr>\n",
              "\t<tr><td>1.72</td><td>43</td><td>male  </td><td>kuopio </td></tr>\n",
              "\t<tr><td>1.65</td><td>39</td><td>female</td><td>kuopio </td></tr>\n",
              "\t<tr><td>1.61</td><td>38</td><td>female</td><td>kuopio </td></tr>\n",
              "\t<tr><td>1.67</td><td>38</td><td>female</td><td>tampere</td></tr>\n",
              "\t<tr><td>1.64</td><td>39</td><td>female</td><td>tampere</td></tr>\n",
              "\t<tr><td>1.66</td><td>38</td><td>female</td><td>tampere</td></tr>\n",
              "\t<tr><td>1.62</td><td>37</td><td>female</td><td>tampere</td></tr>\n",
              "\t<tr><td>1.58</td><td>36</td><td>female</td><td>tampere</td></tr>\n",
              "\t<tr><td>1.75</td><td>42</td><td>male  </td><td>tampere</td></tr>\n",
              "\t<tr><td>1.81</td><td>44</td><td>male  </td><td>tampere</td></tr>\n",
              "\t<tr><td>1.80</td><td>43</td><td>male  </td><td>tampere</td></tr>\n",
              "\t<tr><td>1.77</td><td>43</td><td>male  </td><td>tampere</td></tr>\n",
              "\t<tr><td>1.73</td><td>41</td><td>male  </td><td>tampere</td></tr>\n",
              "</tbody>\n",
              "</table>\n"
            ],
            "text/latex": [
              "A data.frame: 17 × 4\n",
              "\\begin{tabular}{llll}\n",
              " height & shoesize & gender & population\\\\\n",
              " <dbl> & <int> & <chr> & <chr>\\\\\n",
              "\\hline\n",
              "\t 1.81 & 44 & male   & kuopio \\\\\n",
              "\t 1.60 & 38 & female & kuopio \\\\\n",
              "\t 1.74 & 42 & female & kuopio \\\\\n",
              "\t 1.70 & 43 & male   & kuopio \\\\\n",
              "\t 1.72 & 43 & male   & kuopio \\\\\n",
              "\t 1.65 & 39 & female & kuopio \\\\\n",
              "\t 1.61 & 38 & female & kuopio \\\\\n",
              "\t 1.67 & 38 & female & tampere\\\\\n",
              "\t 1.64 & 39 & female & tampere\\\\\n",
              "\t 1.66 & 38 & female & tampere\\\\\n",
              "\t 1.62 & 37 & female & tampere\\\\\n",
              "\t 1.58 & 36 & female & tampere\\\\\n",
              "\t 1.75 & 42 & male   & tampere\\\\\n",
              "\t 1.81 & 44 & male   & tampere\\\\\n",
              "\t 1.80 & 43 & male   & tampere\\\\\n",
              "\t 1.77 & 43 & male   & tampere\\\\\n",
              "\t 1.73 & 41 & male   & tampere\\\\\n",
              "\\end{tabular}\n"
            ],
            "text/markdown": [
              "\n",
              "A data.frame: 17 × 4\n",
              "\n",
              "| height &lt;dbl&gt; | shoesize &lt;int&gt; | gender &lt;chr&gt; | population &lt;chr&gt; |\n",
              "|---|---|---|---|\n",
              "| 1.81 | 44 | male   | kuopio  |\n",
              "| 1.60 | 38 | female | kuopio  |\n",
              "| 1.74 | 42 | female | kuopio  |\n",
              "| 1.70 | 43 | male   | kuopio  |\n",
              "| 1.72 | 43 | male   | kuopio  |\n",
              "| 1.65 | 39 | female | kuopio  |\n",
              "| 1.61 | 38 | female | kuopio  |\n",
              "| 1.67 | 38 | female | tampere |\n",
              "| 1.64 | 39 | female | tampere |\n",
              "| 1.66 | 38 | female | tampere |\n",
              "| 1.62 | 37 | female | tampere |\n",
              "| 1.58 | 36 | female | tampere |\n",
              "| 1.75 | 42 | male   | tampere |\n",
              "| 1.81 | 44 | male   | tampere |\n",
              "| 1.80 | 43 | male   | tampere |\n",
              "| 1.77 | 43 | male   | tampere |\n",
              "| 1.73 | 41 | male   | tampere |\n",
              "\n"
            ],
            "text/plain": [
              "   height shoesize gender population\n",
              "1  1.81   44       male   kuopio    \n",
              "2  1.60   38       female kuopio    \n",
              "3  1.74   42       female kuopio    \n",
              "4  1.70   43       male   kuopio    \n",
              "5  1.72   43       male   kuopio    \n",
              "6  1.65   39       female kuopio    \n",
              "7  1.61   38       female kuopio    \n",
              "8  1.67   38       female tampere   \n",
              "9  1.64   39       female tampere   \n",
              "10 1.66   38       female tampere   \n",
              "11 1.62   37       female tampere   \n",
              "12 1.58   36       female tampere   \n",
              "13 1.75   42       male   tampere   \n",
              "14 1.81   44       male   tampere   \n",
              "15 1.80   43       male   tampere   \n",
              "16 1.77   43       male   tampere   \n",
              "17 1.73   41       male   tampere   "
            ]
          },
          "metadata": {},
          "output_type": "display_data"
        }
      ],
      "source": [
        "students <- students_cm\n",
        "students$height <- apply(students, 1, \\(row) as.numeric(row[\"height\"]) / 100) # 1 → by row\n",
        "students"
      ]
    },
    {
      "cell_type": "code",
      "execution_count": null,
      "metadata": {
        "colab": {
          "base_uri": "https://localhost:8080/",
          "height": 437
        },
        "id": "Dte--Oa-9Go7",
        "outputId": "806f4e2a-705c-4cfa-9584-25243c1112cc",
        "vscode": {
          "languageId": "r"
        }
      },
      "outputs": [
        {
          "data": {
            "image/png": "[encoded data removed]",
            "text/plain": [
              "Plot with title “Height vs. Shoe Size”"
            ]
          },
          "metadata": {
            "image/png": {
              "height": 420,
              "width": 420
            }
          },
          "output_type": "display_data"
        }
      ],
      "source": [
        "males <- students[students$gender == \"male\", ]\n",
        "females <- students[students$gender == \"female\", ]\n",
        "\n",
        "plot(\n",
        "  males$height, males$shoesize,\n",
        "  pch = 19,     #point char = solid circle,\n",
        "  col = \"blue\",\n",
        "  xlab = \"Height\",\n",
        "  ylab = \"Shoe Size\",\n",
        "  xlim = c(1.5, 1.9),\n",
        "  ylim = c(35, 45),\n",
        "  main = \"Height vs. Shoe Size\",\n",
        ")\n",
        "\n",
        "points(\n",
        "  females$height, females$shoesize,\n",
        "  pch = 3,\n",
        "  col = \"magenta\",\n",
        ")\n",
        "\n",
        "legend(\n",
        "  \"bottomright\",\n",
        "  legend = c(\"Male\", \"Female\"),\n",
        "  col = c(\"blue\", \"magenta\"),\n",
        "  pch = c(19, 3)\n",
        ")\n"
      ]
    },
    {
      "cell_type": "code",
      "execution_count": null,
      "metadata": {
        "id": "mHNYmt-9_U6q",
        "vscode": {
          "languageId": "r"
        }
      },
      "outputs": [],
      "source": [
        "?points"
      ]
    }
  ],
  "metadata": {
    "colab": {
      "provenance": []
    },
    "kernelspec": {
      "display_name": "R",
      "name": "ir"
    },
    "language_info": {
      "name": "R"
    }
  },
  "nbformat": 4,
  "nbformat_minor": 0
}
