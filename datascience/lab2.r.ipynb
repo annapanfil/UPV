{
  "cells": [
    {
      "cell_type": "markdown",
      "metadata": {
        "id": "ydaSpUKYxJXk"
      },
      "source": [
        "# Exercise 1: Inspection of data."
      ]
    },
    {
      "cell_type": "code",
      "execution_count": 3,
      "metadata": {
        "id": "IxKznz_mWoaM",
        "vscode": {
          "languageId": "r"
        }
      },
      "outputs": [],
      "source": [
        "titanic <- read.csv(\"data/titanic.csv\",header=TRUE, sep=\",\")"
      ]
    },
    {
      "cell_type": "code",
      "execution_count": 4,
      "metadata": {
        "colab": {
          "base_uri": "https://localhost:8080/",
          "height": 34
        },
        "id": "3iOn2ipiXAdf",
        "outputId": "11b0d6fc-d78c-4559-8b74-53d19f390f7a",
        "vscode": {
          "languageId": "r"
        }
      },
      "outputs": [
        {
          "data": {
            "text/html": [
              "<style>\n",
              ".list-inline {list-style: none; margin:0; padding: 0}\n",
              ".list-inline>li {display: inline-block}\n",
              ".list-inline>li:not(:last-child)::after {content: \"\\00b7\"; padding: 0 .5ex}\n",
              "</style>\n",
              "<ol class=list-inline><li>'X'</li><li>'Class'</li><li>'Sex'</li><li>'Age'</li><li>'Survived'</li><li>'Freq'</li></ol>\n"
            ],
            "text/latex": [
              "\\begin{enumerate*}\n",
              "\\item 'X'\n",
              "\\item 'Class'\n",
              "\\item 'Sex'\n",
              "\\item 'Age'\n",
              "\\item 'Survived'\n",
              "\\item 'Freq'\n",
              "\\end{enumerate*}\n"
            ],
            "text/markdown": [
              "1. 'X'\n",
              "2. 'Class'\n",
              "3. 'Sex'\n",
              "4. 'Age'\n",
              "5. 'Survived'\n",
              "6. 'Freq'\n",
              "\n",
              "\n"
            ],
            "text/plain": [
              "[1] \"X\"        \"Class\"    \"Sex\"      \"Age\"      \"Survived\" \"Freq\"    "
            ]
          },
          "metadata": {},
          "output_type": "display_data"
        }
      ],
      "source": [
        "names(titanic)"
      ]
    },
    {
      "cell_type": "code",
      "execution_count": 5,
      "metadata": {
        "id": "Lo9uJDBfYMGD",
        "vscode": {
          "languageId": "r"
        }
      },
      "outputs": [],
      "source": [
        "titanic<-subset(titanic,select=-X)\n",
        "# subset() tworzy nowego podzbioru ramki danych\n",
        "# select=-X To argument funkcji subset(), który określa, które kolumny zostaną wybrane lub odrzucone w nowym podzbiorze.\n",
        "# -X oznacza, że kolumna o nazwie \"X\" zostanie odrzucona z nowego podzbioru"
      ]
    },
    {
      "cell_type": "code",
      "execution_count": 6,
      "metadata": {
        "colab": {
          "base_uri": "https://localhost:8080/",
          "height": 34
        },
        "id": "lcQGVyGeYRpP",
        "outputId": "ab4a703d-fafd-4cfe-ebdf-8ba51585a2fb",
        "vscode": {
          "languageId": "r"
        }
      },
      "outputs": [
        {
          "data": {
            "text/html": [
              "<style>\n",
              ".list-inline {list-style: none; margin:0; padding: 0}\n",
              ".list-inline>li {display: inline-block}\n",
              ".list-inline>li:not(:last-child)::after {content: \"\\00b7\"; padding: 0 .5ex}\n",
              "</style>\n",
              "<ol class=list-inline><li>'Class'</li><li>'Sex'</li><li>'Age'</li><li>'Survived'</li><li>'Freq'</li></ol>\n"
            ],
            "text/latex": [
              "\\begin{enumerate*}\n",
              "\\item 'Class'\n",
              "\\item 'Sex'\n",
              "\\item 'Age'\n",
              "\\item 'Survived'\n",
              "\\item 'Freq'\n",
              "\\end{enumerate*}\n"
            ],
            "text/markdown": [
              "1. 'Class'\n",
              "2. 'Sex'\n",
              "3. 'Age'\n",
              "4. 'Survived'\n",
              "5. 'Freq'\n",
              "\n",
              "\n"
            ],
            "text/plain": [
              "[1] \"Class\"    \"Sex\"      \"Age\"      \"Survived\" \"Freq\"    "
            ]
          },
          "metadata": {},
          "output_type": "display_data"
        }
      ],
      "source": [
        "names(titanic)"
      ]
    },
    {
      "cell_type": "code",
      "execution_count": 7,
      "metadata": {
        "colab": {
          "base_uri": "https://localhost:8080/",
          "height": 1000
        },
        "id": "f9C3q1VUYTMF",
        "outputId": "d41c9213-b8cd-4744-a08f-6bc68ccb99f5",
        "vscode": {
          "languageId": "r"
        }
      },
      "outputs": [
        {
          "data": {
            "text/html": [
              "<table class=\"dataframe\">\n",
              "<caption>A data.frame: 32 × 5</caption>\n",
              "<thead>\n",
              "\t<tr><th></th><th scope=col>Class</th><th scope=col>Sex</th><th scope=col>Age</th><th scope=col>Survived</th><th scope=col>Freq</th></tr>\n",
              "\t<tr><th></th><th scope=col>&lt;chr&gt;</th><th scope=col>&lt;chr&gt;</th><th scope=col>&lt;chr&gt;</th><th scope=col>&lt;chr&gt;</th><th scope=col>&lt;int&gt;</th></tr>\n",
              "</thead>\n",
              "<tbody>\n",
              "\t<tr><th scope=row>1</th><td>1st </td><td>Male  </td><td>Child</td><td>No </td><td>  0</td></tr>\n",
              "\t<tr><th scope=row>2</th><td>2nd </td><td>Male  </td><td>Child</td><td>No </td><td>  0</td></tr>\n",
              "\t<tr><th scope=row>3</th><td>3rd </td><td>Male  </td><td>Child</td><td>No </td><td> 35</td></tr>\n",
              "\t<tr><th scope=row>4</th><td>Crew</td><td>Male  </td><td>Child</td><td>No </td><td>  0</td></tr>\n",
              "\t<tr><th scope=row>5</th><td>1st </td><td>Female</td><td>Child</td><td>No </td><td>  0</td></tr>\n",
              "\t<tr><th scope=row>6</th><td>2nd </td><td>Female</td><td>Child</td><td>No </td><td>  0</td></tr>\n",
              "\t<tr><th scope=row>7</th><td>3rd </td><td>Female</td><td>Child</td><td>No </td><td> 17</td></tr>\n",
              "\t<tr><th scope=row>8</th><td>Crew</td><td>Female</td><td>Child</td><td>No </td><td>  0</td></tr>\n",
              "\t<tr><th scope=row>9</th><td>1st </td><td>Male  </td><td>Adult</td><td>No </td><td>118</td></tr>\n",
              "\t<tr><th scope=row>10</th><td>2nd </td><td>Male  </td><td>Adult</td><td>No </td><td>154</td></tr>\n",
              "\t<tr><th scope=row>11</th><td>3rd </td><td>Male  </td><td>Adult</td><td>No </td><td>387</td></tr>\n",
              "\t<tr><th scope=row>12</th><td>Crew</td><td>Male  </td><td>Adult</td><td>No </td><td>670</td></tr>\n",
              "\t<tr><th scope=row>13</th><td>1st </td><td>Female</td><td>Adult</td><td>No </td><td>  4</td></tr>\n",
              "\t<tr><th scope=row>14</th><td>2nd </td><td>Female</td><td>Adult</td><td>No </td><td> 13</td></tr>\n",
              "\t<tr><th scope=row>15</th><td>3rd </td><td>Female</td><td>Adult</td><td>No </td><td> 89</td></tr>\n",
              "\t<tr><th scope=row>16</th><td>Crew</td><td>Female</td><td>Adult</td><td>No </td><td>  3</td></tr>\n",
              "\t<tr><th scope=row>17</th><td>1st </td><td>Male  </td><td>Child</td><td>Yes</td><td>  5</td></tr>\n",
              "\t<tr><th scope=row>18</th><td>2nd </td><td>Male  </td><td>Child</td><td>Yes</td><td> 11</td></tr>\n",
              "\t<tr><th scope=row>19</th><td>3rd </td><td>Male  </td><td>Child</td><td>Yes</td><td> 13</td></tr>\n",
              "\t<tr><th scope=row>20</th><td>Crew</td><td>Male  </td><td>Child</td><td>Yes</td><td>  0</td></tr>\n",
              "\t<tr><th scope=row>21</th><td>1st </td><td>Female</td><td>Child</td><td>Yes</td><td>  1</td></tr>\n",
              "\t<tr><th scope=row>22</th><td>2nd </td><td>Female</td><td>Child</td><td>Yes</td><td> 13</td></tr>\n",
              "\t<tr><th scope=row>23</th><td>3rd </td><td>Female</td><td>Child</td><td>Yes</td><td> 14</td></tr>\n",
              "\t<tr><th scope=row>24</th><td>Crew</td><td>Female</td><td>Child</td><td>Yes</td><td>  0</td></tr>\n",
              "\t<tr><th scope=row>25</th><td>1st </td><td>Male  </td><td>Adult</td><td>Yes</td><td> 57</td></tr>\n",
              "\t<tr><th scope=row>26</th><td>2nd </td><td>Male  </td><td>Adult</td><td>Yes</td><td> 14</td></tr>\n",
              "\t<tr><th scope=row>27</th><td>3rd </td><td>Male  </td><td>Adult</td><td>Yes</td><td> 75</td></tr>\n",
              "\t<tr><th scope=row>28</th><td>Crew</td><td>Male  </td><td>Adult</td><td>Yes</td><td>192</td></tr>\n",
              "\t<tr><th scope=row>29</th><td>1st </td><td>Female</td><td>Adult</td><td>Yes</td><td>140</td></tr>\n",
              "\t<tr><th scope=row>30</th><td>2nd </td><td>Female</td><td>Adult</td><td>Yes</td><td> 80</td></tr>\n",
              "\t<tr><th scope=row>31</th><td>3rd </td><td>Female</td><td>Adult</td><td>Yes</td><td> 76</td></tr>\n",
              "\t<tr><th scope=row>32</th><td>Crew</td><td>Female</td><td>Adult</td><td>Yes</td><td> 20</td></tr>\n",
              "</tbody>\n",
              "</table>\n"
            ],
            "text/latex": [
              "A data.frame: 32 × 5\n",
              "\\begin{tabular}{r|lllll}\n",
              "  & Class & Sex & Age & Survived & Freq\\\\\n",
              "  & <chr> & <chr> & <chr> & <chr> & <int>\\\\\n",
              "\\hline\n",
              "\t1 & 1st  & Male   & Child & No  &   0\\\\\n",
              "\t2 & 2nd  & Male   & Child & No  &   0\\\\\n",
              "\t3 & 3rd  & Male   & Child & No  &  35\\\\\n",
              "\t4 & Crew & Male   & Child & No  &   0\\\\\n",
              "\t5 & 1st  & Female & Child & No  &   0\\\\\n",
              "\t6 & 2nd  & Female & Child & No  &   0\\\\\n",
              "\t7 & 3rd  & Female & Child & No  &  17\\\\\n",
              "\t8 & Crew & Female & Child & No  &   0\\\\\n",
              "\t9 & 1st  & Male   & Adult & No  & 118\\\\\n",
              "\t10 & 2nd  & Male   & Adult & No  & 154\\\\\n",
              "\t11 & 3rd  & Male   & Adult & No  & 387\\\\\n",
              "\t12 & Crew & Male   & Adult & No  & 670\\\\\n",
              "\t13 & 1st  & Female & Adult & No  &   4\\\\\n",
              "\t14 & 2nd  & Female & Adult & No  &  13\\\\\n",
              "\t15 & 3rd  & Female & Adult & No  &  89\\\\\n",
              "\t16 & Crew & Female & Adult & No  &   3\\\\\n",
              "\t17 & 1st  & Male   & Child & Yes &   5\\\\\n",
              "\t18 & 2nd  & Male   & Child & Yes &  11\\\\\n",
              "\t19 & 3rd  & Male   & Child & Yes &  13\\\\\n",
              "\t20 & Crew & Male   & Child & Yes &   0\\\\\n",
              "\t21 & 1st  & Female & Child & Yes &   1\\\\\n",
              "\t22 & 2nd  & Female & Child & Yes &  13\\\\\n",
              "\t23 & 3rd  & Female & Child & Yes &  14\\\\\n",
              "\t24 & Crew & Female & Child & Yes &   0\\\\\n",
              "\t25 & 1st  & Male   & Adult & Yes &  57\\\\\n",
              "\t26 & 2nd  & Male   & Adult & Yes &  14\\\\\n",
              "\t27 & 3rd  & Male   & Adult & Yes &  75\\\\\n",
              "\t28 & Crew & Male   & Adult & Yes & 192\\\\\n",
              "\t29 & 1st  & Female & Adult & Yes & 140\\\\\n",
              "\t30 & 2nd  & Female & Adult & Yes &  80\\\\\n",
              "\t31 & 3rd  & Female & Adult & Yes &  76\\\\\n",
              "\t32 & Crew & Female & Adult & Yes &  20\\\\\n",
              "\\end{tabular}\n"
            ],
            "text/markdown": [
              "\n",
              "A data.frame: 32 × 5\n",
              "\n",
              "| <!--/--> | Class &lt;chr&gt; | Sex &lt;chr&gt; | Age &lt;chr&gt; | Survived &lt;chr&gt; | Freq &lt;int&gt; |\n",
              "|---|---|---|---|---|---|\n",
              "| 1 | 1st  | Male   | Child | No  |   0 |\n",
              "| 2 | 2nd  | Male   | Child | No  |   0 |\n",
              "| 3 | 3rd  | Male   | Child | No  |  35 |\n",
              "| 4 | Crew | Male   | Child | No  |   0 |\n",
              "| 5 | 1st  | Female | Child | No  |   0 |\n",
              "| 6 | 2nd  | Female | Child | No  |   0 |\n",
              "| 7 | 3rd  | Female | Child | No  |  17 |\n",
              "| 8 | Crew | Female | Child | No  |   0 |\n",
              "| 9 | 1st  | Male   | Adult | No  | 118 |\n",
              "| 10 | 2nd  | Male   | Adult | No  | 154 |\n",
              "| 11 | 3rd  | Male   | Adult | No  | 387 |\n",
              "| 12 | Crew | Male   | Adult | No  | 670 |\n",
              "| 13 | 1st  | Female | Adult | No  |   4 |\n",
              "| 14 | 2nd  | Female | Adult | No  |  13 |\n",
              "| 15 | 3rd  | Female | Adult | No  |  89 |\n",
              "| 16 | Crew | Female | Adult | No  |   3 |\n",
              "| 17 | 1st  | Male   | Child | Yes |   5 |\n",
              "| 18 | 2nd  | Male   | Child | Yes |  11 |\n",
              "| 19 | 3rd  | Male   | Child | Yes |  13 |\n",
              "| 20 | Crew | Male   | Child | Yes |   0 |\n",
              "| 21 | 1st  | Female | Child | Yes |   1 |\n",
              "| 22 | 2nd  | Female | Child | Yes |  13 |\n",
              "| 23 | 3rd  | Female | Child | Yes |  14 |\n",
              "| 24 | Crew | Female | Child | Yes |   0 |\n",
              "| 25 | 1st  | Male   | Adult | Yes |  57 |\n",
              "| 26 | 2nd  | Male   | Adult | Yes |  14 |\n",
              "| 27 | 3rd  | Male   | Adult | Yes |  75 |\n",
              "| 28 | Crew | Male   | Adult | Yes | 192 |\n",
              "| 29 | 1st  | Female | Adult | Yes | 140 |\n",
              "| 30 | 2nd  | Female | Adult | Yes |  80 |\n",
              "| 31 | 3rd  | Female | Adult | Yes |  76 |\n",
              "| 32 | Crew | Female | Adult | Yes |  20 |\n",
              "\n"
            ],
            "text/plain": [
              "   Class Sex    Age   Survived Freq\n",
              "1  1st   Male   Child No         0 \n",
              "2  2nd   Male   Child No         0 \n",
              "3  3rd   Male   Child No        35 \n",
              "4  Crew  Male   Child No         0 \n",
              "5  1st   Female Child No         0 \n",
              "6  2nd   Female Child No         0 \n",
              "7  3rd   Female Child No        17 \n",
              "8  Crew  Female Child No         0 \n",
              "9  1st   Male   Adult No       118 \n",
              "10 2nd   Male   Adult No       154 \n",
              "11 3rd   Male   Adult No       387 \n",
              "12 Crew  Male   Adult No       670 \n",
              "13 1st   Female Adult No         4 \n",
              "14 2nd   Female Adult No        13 \n",
              "15 3rd   Female Adult No        89 \n",
              "16 Crew  Female Adult No         3 \n",
              "17 1st   Male   Child Yes        5 \n",
              "18 2nd   Male   Child Yes       11 \n",
              "19 3rd   Male   Child Yes       13 \n",
              "20 Crew  Male   Child Yes        0 \n",
              "21 1st   Female Child Yes        1 \n",
              "22 2nd   Female Child Yes       13 \n",
              "23 3rd   Female Child Yes       14 \n",
              "24 Crew  Female Child Yes        0 \n",
              "25 1st   Male   Adult Yes       57 \n",
              "26 2nd   Male   Adult Yes       14 \n",
              "27 3rd   Male   Adult Yes       75 \n",
              "28 Crew  Male   Adult Yes      192 \n",
              "29 1st   Female Adult Yes      140 \n",
              "30 2nd   Female Adult Yes       80 \n",
              "31 3rd   Female Adult Yes       76 \n",
              "32 Crew  Female Adult Yes       20 "
            ]
          },
          "metadata": {},
          "output_type": "display_data"
        }
      ],
      "source": [
        "titanic"
      ]
    },
    {
      "cell_type": "code",
      "execution_count": 8,
      "metadata": {
        "colab": {
          "base_uri": "https://localhost:8080/",
          "height": 286
        },
        "id": "cAtfovVZYWBx",
        "outputId": "56d612d2-d420-4658-a0c0-7625b60b4ed4",
        "vscode": {
          "languageId": "r"
        }
      },
      "outputs": [
        {
          "data": {
            "text/html": [
              "<table class=\"dataframe\">\n",
              "<caption>A data.frame: 6 × 5</caption>\n",
              "<thead>\n",
              "\t<tr><th></th><th scope=col>Class</th><th scope=col>Sex</th><th scope=col>Age</th><th scope=col>Survived</th><th scope=col>Freq</th></tr>\n",
              "\t<tr><th></th><th scope=col>&lt;chr&gt;</th><th scope=col>&lt;chr&gt;</th><th scope=col>&lt;chr&gt;</th><th scope=col>&lt;chr&gt;</th><th scope=col>&lt;int&gt;</th></tr>\n",
              "</thead>\n",
              "<tbody>\n",
              "\t<tr><th scope=row>1</th><td>1st </td><td>Male  </td><td>Child</td><td>No</td><td> 0</td></tr>\n",
              "\t<tr><th scope=row>2</th><td>2nd </td><td>Male  </td><td>Child</td><td>No</td><td> 0</td></tr>\n",
              "\t<tr><th scope=row>3</th><td>3rd </td><td>Male  </td><td>Child</td><td>No</td><td>35</td></tr>\n",
              "\t<tr><th scope=row>4</th><td>Crew</td><td>Male  </td><td>Child</td><td>No</td><td> 0</td></tr>\n",
              "\t<tr><th scope=row>5</th><td>1st </td><td>Female</td><td>Child</td><td>No</td><td> 0</td></tr>\n",
              "\t<tr><th scope=row>6</th><td>2nd </td><td>Female</td><td>Child</td><td>No</td><td> 0</td></tr>\n",
              "</tbody>\n",
              "</table>\n"
            ],
            "text/latex": [
              "A data.frame: 6 × 5\n",
              "\\begin{tabular}{r|lllll}\n",
              "  & Class & Sex & Age & Survived & Freq\\\\\n",
              "  & <chr> & <chr> & <chr> & <chr> & <int>\\\\\n",
              "\\hline\n",
              "\t1 & 1st  & Male   & Child & No &  0\\\\\n",
              "\t2 & 2nd  & Male   & Child & No &  0\\\\\n",
              "\t3 & 3rd  & Male   & Child & No & 35\\\\\n",
              "\t4 & Crew & Male   & Child & No &  0\\\\\n",
              "\t5 & 1st  & Female & Child & No &  0\\\\\n",
              "\t6 & 2nd  & Female & Child & No &  0\\\\\n",
              "\\end{tabular}\n"
            ],
            "text/markdown": [
              "\n",
              "A data.frame: 6 × 5\n",
              "\n",
              "| <!--/--> | Class &lt;chr&gt; | Sex &lt;chr&gt; | Age &lt;chr&gt; | Survived &lt;chr&gt; | Freq &lt;int&gt; |\n",
              "|---|---|---|---|---|---|\n",
              "| 1 | 1st  | Male   | Child | No |  0 |\n",
              "| 2 | 2nd  | Male   | Child | No |  0 |\n",
              "| 3 | 3rd  | Male   | Child | No | 35 |\n",
              "| 4 | Crew | Male   | Child | No |  0 |\n",
              "| 5 | 1st  | Female | Child | No |  0 |\n",
              "| 6 | 2nd  | Female | Child | No |  0 |\n",
              "\n"
            ],
            "text/plain": [
              "  Class Sex    Age   Survived Freq\n",
              "1 1st   Male   Child No        0  \n",
              "2 2nd   Male   Child No        0  \n",
              "3 3rd   Male   Child No       35  \n",
              "4 Crew  Male   Child No        0  \n",
              "5 1st   Female Child No        0  \n",
              "6 2nd   Female Child No        0  "
            ]
          },
          "metadata": {},
          "output_type": "display_data"
        }
      ],
      "source": [
        "head(titanic)"
      ]
    },
    {
      "cell_type": "code",
      "execution_count": 9,
      "metadata": {
        "colab": {
          "base_uri": "https://localhost:8080/",
          "height": 260
        },
        "id": "IfHstmqCYYeH",
        "outputId": "e96bed8d-80d6-43d3-af3f-244863aa7e35",
        "vscode": {
          "languageId": "r"
        }
      },
      "outputs": [
        {
          "data": {
            "text/plain": [
              "    Class               Sex                Age              Survived        \n",
              " Length:32          Length:32          Length:32          Length:32         \n",
              " Class :character   Class :character   Class :character   Class :character  \n",
              " Mode  :character   Mode  :character   Mode  :character   Mode  :character  \n",
              "                                                                            \n",
              "                                                                            \n",
              "                                                                            \n",
              "      Freq       \n",
              " Min.   :  0.00  \n",
              " 1st Qu.:  0.75  \n",
              " Median : 13.50  \n",
              " Mean   : 68.78  \n",
              " 3rd Qu.: 77.00  \n",
              " Max.   :670.00  "
            ]
          },
          "metadata": {},
          "output_type": "display_data"
        }
      ],
      "source": [
        "summary(titanic)"
      ]
    },
    {
      "cell_type": "code",
      "execution_count": 10,
      "metadata": {
        "colab": {
          "base_uri": "https://localhost:8080/",
          "height": 437
        },
        "id": "ZHmSmIzyYaOr",
        "outputId": "927b0da8-8b3d-40f9-9cb5-5f77886d0b5a",
        "vscode": {
          "languageId": "r"
        }
      },
      "outputs": [
        {
          "data": {
            "image/png": "[encoded data removed]",
            "text/plain": [
              "plot without title"
            ]
          },
          "metadata": {
            "image/png": {
              "height": 420,
              "width": 420
            }
          },
          "output_type": "display_data"
        }
      ],
      "source": [
        "plot(titanic)"
      ]
    },
    {
      "cell_type": "markdown",
      "metadata": {
        "id": "JiHjqkkFYhyj"
      },
      "source": [
        "Which variables are quantitative and which variables are categorical?\n",
        "How can we know it?\n",
        "\n",
        "Quantitative is only \"Freq\" column. I know this from int sign after printing data."
      ]
    },
    {
      "cell_type": "markdown",
      "metadata": {
        "id": "lcBfprigyVt1"
      },
      "source": [
        "# Exercise 2: Working with basic graphics."
      ]
    },
    {
      "cell_type": "code",
      "execution_count": 12,
      "metadata": {
        "id": "AO9y3ep7YcIy",
        "vscode": {
          "languageId": "r"
        }
      },
      "outputs": [],
      "source": [
        "cars <- read.csv(\"data/cars.csv\",header=TRUE, sep=\",\")"
      ]
    },
    {
      "cell_type": "code",
      "execution_count": 13,
      "metadata": {
        "colab": {
          "base_uri": "https://localhost:8080/",
          "height": 192
        },
        "id": "Pc-dyDf-ZOf2",
        "outputId": "4e3d89f0-0ba6-4011-fff5-5e58783b57f3",
        "vscode": {
          "languageId": "r"
        }
      },
      "outputs": [
        {
          "data": {
            "text/html": [
              "<table class=\"dataframe\">\n",
              "<caption>A data.frame: 3 × 3</caption>\n",
              "<thead>\n",
              "\t<tr><th></th><th scope=col>X</th><th scope=col>speed</th><th scope=col>dist</th></tr>\n",
              "\t<tr><th></th><th scope=col>&lt;int&gt;</th><th scope=col>&lt;int&gt;</th><th scope=col>&lt;int&gt;</th></tr>\n",
              "</thead>\n",
              "<tbody>\n",
              "\t<tr><th scope=row>1</th><td>1</td><td>4</td><td> 2</td></tr>\n",
              "\t<tr><th scope=row>2</th><td>2</td><td>4</td><td>10</td></tr>\n",
              "\t<tr><th scope=row>3</th><td>3</td><td>7</td><td> 4</td></tr>\n",
              "</tbody>\n",
              "</table>\n"
            ],
            "text/latex": [
              "A data.frame: 3 × 3\n",
              "\\begin{tabular}{r|lll}\n",
              "  & X & speed & dist\\\\\n",
              "  & <int> & <int> & <int>\\\\\n",
              "\\hline\n",
              "\t1 & 1 & 4 &  2\\\\\n",
              "\t2 & 2 & 4 & 10\\\\\n",
              "\t3 & 3 & 7 &  4\\\\\n",
              "\\end{tabular}\n"
            ],
            "text/markdown": [
              "\n",
              "A data.frame: 3 × 3\n",
              "\n",
              "| <!--/--> | X &lt;int&gt; | speed &lt;int&gt; | dist &lt;int&gt; |\n",
              "|---|---|---|---|\n",
              "| 1 | 1 | 4 |  2 |\n",
              "| 2 | 2 | 4 | 10 |\n",
              "| 3 | 3 | 7 |  4 |\n",
              "\n"
            ],
            "text/plain": [
              "  X speed dist\n",
              "1 1 4      2  \n",
              "2 2 4     10  \n",
              "3 3 7      4  "
            ]
          },
          "metadata": {},
          "output_type": "display_data"
        }
      ],
      "source": [
        "head(cars, 3)"
      ]
    },
    {
      "cell_type": "code",
      "execution_count": 14,
      "metadata": {
        "colab": {
          "base_uri": "https://localhost:8080/",
          "height": 34
        },
        "id": "Nzml858cZPs1",
        "outputId": "2b393c64-f9fa-47ca-84e8-7be074baca56",
        "vscode": {
          "languageId": "r"
        }
      },
      "outputs": [
        {
          "data": {
            "text/html": [
              "<strong>png:</strong> 2"
            ],
            "text/latex": [
              "\\textbf{png:} 2"
            ],
            "text/markdown": [
              "**png:** 2"
            ],
            "text/plain": [
              "png \n",
              "  2 "
            ]
          },
          "metadata": {},
          "output_type": "display_data"
        }
      ],
      "source": [
        "pdf(\"plot1.pdf\")\n",
        "plot(cars$speed, cars$dist,\n",
        "     xlab = \"Speed\", ylab = \"Distance\",\n",
        "     main = \"Stopping Distances of Cars\",\n",
        "     pch = 16, col = \"blue\") #pch różne symbole\n",
        "dev.off()\n"
      ]
    },
    {
      "cell_type": "code",
      "execution_count": 15,
      "metadata": {
        "colab": {
          "base_uri": "https://localhost:8080/",
          "height": 34
        },
        "id": "K7jdWm9oZcln",
        "outputId": "7dd249fb-449e-4841-cb82-d6aa6452b477",
        "vscode": {
          "languageId": "r"
        }
      },
      "outputs": [
        {
          "data": {
            "text/html": [
              "<strong>png:</strong> 2"
            ],
            "text/latex": [
              "\\textbf{png:} 2"
            ],
            "text/markdown": [
              "**png:** 2"
            ],
            "text/plain": [
              "png \n",
              "  2 "
            ]
          },
          "metadata": {},
          "output_type": "display_data"
        }
      ],
      "source": [
        "pdf(\"plot2.pdf\")\n",
        "hist(cars$dist,\n",
        "     main = \"Histogram of Distance\",\n",
        "     xlab = \"Distance\",\n",
        "     ylab = \"Frequency\",\n",
        "     col = \"lightblue\",\n",
        "     border = \"black\") # obramowanie słupków\n",
        "dev.off()\n"
      ]
    },
    {
      "cell_type": "code",
      "execution_count": 16,
      "metadata": {
        "colab": {
          "base_uri": "https://localhost:8080/",
          "height": 34
        },
        "id": "weowUpW7Z3p9",
        "outputId": "c7ecc120-3b4f-463e-89a9-4d54c0f098a9",
        "vscode": {
          "languageId": "r"
        }
      },
      "outputs": [
        {
          "data": {
            "text/html": [
              "<strong>png:</strong> 2"
            ],
            "text/latex": [
              "\\textbf{png:} 2"
            ],
            "text/markdown": [
              "**png:** 2"
            ],
            "text/plain": [
              "png \n",
              "  2 "
            ]
          },
          "metadata": {},
          "output_type": "display_data"
        }
      ],
      "source": [
        "pdf(\"plot3.pdf\")\n",
        "hist(cars$speed,\n",
        "     main = \"Histogram of speed\",\n",
        "     xlab = \"speed\",\n",
        "     ylab = \"Frequency\",\n",
        "     col = \"lightblue\",\n",
        "     border = \"black\")\n",
        "dev.off()  # Close the PDF device\n"
      ]
    },
    {
      "cell_type": "markdown",
      "metadata": {
        "id": "M7c-mTQ0y8-i"
      },
      "source": [
        "# Exercise 3: Transformations of variables and datasets."
      ]
    },
    {
      "cell_type": "code",
      "execution_count": 17,
      "metadata": {
        "id": "2FW8kKAOaJDH",
        "vscode": {
          "languageId": "r"
        }
      },
      "outputs": [],
      "source": [
        "cars <- cars[, -1] # select all col beside first one"
      ]
    },
    {
      "cell_type": "code",
      "execution_count": 18,
      "metadata": {
        "colab": {
          "base_uri": "https://localhost:8080/",
          "height": 192
        },
        "id": "J5ym1mYUbUw3",
        "outputId": "b7674e12-a64c-4ff6-c118-e8c3a520cec1",
        "vscode": {
          "languageId": "r"
        }
      },
      "outputs": [
        {
          "data": {
            "text/html": [
              "<table class=\"dataframe\">\n",
              "<caption>A data.frame: 3 × 2</caption>\n",
              "<thead>\n",
              "\t<tr><th></th><th scope=col>speed</th><th scope=col>dist</th></tr>\n",
              "\t<tr><th></th><th scope=col>&lt;int&gt;</th><th scope=col>&lt;int&gt;</th></tr>\n",
              "</thead>\n",
              "<tbody>\n",
              "\t<tr><th scope=row>1</th><td>4</td><td> 2</td></tr>\n",
              "\t<tr><th scope=row>2</th><td>4</td><td>10</td></tr>\n",
              "\t<tr><th scope=row>3</th><td>7</td><td> 4</td></tr>\n",
              "</tbody>\n",
              "</table>\n"
            ],
            "text/latex": [
              "A data.frame: 3 × 2\n",
              "\\begin{tabular}{r|ll}\n",
              "  & speed & dist\\\\\n",
              "  & <int> & <int>\\\\\n",
              "\\hline\n",
              "\t1 & 4 &  2\\\\\n",
              "\t2 & 4 & 10\\\\\n",
              "\t3 & 7 &  4\\\\\n",
              "\\end{tabular}\n"
            ],
            "text/markdown": [
              "\n",
              "A data.frame: 3 × 2\n",
              "\n",
              "| <!--/--> | speed &lt;int&gt; | dist &lt;int&gt; |\n",
              "|---|---|---|\n",
              "| 1 | 4 |  2 |\n",
              "| 2 | 4 | 10 |\n",
              "| 3 | 7 |  4 |\n",
              "\n"
            ],
            "text/plain": [
              "  speed dist\n",
              "1 4      2  \n",
              "2 4     10  \n",
              "3 7      4  "
            ]
          },
          "metadata": {},
          "output_type": "display_data"
        }
      ],
      "source": [
        "head(cars, 3)"
      ]
    },
    {
      "cell_type": "code",
      "execution_count": 19,
      "metadata": {
        "colab": {
          "base_uri": "https://localhost:8080/",
          "height": 161
        },
        "id": "8w6ROvgubVXn",
        "outputId": "fdc193cd-06ec-42c5-8235-573b879f49d1",
        "vscode": {
          "languageId": "r"
        }
      },
      "outputs": [
        {
          "data": {
            "text/html": [
              "<table class=\"dataframe\">\n",
              "<caption>A data.frame: 2 × 2</caption>\n",
              "<thead>\n",
              "\t<tr><th></th><th scope=col>speed</th><th scope=col>dist</th></tr>\n",
              "\t<tr><th></th><th scope=col>&lt;dbl&gt;</th><th scope=col>&lt;dbl&gt;</th></tr>\n",
              "</thead>\n",
              "<tbody>\n",
              "\t<tr><th scope=row>1</th><td>21</td><td>47</td></tr>\n",
              "\t<tr><th scope=row>2</th><td>34</td><td>87</td></tr>\n",
              "</tbody>\n",
              "</table>\n"
            ],
            "text/latex": [
              "A data.frame: 2 × 2\n",
              "\\begin{tabular}{r|ll}\n",
              "  & speed & dist\\\\\n",
              "  & <dbl> & <dbl>\\\\\n",
              "\\hline\n",
              "\t1 & 21 & 47\\\\\n",
              "\t2 & 34 & 87\\\\\n",
              "\\end{tabular}\n"
            ],
            "text/markdown": [
              "\n",
              "A data.frame: 2 × 2\n",
              "\n",
              "| <!--/--> | speed &lt;dbl&gt; | dist &lt;dbl&gt; |\n",
              "|---|---|---|\n",
              "| 1 | 21 | 47 |\n",
              "| 2 | 34 | 87 |\n",
              "\n"
            ],
            "text/plain": [
              "  speed dist\n",
              "1 21    47  \n",
              "2 34    87  "
            ]
          },
          "metadata": {},
          "output_type": "display_data"
        }
      ],
      "source": [
        "new_data <- data.frame(\n",
        "  speed = c(21, 34),\n",
        "  dist = c(47, 87)\n",
        ")\n",
        "head(new_data)"
      ]
    },
    {
      "cell_type": "code",
      "execution_count": 21,
      "metadata": {
        "colab": {
          "base_uri": "https://localhost:8080/",
          "height": 286
        },
        "id": "lvP-pMbYbio7",
        "outputId": "1aeb1713-b676-426c-dadb-bc028c661e44",
        "vscode": {
          "languageId": "r"
        }
      },
      "outputs": [
        {
          "data": {
            "text/html": [
              "<table class=\"dataframe\">\n",
              "<caption>A data.frame: 6 × 2</caption>\n",
              "<thead>\n",
              "\t<tr><th></th><th scope=col>speed</th><th scope=col>dist</th></tr>\n",
              "\t<tr><th></th><th scope=col>&lt;dbl&gt;</th><th scope=col>&lt;dbl&gt;</th></tr>\n",
              "</thead>\n",
              "<tbody>\n",
              "\t<tr><th scope=row>49</th><td>24</td><td>120</td></tr>\n",
              "\t<tr><th scope=row>50</th><td>25</td><td> 85</td></tr>\n",
              "\t<tr><th scope=row>51</th><td>21</td><td> 47</td></tr>\n",
              "\t<tr><th scope=row>52</th><td>34</td><td> 87</td></tr>\n",
              "\t<tr><th scope=row>53</th><td>21</td><td> 47</td></tr>\n",
              "\t<tr><th scope=row>54</th><td>34</td><td> 87</td></tr>\n",
              "</tbody>\n",
              "</table>\n"
            ],
            "text/latex": [
              "A data.frame: 6 × 2\n",
              "\\begin{tabular}{r|ll}\n",
              "  & speed & dist\\\\\n",
              "  & <dbl> & <dbl>\\\\\n",
              "\\hline\n",
              "\t49 & 24 & 120\\\\\n",
              "\t50 & 25 &  85\\\\\n",
              "\t51 & 21 &  47\\\\\n",
              "\t52 & 34 &  87\\\\\n",
              "\t53 & 21 &  47\\\\\n",
              "\t54 & 34 &  87\\\\\n",
              "\\end{tabular}\n"
            ],
            "text/markdown": [
              "\n",
              "A data.frame: 6 × 2\n",
              "\n",
              "| <!--/--> | speed &lt;dbl&gt; | dist &lt;dbl&gt; |\n",
              "|---|---|---|\n",
              "| 49 | 24 | 120 |\n",
              "| 50 | 25 |  85 |\n",
              "| 51 | 21 |  47 |\n",
              "| 52 | 34 |  87 |\n",
              "| 53 | 21 |  47 |\n",
              "| 54 | 34 |  87 |\n",
              "\n"
            ],
            "text/plain": [
              "   speed dist\n",
              "49 24    120 \n",
              "50 25     85 \n",
              "51 21     47 \n",
              "52 34     87 \n",
              "53 21     47 \n",
              "54 34     87 "
            ]
          },
          "metadata": {},
          "output_type": "display_data"
        }
      ],
      "source": [
        "cars <- rbind(cars, new_data) # wykonuje operację łączenia dwóch ram danych wzdłuż osi wierszy\n",
        "tail(cars)"
      ]
    },
    {
      "cell_type": "code",
      "execution_count": 22,
      "metadata": {
        "colab": {
          "base_uri": "https://localhost:8080/",
          "height": 52
        },
        "id": "mFGRBzrZze6a",
        "outputId": "a4950cb0-cd29-43e0-a34a-e8f95d8a48b5",
        "vscode": {
          "languageId": "r"
        }
      },
      "outputs": [
        {
          "data": {
            "text/html": [
              "<style>\n",
              ".list-inline {list-style: none; margin:0; padding: 0}\n",
              ".list-inline>li {display: inline-block}\n",
              ".list-inline>li:not(:last-child)::after {content: \"\\00b7\"; padding: 0 .5ex}\n",
              "</style>\n",
              "<ol class=list-inline><li>1</li><li>2</li><li>3</li><li>4</li><li>5</li><li>6</li><li>7</li><li>8</li><li>9</li><li>10</li><li>11</li><li>12</li><li>13</li><li>14</li><li>15</li><li>16</li><li>17</li><li>18</li><li>19</li><li>20</li><li>21</li><li>22</li><li>23</li><li>24</li><li>25</li><li>26</li><li>27</li><li>28</li><li>29</li><li>30</li><li>31</li><li>32</li><li>33</li><li>34</li><li>35</li><li>36</li><li>37</li><li>38</li><li>39</li><li>40</li><li>41</li><li>42</li><li>43</li><li>51</li><li>53</li><li>44</li><li>45</li><li>46</li><li>47</li><li>48</li><li>49</li><li>50</li><li>52</li><li>54</li></ol>\n"
            ],
            "text/latex": [
              "\\begin{enumerate*}\n",
              "\\item 1\n",
              "\\item 2\n",
              "\\item 3\n",
              "\\item 4\n",
              "\\item 5\n",
              "\\item 6\n",
              "\\item 7\n",
              "\\item 8\n",
              "\\item 9\n",
              "\\item 10\n",
              "\\item 11\n",
              "\\item 12\n",
              "\\item 13\n",
              "\\item 14\n",
              "\\item 15\n",
              "\\item 16\n",
              "\\item 17\n",
              "\\item 18\n",
              "\\item 19\n",
              "\\item 20\n",
              "\\item 21\n",
              "\\item 22\n",
              "\\item 23\n",
              "\\item 24\n",
              "\\item 25\n",
              "\\item 26\n",
              "\\item 27\n",
              "\\item 28\n",
              "\\item 29\n",
              "\\item 30\n",
              "\\item 31\n",
              "\\item 32\n",
              "\\item 33\n",
              "\\item 34\n",
              "\\item 35\n",
              "\\item 36\n",
              "\\item 37\n",
              "\\item 38\n",
              "\\item 39\n",
              "\\item 40\n",
              "\\item 41\n",
              "\\item 42\n",
              "\\item 43\n",
              "\\item 51\n",
              "\\item 53\n",
              "\\item 44\n",
              "\\item 45\n",
              "\\item 46\n",
              "\\item 47\n",
              "\\item 48\n",
              "\\item 49\n",
              "\\item 50\n",
              "\\item 52\n",
              "\\item 54\n",
              "\\end{enumerate*}\n"
            ],
            "text/markdown": [
              "1. 1\n",
              "2. 2\n",
              "3. 3\n",
              "4. 4\n",
              "5. 5\n",
              "6. 6\n",
              "7. 7\n",
              "8. 8\n",
              "9. 9\n",
              "10. 10\n",
              "11. 11\n",
              "12. 12\n",
              "13. 13\n",
              "14. 14\n",
              "15. 15\n",
              "16. 16\n",
              "17. 17\n",
              "18. 18\n",
              "19. 19\n",
              "20. 20\n",
              "21. 21\n",
              "22. 22\n",
              "23. 23\n",
              "24. 24\n",
              "25. 25\n",
              "26. 26\n",
              "27. 27\n",
              "28. 28\n",
              "29. 29\n",
              "30. 30\n",
              "31. 31\n",
              "32. 32\n",
              "33. 33\n",
              "34. 34\n",
              "35. 35\n",
              "36. 36\n",
              "37. 37\n",
              "38. 38\n",
              "39. 39\n",
              "40. 40\n",
              "41. 41\n",
              "42. 42\n",
              "43. 43\n",
              "44. 51\n",
              "45. 53\n",
              "46. 44\n",
              "47. 45\n",
              "48. 46\n",
              "49. 47\n",
              "50. 48\n",
              "51. 49\n",
              "52. 50\n",
              "53. 52\n",
              "54. 54\n",
              "\n",
              "\n"
            ],
            "text/plain": [
              " [1]  1  2  3  4  5  6  7  8  9 10 11 12 13 14 15 16 17 18 19 20 21 22 23 24 25\n",
              "[26] 26 27 28 29 30 31 32 33 34 35 36 37 38 39 40 41 42 43 51 53 44 45 46 47 48\n",
              "[51] 49 50 52 54"
            ]
          },
          "metadata": {},
          "output_type": "display_data"
        }
      ],
      "source": [
        "order(cars$speed) # to sortuje, po czym używamy tych indeksów"
      ]
    },
    {
      "cell_type": "code",
      "execution_count": 24,
      "metadata": {
        "colab": {
          "base_uri": "https://localhost:8080/",
          "height": 286
        },
        "id": "d-rj5BYrbuad",
        "outputId": "6a46588d-1be3-4c36-a20d-b94d988f7eea",
        "vscode": {
          "languageId": "r"
        }
      },
      "outputs": [
        {
          "data": {
            "text/html": [
              "<table class=\"dataframe\">\n",
              "<caption>A data.frame: 6 × 2</caption>\n",
              "<thead>\n",
              "\t<tr><th></th><th scope=col>speed</th><th scope=col>dist</th></tr>\n",
              "\t<tr><th></th><th scope=col>&lt;dbl&gt;</th><th scope=col>&lt;dbl&gt;</th></tr>\n",
              "</thead>\n",
              "<tbody>\n",
              "\t<tr><th scope=row>1</th><td>4</td><td> 2</td></tr>\n",
              "\t<tr><th scope=row>2</th><td>4</td><td>10</td></tr>\n",
              "\t<tr><th scope=row>3</th><td>7</td><td> 4</td></tr>\n",
              "\t<tr><th scope=row>4</th><td>7</td><td>22</td></tr>\n",
              "\t<tr><th scope=row>5</th><td>8</td><td>16</td></tr>\n",
              "\t<tr><th scope=row>6</th><td>9</td><td>10</td></tr>\n",
              "</tbody>\n",
              "</table>\n"
            ],
            "text/latex": [
              "A data.frame: 6 × 2\n",
              "\\begin{tabular}{r|ll}\n",
              "  & speed & dist\\\\\n",
              "  & <dbl> & <dbl>\\\\\n",
              "\\hline\n",
              "\t1 & 4 &  2\\\\\n",
              "\t2 & 4 & 10\\\\\n",
              "\t3 & 7 &  4\\\\\n",
              "\t4 & 7 & 22\\\\\n",
              "\t5 & 8 & 16\\\\\n",
              "\t6 & 9 & 10\\\\\n",
              "\\end{tabular}\n"
            ],
            "text/markdown": [
              "\n",
              "A data.frame: 6 × 2\n",
              "\n",
              "| <!--/--> | speed &lt;dbl&gt; | dist &lt;dbl&gt; |\n",
              "|---|---|---|\n",
              "| 1 | 4 |  2 |\n",
              "| 2 | 4 | 10 |\n",
              "| 3 | 7 |  4 |\n",
              "| 4 | 7 | 22 |\n",
              "| 5 | 8 | 16 |\n",
              "| 6 | 9 | 10 |\n",
              "\n"
            ],
            "text/plain": [
              "  speed dist\n",
              "1 4      2  \n",
              "2 4     10  \n",
              "3 7      4  \n",
              "4 7     22  \n",
              "5 8     16  \n",
              "6 9     10  "
            ]
          },
          "metadata": {},
          "output_type": "display_data"
        }
      ],
      "source": [
        "sorted_data_cars <- cars[order(cars$speed), ]\n",
        "head(sorted_data_cars)"
      ]
    },
    {
      "cell_type": "code",
      "execution_count": 25,
      "metadata": {
        "colab": {
          "base_uri": "https://localhost:8080/",
          "height": 286
        },
        "id": "bZ4UNyp2cRcq",
        "outputId": "f132eba9-0f42-4ed0-d92b-e19e1bd3b331",
        "vscode": {
          "languageId": "r"
        }
      },
      "outputs": [
        {
          "data": {
            "text/html": [
              "<table class=\"dataframe\">\n",
              "<caption>A data.frame: 6 × 2</caption>\n",
              "<thead>\n",
              "\t<tr><th></th><th scope=col>speed</th><th scope=col>dist</th></tr>\n",
              "\t<tr><th></th><th scope=col>&lt;dbl&gt;</th><th scope=col>&lt;dbl&gt;</th></tr>\n",
              "</thead>\n",
              "<tbody>\n",
              "\t<tr><th scope=row>1</th><td>4</td><td> 2</td></tr>\n",
              "\t<tr><th scope=row>2</th><td>4</td><td>10</td></tr>\n",
              "\t<tr><th scope=row>3</th><td>7</td><td> 4</td></tr>\n",
              "\t<tr><th scope=row>4</th><td>7</td><td>22</td></tr>\n",
              "\t<tr><th scope=row>5</th><td>8</td><td>16</td></tr>\n",
              "\t<tr><th scope=row>6</th><td>9</td><td>10</td></tr>\n",
              "</tbody>\n",
              "</table>\n"
            ],
            "text/latex": [
              "A data.frame: 6 × 2\n",
              "\\begin{tabular}{r|ll}\n",
              "  & speed & dist\\\\\n",
              "  & <dbl> & <dbl>\\\\\n",
              "\\hline\n",
              "\t1 & 4 &  2\\\\\n",
              "\t2 & 4 & 10\\\\\n",
              "\t3 & 7 &  4\\\\\n",
              "\t4 & 7 & 22\\\\\n",
              "\t5 & 8 & 16\\\\\n",
              "\t6 & 9 & 10\\\\\n",
              "\\end{tabular}\n"
            ],
            "text/markdown": [
              "\n",
              "A data.frame: 6 × 2\n",
              "\n",
              "| <!--/--> | speed &lt;dbl&gt; | dist &lt;dbl&gt; |\n",
              "|---|---|---|\n",
              "| 1 | 4 |  2 |\n",
              "| 2 | 4 | 10 |\n",
              "| 3 | 7 |  4 |\n",
              "| 4 | 7 | 22 |\n",
              "| 5 | 8 | 16 |\n",
              "| 6 | 9 | 10 |\n",
              "\n"
            ],
            "text/plain": [
              "  speed dist\n",
              "1 4      2  \n",
              "2 4     10  \n",
              "3 7      4  \n",
              "4 7     22  \n",
              "5 8     16  \n",
              "6 9     10  "
            ]
          },
          "metadata": {},
          "output_type": "display_data"
        }
      ],
      "source": [
        "sorted_data_cars_2 <- with(cars, cars[order(speed), ]) # można to zrobić bez użycia $\n",
        "head(sorted_data_cars_2)\n"
      ]
    },
    {
      "cell_type": "markdown",
      "metadata": {
        "id": "6U-1_C7t0ExP"
      },
      "source": [
        "# Exercise 4: Data manipulation."
      ]
    },
    {
      "cell_type": "code",
      "execution_count": 64,
      "metadata": {
        "colab": {
          "base_uri": "https://localhost:8080/",
          "height": 161
        },
        "id": "xfDmHwMocgN9",
        "outputId": "9832e067-8ebb-4cf6-dcbc-95610811ebfa",
        "vscode": {
          "languageId": "r"
        }
      },
      "outputs": [
        {
          "data": {
            "text/html": [
              "<table class=\"dataframe\">\n",
              "<caption>A data.frame: 2 × 6</caption>\n",
              "<thead>\n",
              "\t<tr><th></th><th scope=col>Ozone</th><th scope=col>Solar.R</th><th scope=col>Wind</th><th scope=col>Temp</th><th scope=col>Month</th><th scope=col>Day</th></tr>\n",
              "\t<tr><th></th><th scope=col>&lt;int&gt;</th><th scope=col>&lt;int&gt;</th><th scope=col>&lt;dbl&gt;</th><th scope=col>&lt;int&gt;</th><th scope=col>&lt;int&gt;</th><th scope=col>&lt;int&gt;</th></tr>\n",
              "</thead>\n",
              "<tbody>\n",
              "\t<tr><th scope=row>1</th><td>41</td><td>190</td><td>7.4</td><td>67</td><td>5</td><td>1</td></tr>\n",
              "\t<tr><th scope=row>2</th><td>36</td><td>118</td><td>8.0</td><td>72</td><td>5</td><td>2</td></tr>\n",
              "</tbody>\n",
              "</table>\n"
            ],
            "text/latex": [
              "A data.frame: 2 × 6\n",
              "\\begin{tabular}{r|llllll}\n",
              "  & Ozone & Solar.R & Wind & Temp & Month & Day\\\\\n",
              "  & <int> & <int> & <dbl> & <int> & <int> & <int>\\\\\n",
              "\\hline\n",
              "\t1 & 41 & 190 & 7.4 & 67 & 5 & 1\\\\\n",
              "\t2 & 36 & 118 & 8.0 & 72 & 5 & 2\\\\\n",
              "\\end{tabular}\n"
            ],
            "text/markdown": [
              "\n",
              "A data.frame: 2 × 6\n",
              "\n",
              "| <!--/--> | Ozone &lt;int&gt; | Solar.R &lt;int&gt; | Wind &lt;dbl&gt; | Temp &lt;int&gt; | Month &lt;int&gt; | Day &lt;int&gt; |\n",
              "|---|---|---|---|---|---|---|\n",
              "| 1 | 41 | 190 | 7.4 | 67 | 5 | 1 |\n",
              "| 2 | 36 | 118 | 8.0 | 72 | 5 | 2 |\n",
              "\n"
            ],
            "text/plain": [
              "  Ozone Solar.R Wind Temp Month Day\n",
              "1 41    190     7.4  67   5     1  \n",
              "2 36    118     8.0  72   5     2  "
            ]
          },
          "metadata": {},
          "output_type": "display_data"
        }
      ],
      "source": [
        "airquality_data <- read.csv(\"data/airquality.csv\")\n",
        "head(airquality_data, 2)\n"
      ]
    },
    {
      "cell_type": "code",
      "execution_count": 65,
      "metadata": {
        "colab": {
          "base_uri": "https://localhost:8080/",
          "height": 161
        },
        "id": "Mab4elXm0WF7",
        "outputId": "7015a543-06b5-410e-e333-1304c56f31d6",
        "vscode": {
          "languageId": "r"
        }
      },
      "outputs": [
        {
          "data": {
            "text/html": [
              "<table class=\"dataframe\">\n",
              "<caption>A data.frame: 2 × 6</caption>\n",
              "<thead>\n",
              "\t<tr><th></th><th scope=col>Ozone</th><th scope=col>Solar.R</th><th scope=col>Wind</th><th scope=col>Temp</th><th scope=col>Month</th><th scope=col>Day</th></tr>\n",
              "\t<tr><th></th><th scope=col>&lt;int&gt;</th><th scope=col>&lt;int&gt;</th><th scope=col>&lt;dbl&gt;</th><th scope=col>&lt;int&gt;</th><th scope=col>&lt;int&gt;</th><th scope=col>&lt;int&gt;</th></tr>\n",
              "</thead>\n",
              "<tbody>\n",
              "\t<tr><th scope=row>1</th><td>41</td><td>190</td><td>7.4</td><td>67</td><td>5</td><td>1</td></tr>\n",
              "\t<tr><th scope=row>2</th><td>36</td><td>118</td><td>8.0</td><td>72</td><td>5</td><td>2</td></tr>\n",
              "</tbody>\n",
              "</table>\n"
            ],
            "text/latex": [
              "A data.frame: 2 × 6\n",
              "\\begin{tabular}{r|llllll}\n",
              "  & Ozone & Solar.R & Wind & Temp & Month & Day\\\\\n",
              "  & <int> & <int> & <dbl> & <int> & <int> & <int>\\\\\n",
              "\\hline\n",
              "\t1 & 41 & 190 & 7.4 & 67 & 5 & 1\\\\\n",
              "\t2 & 36 & 118 & 8.0 & 72 & 5 & 2\\\\\n",
              "\\end{tabular}\n"
            ],
            "text/markdown": [
              "\n",
              "A data.frame: 2 × 6\n",
              "\n",
              "| <!--/--> | Ozone &lt;int&gt; | Solar.R &lt;int&gt; | Wind &lt;dbl&gt; | Temp &lt;int&gt; | Month &lt;int&gt; | Day &lt;int&gt; |\n",
              "|---|---|---|---|---|---|---|\n",
              "| 1 | 41 | 190 | 7.4 | 67 | 5 | 1 |\n",
              "| 2 | 36 | 118 | 8.0 | 72 | 5 | 2 |\n",
              "\n"
            ],
            "text/plain": [
              "  Ozone Solar.R Wind Temp Month Day\n",
              "1 41    190     7.4  67   5     1  \n",
              "2 36    118     8.0  72   5     2  "
            ]
          },
          "metadata": {},
          "output_type": "display_data"
        }
      ],
      "source": [
        "airquality_data[1:2,]"
      ]
    },
    {
      "cell_type": "markdown",
      "metadata": {
        "id": "LOdgIhcKePFL"
      },
      "source": [
        "The output looks like we have mesurments of ozone, solar.r, wind, temperature for each day and month."
      ]
    },
    {
      "cell_type": "code",
      "execution_count": 66,
      "metadata": {
        "colab": {
          "base_uri": "https://localhost:8080/",
          "height": 34
        },
        "id": "r9FmbMPCeHgo",
        "outputId": "a3230030-fb5d-4ce2-84b9-a9f313a401c1",
        "vscode": {
          "languageId": "r"
        }
      },
      "outputs": [
        {
          "data": {
            "text/html": [
              "153"
            ],
            "text/latex": [
              "153"
            ],
            "text/markdown": [
              "153"
            ],
            "text/plain": [
              "[1] 153"
            ]
          },
          "metadata": {},
          "output_type": "display_data"
        }
      ],
      "source": [
        "nrow(airquality_data)\n",
        "\n",
        "cor(airquality_data$Ozone, airquality_data$Temp)    "
      ]
    },
    {
      "cell_type": "markdown",
      "metadata": {
        "id": "x5nEoidhexE9"
      },
      "source": [
        "We have 153 observation"
      ]
    },
    {
      "cell_type": "code",
      "execution_count": 67,
      "metadata": {
        "colab": {
          "base_uri": "https://localhost:8080/",
          "height": 34
        },
        "id": "7TIKyVMvevbE",
        "outputId": "d81af503-620e-49be-987f-96eb5add3e2b",
        "vscode": {
          "languageId": "r"
        }
      },
      "outputs": [
        {
          "data": {
            "text/html": [
              "71"
            ],
            "text/latex": [
              "71"
            ],
            "text/markdown": [
              "71"
            ],
            "text/plain": [
              "[1] 71"
            ]
          },
          "metadata": {},
          "output_type": "display_data"
        }
      ],
      "source": [
        "airquality_data$Ozone[40]"
      ]
    },
    {
      "cell_type": "markdown",
      "metadata": {
        "id": "JokhheBQ05rV"
      },
      "source": [
        "The 40th value od Ozone is 71"
      ]
    },
    {
      "cell_type": "code",
      "execution_count": 68,
      "metadata": {
        "colab": {
          "base_uri": "https://localhost:8080/",
          "height": 191
        },
        "id": "RHsto1XGfF4Q",
        "outputId": "fdc6cc64-e0af-4c54-d482-b205c2f5442f",
        "vscode": {
          "languageId": "r"
        }
      },
      "outputs": [
        {
          "data": {
            "text/html": [
              "<style>\n",
              ".list-inline {list-style: none; margin:0; padding: 0}\n",
              ".list-inline>li {display: inline-block}\n",
              ".list-inline>li:not(:last-child)::after {content: \"\\00b7\"; padding: 0 .5ex}\n",
              "</style>\n",
              "<ol class=list-inline><li>FALSE</li><li>FALSE</li><li>FALSE</li><li>FALSE</li><li>TRUE</li><li>FALSE</li><li>FALSE</li><li>FALSE</li><li>FALSE</li><li>TRUE</li><li>FALSE</li><li>FALSE</li><li>FALSE</li><li>FALSE</li><li>FALSE</li><li>FALSE</li><li>FALSE</li><li>FALSE</li><li>FALSE</li><li>FALSE</li><li>FALSE</li><li>FALSE</li><li>FALSE</li><li>FALSE</li><li>TRUE</li><li>TRUE</li><li>TRUE</li><li>FALSE</li><li>FALSE</li><li>FALSE</li><li>FALSE</li><li>TRUE</li><li>TRUE</li><li>TRUE</li><li>TRUE</li><li>TRUE</li><li>TRUE</li><li>FALSE</li><li>TRUE</li><li>FALSE</li><li>FALSE</li><li>TRUE</li><li>TRUE</li><li>FALSE</li><li>TRUE</li><li>TRUE</li><li>FALSE</li><li>FALSE</li><li>FALSE</li><li>FALSE</li><li>FALSE</li><li>TRUE</li><li>TRUE</li><li>TRUE</li><li>TRUE</li><li>TRUE</li><li>TRUE</li><li>TRUE</li><li>TRUE</li><li>TRUE</li><li>TRUE</li><li>FALSE</li><li>FALSE</li><li>FALSE</li><li>TRUE</li><li>FALSE</li><li>FALSE</li><li>FALSE</li><li>FALSE</li><li>FALSE</li><li>FALSE</li><li>TRUE</li><li>FALSE</li><li>FALSE</li><li>TRUE</li><li>FALSE</li><li>FALSE</li><li>FALSE</li><li>FALSE</li><li>FALSE</li><li>FALSE</li><li>FALSE</li><li>TRUE</li><li>TRUE</li><li>FALSE</li><li>FALSE</li><li>FALSE</li><li>FALSE</li><li>FALSE</li><li>FALSE</li><li>FALSE</li><li>FALSE</li><li>FALSE</li><li>FALSE</li><li>FALSE</li><li>FALSE</li><li>FALSE</li><li>FALSE</li><li>FALSE</li><li>FALSE</li><li>FALSE</li><li>TRUE</li><li>TRUE</li><li>FALSE</li><li>FALSE</li><li>FALSE</li><li>TRUE</li><li>FALSE</li><li>FALSE</li><li>FALSE</li><li>FALSE</li><li>FALSE</li><li>FALSE</li><li>FALSE</li><li>TRUE</li><li>FALSE</li><li>FALSE</li><li>FALSE</li><li>TRUE</li><li>FALSE</li><li>FALSE</li><li>FALSE</li><li>FALSE</li><li>FALSE</li><li>FALSE</li><li>FALSE</li><li>FALSE</li><li>FALSE</li><li>FALSE</li><li>FALSE</li><li>FALSE</li><li>FALSE</li><li>FALSE</li><li>FALSE</li><li>FALSE</li><li>FALSE</li><li>FALSE</li><li>FALSE</li><li>FALSE</li><li>FALSE</li><li>FALSE</li><li>FALSE</li><li>FALSE</li><li>FALSE</li><li>FALSE</li><li>FALSE</li><li>FALSE</li><li>FALSE</li><li>FALSE</li><li>TRUE</li><li>FALSE</li><li>FALSE</li><li>FALSE</li></ol>\n"
            ],
            "text/latex": [
              "\\begin{enumerate*}\n",
              "\\item FALSE\n",
              "\\item FALSE\n",
              "\\item FALSE\n",
              "\\item FALSE\n",
              "\\item TRUE\n",
              "\\item FALSE\n",
              "\\item FALSE\n",
              "\\item FALSE\n",
              "\\item FALSE\n",
              "\\item TRUE\n",
              "\\item FALSE\n",
              "\\item FALSE\n",
              "\\item FALSE\n",
              "\\item FALSE\n",
              "\\item FALSE\n",
              "\\item FALSE\n",
              "\\item FALSE\n",
              "\\item FALSE\n",
              "\\item FALSE\n",
              "\\item FALSE\n",
              "\\item FALSE\n",
              "\\item FALSE\n",
              "\\item FALSE\n",
              "\\item FALSE\n",
              "\\item TRUE\n",
              "\\item TRUE\n",
              "\\item TRUE\n",
              "\\item FALSE\n",
              "\\item FALSE\n",
              "\\item FALSE\n",
              "\\item FALSE\n",
              "\\item TRUE\n",
              "\\item TRUE\n",
              "\\item TRUE\n",
              "\\item TRUE\n",
              "\\item TRUE\n",
              "\\item TRUE\n",
              "\\item FALSE\n",
              "\\item TRUE\n",
              "\\item FALSE\n",
              "\\item FALSE\n",
              "\\item TRUE\n",
              "\\item TRUE\n",
              "\\item FALSE\n",
              "\\item TRUE\n",
              "\\item TRUE\n",
              "\\item FALSE\n",
              "\\item FALSE\n",
              "\\item FALSE\n",
              "\\item FALSE\n",
              "\\item FALSE\n",
              "\\item TRUE\n",
              "\\item TRUE\n",
              "\\item TRUE\n",
              "\\item TRUE\n",
              "\\item TRUE\n",
              "\\item TRUE\n",
              "\\item TRUE\n",
              "\\item TRUE\n",
              "\\item TRUE\n",
              "\\item TRUE\n",
              "\\item FALSE\n",
              "\\item FALSE\n",
              "\\item FALSE\n",
              "\\item TRUE\n",
              "\\item FALSE\n",
              "\\item FALSE\n",
              "\\item FALSE\n",
              "\\item FALSE\n",
              "\\item FALSE\n",
              "\\item FALSE\n",
              "\\item TRUE\n",
              "\\item FALSE\n",
              "\\item FALSE\n",
              "\\item TRUE\n",
              "\\item FALSE\n",
              "\\item FALSE\n",
              "\\item FALSE\n",
              "\\item FALSE\n",
              "\\item FALSE\n",
              "\\item FALSE\n",
              "\\item FALSE\n",
              "\\item TRUE\n",
              "\\item TRUE\n",
              "\\item FALSE\n",
              "\\item FALSE\n",
              "\\item FALSE\n",
              "\\item FALSE\n",
              "\\item FALSE\n",
              "\\item FALSE\n",
              "\\item FALSE\n",
              "\\item FALSE\n",
              "\\item FALSE\n",
              "\\item FALSE\n",
              "\\item FALSE\n",
              "\\item FALSE\n",
              "\\item FALSE\n",
              "\\item FALSE\n",
              "\\item FALSE\n",
              "\\item FALSE\n",
              "\\item FALSE\n",
              "\\item TRUE\n",
              "\\item TRUE\n",
              "\\item FALSE\n",
              "\\item FALSE\n",
              "\\item FALSE\n",
              "\\item TRUE\n",
              "\\item FALSE\n",
              "\\item FALSE\n",
              "\\item FALSE\n",
              "\\item FALSE\n",
              "\\item FALSE\n",
              "\\item FALSE\n",
              "\\item FALSE\n",
              "\\item TRUE\n",
              "\\item FALSE\n",
              "\\item FALSE\n",
              "\\item FALSE\n",
              "\\item TRUE\n",
              "\\item FALSE\n",
              "\\item FALSE\n",
              "\\item FALSE\n",
              "\\item FALSE\n",
              "\\item FALSE\n",
              "\\item FALSE\n",
              "\\item FALSE\n",
              "\\item FALSE\n",
              "\\item FALSE\n",
              "\\item FALSE\n",
              "\\item FALSE\n",
              "\\item FALSE\n",
              "\\item FALSE\n",
              "\\item FALSE\n",
              "\\item FALSE\n",
              "\\item FALSE\n",
              "\\item FALSE\n",
              "\\item FALSE\n",
              "\\item FALSE\n",
              "\\item FALSE\n",
              "\\item FALSE\n",
              "\\item FALSE\n",
              "\\item FALSE\n",
              "\\item FALSE\n",
              "\\item FALSE\n",
              "\\item FALSE\n",
              "\\item FALSE\n",
              "\\item FALSE\n",
              "\\item FALSE\n",
              "\\item FALSE\n",
              "\\item TRUE\n",
              "\\item FALSE\n",
              "\\item FALSE\n",
              "\\item FALSE\n",
              "\\end{enumerate*}\n"
            ],
            "text/markdown": [
              "1. FALSE\n",
              "2. FALSE\n",
              "3. FALSE\n",
              "4. FALSE\n",
              "5. TRUE\n",
              "6. FALSE\n",
              "7. FALSE\n",
              "8. FALSE\n",
              "9. FALSE\n",
              "10. TRUE\n",
              "11. FALSE\n",
              "12. FALSE\n",
              "13. FALSE\n",
              "14. FALSE\n",
              "15. FALSE\n",
              "16. FALSE\n",
              "17. FALSE\n",
              "18. FALSE\n",
              "19. FALSE\n",
              "20. FALSE\n",
              "21. FALSE\n",
              "22. FALSE\n",
              "23. FALSE\n",
              "24. FALSE\n",
              "25. TRUE\n",
              "26. TRUE\n",
              "27. TRUE\n",
              "28. FALSE\n",
              "29. FALSE\n",
              "30. FALSE\n",
              "31. FALSE\n",
              "32. TRUE\n",
              "33. TRUE\n",
              "34. TRUE\n",
              "35. TRUE\n",
              "36. TRUE\n",
              "37. TRUE\n",
              "38. FALSE\n",
              "39. TRUE\n",
              "40. FALSE\n",
              "41. FALSE\n",
              "42. TRUE\n",
              "43. TRUE\n",
              "44. FALSE\n",
              "45. TRUE\n",
              "46. TRUE\n",
              "47. FALSE\n",
              "48. FALSE\n",
              "49. FALSE\n",
              "50. FALSE\n",
              "51. FALSE\n",
              "52. TRUE\n",
              "53. TRUE\n",
              "54. TRUE\n",
              "55. TRUE\n",
              "56. TRUE\n",
              "57. TRUE\n",
              "58. TRUE\n",
              "59. TRUE\n",
              "60. TRUE\n",
              "61. TRUE\n",
              "62. FALSE\n",
              "63. FALSE\n",
              "64. FALSE\n",
              "65. TRUE\n",
              "66. FALSE\n",
              "67. FALSE\n",
              "68. FALSE\n",
              "69. FALSE\n",
              "70. FALSE\n",
              "71. FALSE\n",
              "72. TRUE\n",
              "73. FALSE\n",
              "74. FALSE\n",
              "75. TRUE\n",
              "76. FALSE\n",
              "77. FALSE\n",
              "78. FALSE\n",
              "79. FALSE\n",
              "80. FALSE\n",
              "81. FALSE\n",
              "82. FALSE\n",
              "83. TRUE\n",
              "84. TRUE\n",
              "85. FALSE\n",
              "86. FALSE\n",
              "87. FALSE\n",
              "88. FALSE\n",
              "89. FALSE\n",
              "90. FALSE\n",
              "91. FALSE\n",
              "92. FALSE\n",
              "93. FALSE\n",
              "94. FALSE\n",
              "95. FALSE\n",
              "96. FALSE\n",
              "97. FALSE\n",
              "98. FALSE\n",
              "99. FALSE\n",
              "100. FALSE\n",
              "101. FALSE\n",
              "102. TRUE\n",
              "103. TRUE\n",
              "104. FALSE\n",
              "105. FALSE\n",
              "106. FALSE\n",
              "107. TRUE\n",
              "108. FALSE\n",
              "109. FALSE\n",
              "110. FALSE\n",
              "111. FALSE\n",
              "112. FALSE\n",
              "113. FALSE\n",
              "114. FALSE\n",
              "115. TRUE\n",
              "116. FALSE\n",
              "117. FALSE\n",
              "118. FALSE\n",
              "119. TRUE\n",
              "120. FALSE\n",
              "121. FALSE\n",
              "122. FALSE\n",
              "123. FALSE\n",
              "124. FALSE\n",
              "125. FALSE\n",
              "126. FALSE\n",
              "127. FALSE\n",
              "128. FALSE\n",
              "129. FALSE\n",
              "130. FALSE\n",
              "131. FALSE\n",
              "132. FALSE\n",
              "133. FALSE\n",
              "134. FALSE\n",
              "135. FALSE\n",
              "136. FALSE\n",
              "137. FALSE\n",
              "138. FALSE\n",
              "139. FALSE\n",
              "140. FALSE\n",
              "141. FALSE\n",
              "142. FALSE\n",
              "143. FALSE\n",
              "144. FALSE\n",
              "145. FALSE\n",
              "146. FALSE\n",
              "147. FALSE\n",
              "148. FALSE\n",
              "149. FALSE\n",
              "150. TRUE\n",
              "151. FALSE\n",
              "152. FALSE\n",
              "153. FALSE\n",
              "\n",
              "\n"
            ],
            "text/plain": [
              "  [1] FALSE FALSE FALSE FALSE  TRUE FALSE FALSE FALSE FALSE  TRUE FALSE FALSE\n",
              " [13] FALSE FALSE FALSE FALSE FALSE FALSE FALSE FALSE FALSE FALSE FALSE FALSE\n",
              " [25]  TRUE  TRUE  TRUE FALSE FALSE FALSE FALSE  TRUE  TRUE  TRUE  TRUE  TRUE\n",
              " [37]  TRUE FALSE  TRUE FALSE FALSE  TRUE  TRUE FALSE  TRUE  TRUE FALSE FALSE\n",
              " [49] FALSE FALSE FALSE  TRUE  TRUE  TRUE  TRUE  TRUE  TRUE  TRUE  TRUE  TRUE\n",
              " [61]  TRUE FALSE FALSE FALSE  TRUE FALSE FALSE FALSE FALSE FALSE FALSE  TRUE\n",
              " [73] FALSE FALSE  TRUE FALSE FALSE FALSE FALSE FALSE FALSE FALSE  TRUE  TRUE\n",
              " [85] FALSE FALSE FALSE FALSE FALSE FALSE FALSE FALSE FALSE FALSE FALSE FALSE\n",
              " [97] FALSE FALSE FALSE FALSE FALSE  TRUE  TRUE FALSE FALSE FALSE  TRUE FALSE\n",
              "[109] FALSE FALSE FALSE FALSE FALSE FALSE  TRUE FALSE FALSE FALSE  TRUE FALSE\n",
              "[121] FALSE FALSE FALSE FALSE FALSE FALSE FALSE FALSE FALSE FALSE FALSE FALSE\n",
              "[133] FALSE FALSE FALSE FALSE FALSE FALSE FALSE FALSE FALSE FALSE FALSE FALSE\n",
              "[145] FALSE FALSE FALSE FALSE FALSE  TRUE FALSE FALSE FALSE"
            ]
          },
          "metadata": {},
          "output_type": "display_data"
        }
      ],
      "source": [
        "is.na(airquality_data$Ozone)"
      ]
    },
    {
      "cell_type": "code",
      "execution_count": 69,
      "metadata": {
        "colab": {
          "base_uri": "https://localhost:8080/",
          "height": 34
        },
        "id": "l28CksrNe8Se",
        "outputId": "e75d46cb-7d7b-46a6-bbcc-6c2dd9b5761a",
        "vscode": {
          "languageId": "r"
        }
      },
      "outputs": [
        {
          "data": {
            "text/html": [
              "37"
            ],
            "text/latex": [
              "37"
            ],
            "text/markdown": [
              "37"
            ],
            "text/plain": [
              "[1] 37"
            ]
          },
          "metadata": {},
          "output_type": "display_data"
        }
      ],
      "source": [
        "sum(is.na(airquality_data$Ozone))"
      ]
    },
    {
      "cell_type": "markdown",
      "metadata": {
        "id": "okmNo87x1Djb"
      },
      "source": [
        "there are 37 missin values in the Ozone column"
      ]
    },
    {
      "cell_type": "code",
      "execution_count": 70,
      "metadata": {
        "colab": {
          "base_uri": "https://localhost:8080/",
          "height": 34
        },
        "id": "7uqubK8tfEV8",
        "outputId": "3852c243-13b5-4788-ee27-b9cfe423c4af",
        "vscode": {
          "languageId": "r"
        }
      },
      "outputs": [
        {
          "data": {
            "text/html": [
              "42.1293103448276"
            ],
            "text/latex": [
              "42.1293103448276"
            ],
            "text/markdown": [
              "42.1293103448276"
            ],
            "text/plain": [
              "[1] 42.12931"
            ]
          },
          "metadata": {},
          "output_type": "display_data"
        }
      ],
      "source": [
        "mean(airquality_data$Ozone, na.rm = TRUE)\n"
      ]
    },
    {
      "cell_type": "code",
      "execution_count": 92,
      "metadata": {
        "colab": {
          "base_uri": "https://localhost:8080/",
          "height": 34
        },
        "id": "8Wmj3HUcfOaY",
        "outputId": "9d587b8b-de9d-464f-ad63-14b8fea05890",
        "vscode": {
          "languageId": "r"
        }
      },
      "outputs": [
        {
          "data": {
            "text/html": [
              "&lt;NA&gt;"
            ],
            "text/latex": [
              "<NA>"
            ],
            "text/markdown": [
              "&lt;NA&gt;"
            ],
            "text/plain": [
              "[1] NA"
            ]
          },
          "metadata": {},
          "output_type": "display_data"
        }
      ],
      "source": [
        "subset_data <- airquality_data[airquality_data$Ozone > 31 & airquality_data$Temp > 90, ]\n",
        "\n",
        "mean(subset_data$Solar.R, na.rm = TRUE)"
      ]
    },
    {
      "cell_type": "markdown",
      "metadata": {
        "id": "H7Ng2d4n1Mmd"
      },
      "source": [
        "# Exercise 5: Data transformation (2)."
      ]
    },
    {
      "cell_type": "code",
      "execution_count": 72,
      "metadata": {
        "colab": {
          "base_uri": "https://localhost:8080/",
          "height": 161
        },
        "id": "fnnavYXvfZcG",
        "outputId": "abd28daa-27ba-4a3a-c4b1-f911e644b653",
        "vscode": {
          "languageId": "r"
        }
      },
      "outputs": [
        {
          "data": {
            "text/html": [
              "<table class=\"dataframe\">\n",
              "<caption>A data.frame: 2 × 6</caption>\n",
              "<thead>\n",
              "\t<tr><th></th><th scope=col>Ozone</th><th scope=col>Solar.R</th><th scope=col>Wind</th><th scope=col>Temp</th><th scope=col>Month</th><th scope=col>Day</th></tr>\n",
              "\t<tr><th></th><th scope=col>&lt;int&gt;</th><th scope=col>&lt;int&gt;</th><th scope=col>&lt;dbl&gt;</th><th scope=col>&lt;int&gt;</th><th scope=col>&lt;int&gt;</th><th scope=col>&lt;int&gt;</th></tr>\n",
              "</thead>\n",
              "<tbody>\n",
              "\t<tr><th scope=row>1</th><td>41</td><td>190</td><td>7.4</td><td>67</td><td>5</td><td>1</td></tr>\n",
              "\t<tr><th scope=row>2</th><td>36</td><td>118</td><td>8.0</td><td>72</td><td>5</td><td>2</td></tr>\n",
              "</tbody>\n",
              "</table>\n"
            ],
            "text/latex": [
              "A data.frame: 2 × 6\n",
              "\\begin{tabular}{r|llllll}\n",
              "  & Ozone & Solar.R & Wind & Temp & Month & Day\\\\\n",
              "  & <int> & <int> & <dbl> & <int> & <int> & <int>\\\\\n",
              "\\hline\n",
              "\t1 & 41 & 190 & 7.4 & 67 & 5 & 1\\\\\n",
              "\t2 & 36 & 118 & 8.0 & 72 & 5 & 2\\\\\n",
              "\\end{tabular}\n"
            ],
            "text/markdown": [
              "\n",
              "A data.frame: 2 × 6\n",
              "\n",
              "| <!--/--> | Ozone &lt;int&gt; | Solar.R &lt;int&gt; | Wind &lt;dbl&gt; | Temp &lt;int&gt; | Month &lt;int&gt; | Day &lt;int&gt; |\n",
              "|---|---|---|---|---|---|---|\n",
              "| 1 | 41 | 190 | 7.4 | 67 | 5 | 1 |\n",
              "| 2 | 36 | 118 | 8.0 | 72 | 5 | 2 |\n",
              "\n"
            ],
            "text/plain": [
              "  Ozone Solar.R Wind Temp Month Day\n",
              "1 41    190     7.4  67   5     1  \n",
              "2 36    118     8.0  72   5     2  "
            ]
          },
          "metadata": {},
          "output_type": "display_data"
        }
      ],
      "source": [
        "airquality_data <- read.csv(\"data/airquality.csv\")\n",
        "head(airquality_data, 2)"
      ]
    },
    {
      "cell_type": "code",
      "execution_count": 73,
      "metadata": {
        "vscode": {
          "languageId": "r"
        }
      },
      "outputs": [
        {
          "data": {
            "text/html": [
              "<style>\n",
              ".list-inline {list-style: none; margin:0; padding: 0}\n",
              ".list-inline>li {display: inline-block}\n",
              ".list-inline>li:not(:last-child)::after {content: \"\\00b7\"; padding: 0 .5ex}\n",
              "</style>\n",
              "<ol class=list-inline><li>5</li><li>6</li><li>7</li><li>8</li><li>9</li></ol>\n"
            ],
            "text/latex": [
              "\\begin{enumerate*}\n",
              "\\item 5\n",
              "\\item 6\n",
              "\\item 7\n",
              "\\item 8\n",
              "\\item 9\n",
              "\\end{enumerate*}\n"
            ],
            "text/markdown": [
              "1. 5\n",
              "2. 6\n",
              "3. 7\n",
              "4. 8\n",
              "5. 9\n",
              "\n",
              "\n"
            ],
            "text/plain": [
              "[1] 5 6 7 8 9"
            ]
          },
          "metadata": {},
          "output_type": "display_data"
        }
      ],
      "source": [
        "unique(airquality_data$Month)"
      ]
    },
    {
      "cell_type": "markdown",
      "metadata": {
        "id": "_FUnJ8VE3PQV"
      },
      "source": [
        "Discretise the Ozone into five bins of\n",
        "equal WIDTH"
      ]
    },
    {
      "cell_type": "code",
      "execution_count": 38,
      "metadata": {
        "colab": {
          "base_uri": "https://localhost:8080/",
          "height": 34
        },
        "id": "C-EkOfJS1zkc",
        "outputId": "7e7a36b9-cca6-404e-d526-63e0a5a841e8",
        "vscode": {
          "languageId": "r"
        }
      },
      "outputs": [
        {
          "data": {
            "text/html": [
              "<style>\n",
              ".list-inline {list-style: none; margin:0; padding: 0}\n",
              ".list-inline>li {display: inline-block}\n",
              ".list-inline>li:not(:last-child)::after {content: \"\\00b7\"; padding: 0 .5ex}\n",
              "</style>\n",
              "<ol class=list-inline><li>1</li><li>34.4</li><li>67.8</li><li>101.2</li><li>134.6</li><li>168</li></ol>\n"
            ],
            "text/latex": [
              "\\begin{enumerate*}\n",
              "\\item 1\n",
              "\\item 34.4\n",
              "\\item 67.8\n",
              "\\item 101.2\n",
              "\\item 134.6\n",
              "\\item 168\n",
              "\\end{enumerate*}\n"
            ],
            "text/markdown": [
              "1. 1\n",
              "2. 34.4\n",
              "3. 67.8\n",
              "4. 101.2\n",
              "5. 134.6\n",
              "6. 168\n",
              "\n",
              "\n"
            ],
            "text/plain": [
              "[1]   1.0  34.4  67.8 101.2 134.6 168.0"
            ]
          },
          "metadata": {},
          "output_type": "display_data"
        }
      ],
      "source": [
        "breaks <- seq(min(airquality_data$Ozone, na.rm = TRUE),\n",
        "              max(airquality_data$Ozone, na.rm = TRUE),\n",
        "              length.out = 6)\n",
        "breaks"
      ]
    },
    {
      "cell_type": "code",
      "execution_count": 39,
      "metadata": {
        "colab": {
          "base_uri": "https://localhost:8080/"
        },
        "id": "dSkUdRtRFsN-",
        "outputId": "bd08afdd-c7d2-423b-ebfa-8cfbc1e8eb9a",
        "vscode": {
          "languageId": "r"
        }
      },
      "outputs": [
        {
          "name": "stdout",
          "output_type": "stream",
          "text": [
            "  Ozone Solar.R Wind Temp Month Day Ozone_bins\n",
            "1    41     190  7.4   67     5   1       bin2\n",
            "2    36     118  8.0   72     5   2       bin2\n",
            "3    12     149 12.6   74     5   3       bin1\n",
            "4    18     313 11.5   62     5   4       bin1\n",
            "5    NA      NA 14.3   56     5   5       <NA>\n",
            "6    28      NA 14.9   66     5   6       bin1\n"
          ]
        }
      ],
      "source": [
        "airquality_data$Ozone_bins <- cut(airquality_data$Ozone,\n",
        "          breaks = breaks,\n",
        "          labels = c('bin1', 'bin2', 'bin3', 'bin4', 'bin5'),\n",
        "          include.lowest = TRUE,\n",
        "          na_values = 'binNA')# przypisz NA do 'binNA\n",
        "\n",
        "# include.lowest = TRUE oznacza, że dolna granica przedziału jest włączona do przedziału.\n",
        "\n",
        "print(head(airquality_data))"
      ]
    },
    {
      "cell_type": "markdown",
      "metadata": {
        "id": "2uSnDsxiIjFP"
      },
      "source": [
        "Discretise the Ozone into five bins of\n",
        "equal SIZE"
      ]
    },
    {
      "cell_type": "code",
      "execution_count": null,
      "metadata": {
        "colab": {
          "base_uri": "https://localhost:8080/",
          "height": 34
        },
        "id": "9mDjhRN6Gzho",
        "outputId": "2ebe9cde-0697-496f-f417-c502fe32e283",
        "vscode": {
          "languageId": "r"
        }
      },
      "outputs": [
        {
          "data": {
            "text/html": [
              "<style>\n",
              ".dl-inline {width: auto; margin:0; padding: 0}\n",
              ".dl-inline>dt, .dl-inline>dd {float: none; width: auto; display: inline-block}\n",
              ".dl-inline>dt::after {content: \":\\0020\"; padding-right: .5ex}\n",
              ".dl-inline>dt:not(:first-of-type) {padding-left: .5ex}\n",
              "</style><dl class=dl-inline><dt>0%</dt><dd>1</dd><dt>20%</dt><dd>14</dd><dt>40%</dt><dd>23</dd><dt>60%</dt><dd>39</dd><dt>80%</dt><dd>73</dd><dt>100%</dt><dd>168</dd></dl>\n"
            ],
            "text/latex": [
              "\\begin{description*}\n",
              "\\item[0\\textbackslash{}\\%] 1\n",
              "\\item[20\\textbackslash{}\\%] 14\n",
              "\\item[40\\textbackslash{}\\%] 23\n",
              "\\item[60\\textbackslash{}\\%] 39\n",
              "\\item[80\\textbackslash{}\\%] 73\n",
              "\\item[100\\textbackslash{}\\%] 168\n",
              "\\end{description*}\n"
            ],
            "text/markdown": [
              "0%\n",
              ":   120%\n",
              ":   1440%\n",
              ":   2360%\n",
              ":   3980%\n",
              ":   73100%\n",
              ":   168\n",
              "\n"
            ],
            "text/plain": [
              "  0%  20%  40%  60%  80% 100% \n",
              "   1   14   23   39   73  168 "
            ]
          },
          "metadata": {},
          "output_type": "display_data"
        }
      ],
      "source": [
        "breaks <- quantile(airquality_data$Ozone, probs = seq(0, 1, 0.2), na.rm = TRUE)\n",
        "breaks"
      ]
    },
    {
      "cell_type": "code",
      "execution_count": 89,
      "metadata": {
        "colab": {
          "base_uri": "https://localhost:8080/"
        },
        "id": "bP6e65qsI5Cp",
        "outputId": "6f9dc165-a776-4355-92b3-d34e548e6015",
        "vscode": {
          "languageId": "r"
        }
      },
      "outputs": [
        {
          "name": "stdout",
          "output_type": "stream",
          "text": [
            "  Ozone Solar.R Wind Temp Month Day Ozone_bins\n",
            "1    41     190  7.4   67     5   1       bin2\n",
            "2    36     118  8.0   72     5   2       bin2\n",
            "3    12     149 12.6   74     5   3       bin1\n",
            "4    18     313 11.5   62     5   4       bin1\n",
            "5    NA      NA 14.3   56     5   5       <NA>\n",
            "6    28      NA 14.9   66     5   6       bin1\n"
          ]
        }
      ],
      "source": [
        "airquality_data$Ozone_bins <- cut(airquality_data$Ozone,\n",
        "          breaks = breaks,\n",
        "          labels = c('bin1', 'bin2', 'bin3', 'bin4', 'bin5'),\n",
        "          include.lowest = TRUE,\n",
        "          na_values = 'binNA')# przypisz NA do 'binNA\n",
        "\n",
        "# include.lowest = TRUE oznacza, że dolna granica przedziału jest włączona do przedziału.\n",
        "\n",
        "print(head(airquality_data))"
      ]
    },
    {
      "cell_type": "markdown",
      "metadata": {
        "id": "l1tXGeBjJDIW"
      },
      "source": [
        "Create a new column AbsDay from the columns Month and Day\n",
        "such that counts the number of days passed from Month=5 and\n",
        "Day=1.\n",
        "\n",
        "// tak, aby zliczała liczbę dni, które upłynęły od Month=5 i\n",
        "Day=1"
      ]
    },
    {
      "cell_type": "code",
      "execution_count": 46,
      "metadata": {
        "colab": {
          "base_uri": "https://localhost:8080/",
          "height": 286
        },
        "id": "6dWqMxMkCPGL",
        "outputId": "cd77be5a-04d5-46c6-e115-6944677f598d",
        "vscode": {
          "languageId": "r"
        }
      },
      "outputs": [
        {
          "data": {
            "text/html": [
              "<table class=\"dataframe\">\n",
              "<caption>A data.frame: 6 × 7</caption>\n",
              "<thead>\n",
              "\t<tr><th></th><th scope=col>Ozone</th><th scope=col>Solar.R</th><th scope=col>Wind</th><th scope=col>Temp</th><th scope=col>Month</th><th scope=col>Day</th><th scope=col>Ozone_bins</th></tr>\n",
              "\t<tr><th></th><th scope=col>&lt;int&gt;</th><th scope=col>&lt;int&gt;</th><th scope=col>&lt;dbl&gt;</th><th scope=col>&lt;int&gt;</th><th scope=col>&lt;int&gt;</th><th scope=col>&lt;int&gt;</th><th scope=col>&lt;fct&gt;</th></tr>\n",
              "</thead>\n",
              "<tbody>\n",
              "\t<tr><th scope=row>1</th><td>41</td><td>190</td><td> 7.4</td><td>67</td><td>5</td><td>1</td><td>bin2</td></tr>\n",
              "\t<tr><th scope=row>2</th><td>36</td><td>118</td><td> 8.0</td><td>72</td><td>5</td><td>2</td><td>bin2</td></tr>\n",
              "\t<tr><th scope=row>3</th><td>12</td><td>149</td><td>12.6</td><td>74</td><td>5</td><td>3</td><td>bin1</td></tr>\n",
              "\t<tr><th scope=row>4</th><td>18</td><td>313</td><td>11.5</td><td>62</td><td>5</td><td>4</td><td>bin1</td></tr>\n",
              "\t<tr><th scope=row>5</th><td>NA</td><td> NA</td><td>14.3</td><td>56</td><td>5</td><td>5</td><td>NA  </td></tr>\n",
              "\t<tr><th scope=row>6</th><td>28</td><td> NA</td><td>14.9</td><td>66</td><td>5</td><td>6</td><td>bin1</td></tr>\n",
              "</tbody>\n",
              "</table>\n"
            ],
            "text/latex": [
              "A data.frame: 6 × 7\n",
              "\\begin{tabular}{r|lllllll}\n",
              "  & Ozone & Solar.R & Wind & Temp & Month & Day & Ozone\\_bins\\\\\n",
              "  & <int> & <int> & <dbl> & <int> & <int> & <int> & <fct>\\\\\n",
              "\\hline\n",
              "\t1 & 41 & 190 &  7.4 & 67 & 5 & 1 & bin2\\\\\n",
              "\t2 & 36 & 118 &  8.0 & 72 & 5 & 2 & bin2\\\\\n",
              "\t3 & 12 & 149 & 12.6 & 74 & 5 & 3 & bin1\\\\\n",
              "\t4 & 18 & 313 & 11.5 & 62 & 5 & 4 & bin1\\\\\n",
              "\t5 & NA &  NA & 14.3 & 56 & 5 & 5 & NA  \\\\\n",
              "\t6 & 28 &  NA & 14.9 & 66 & 5 & 6 & bin1\\\\\n",
              "\\end{tabular}\n"
            ],
            "text/markdown": [
              "\n",
              "A data.frame: 6 × 7\n",
              "\n",
              "| <!--/--> | Ozone &lt;int&gt; | Solar.R &lt;int&gt; | Wind &lt;dbl&gt; | Temp &lt;int&gt; | Month &lt;int&gt; | Day &lt;int&gt; | Ozone_bins &lt;fct&gt; |\n",
              "|---|---|---|---|---|---|---|---|\n",
              "| 1 | 41 | 190 |  7.4 | 67 | 5 | 1 | bin2 |\n",
              "| 2 | 36 | 118 |  8.0 | 72 | 5 | 2 | bin2 |\n",
              "| 3 | 12 | 149 | 12.6 | 74 | 5 | 3 | bin1 |\n",
              "| 4 | 18 | 313 | 11.5 | 62 | 5 | 4 | bin1 |\n",
              "| 5 | NA |  NA | 14.3 | 56 | 5 | 5 | NA   |\n",
              "| 6 | 28 |  NA | 14.9 | 66 | 5 | 6 | bin1 |\n",
              "\n"
            ],
            "text/plain": [
              "  Ozone Solar.R Wind Temp Month Day Ozone_bins\n",
              "1 41    190      7.4 67   5     1   bin2      \n",
              "2 36    118      8.0 72   5     2   bin2      \n",
              "3 12    149     12.6 74   5     3   bin1      \n",
              "4 18    313     11.5 62   5     4   bin1      \n",
              "5 NA     NA     14.3 56   5     5   NA        \n",
              "6 28     NA     14.9 66   5     6   bin1      "
            ]
          },
          "metadata": {},
          "output_type": "display_data"
        }
      ],
      "source": [
        "airquality_data$Month <- as.integer(airquality_data$Month)\n",
        "head(airquality_data)"
      ]
    },
    {
      "cell_type": "code",
      "execution_count": 61,
      "metadata": {
        "colab": {
          "base_uri": "https://localhost:8080/",
          "height": 175
        },
        "id": "2LR5zIpM_wB4",
        "outputId": "182247b2-7557-4a5a-8c42-e70bc01ca12a",
        "vscode": {
          "languageId": "r"
        }
      },
      "outputs": [
        {
          "data": {
            "text/html": [
              "<table class=\"dataframe\">\n",
              "<caption>A matrix: 6 × 8 of type chr</caption>\n",
              "<thead>\n",
              "\t<tr><th scope=col>Ozone</th><th scope=col>Solar.R</th><th scope=col>Wind</th><th scope=col>Temp</th><th scope=col>Month</th><th scope=col>Day</th><th scope=col>Ozone_bins</th><th scope=col>AbsDay</th></tr>\n",
              "</thead>\n",
              "<tbody>\n",
              "\t<tr><td> 41</td><td>190</td><td> 7.4</td><td>67</td><td>5</td><td> 1</td><td>bin2</td><td>1</td></tr>\n",
              "\t<tr><td> 36</td><td>118</td><td> 8.0</td><td>72</td><td>5</td><td> 2</td><td>bin2</td><td>2</td></tr>\n",
              "\t<tr><td> 12</td><td>149</td><td>12.6</td><td>74</td><td>5</td><td> 3</td><td>bin1</td><td>3</td></tr>\n",
              "\t<tr><td> 18</td><td>313</td><td>11.5</td><td>62</td><td>5</td><td> 4</td><td>bin1</td><td>4</td></tr>\n",
              "\t<tr><td>NA </td><td>NA </td><td>14.3</td><td>56</td><td>5</td><td> 5</td><td>NA  </td><td>5</td></tr>\n",
              "\t<tr><td> 28</td><td>NA </td><td>14.9</td><td>66</td><td>5</td><td> 6</td><td>bin1</td><td>6</td></tr>\n",
              "</tbody>\n",
              "</table>\n"
            ],
            "text/latex": [
              "A matrix: 6 × 8 of type chr\n",
              "\\begin{tabular}{llllllll}\n",
              " Ozone & Solar.R & Wind & Temp & Month & Day & Ozone\\_bins & AbsDay\\\\\n",
              "\\hline\n",
              "\t  41 & 190 &  7.4 & 67 & 5 &  1 & bin2 & 1\\\\\n",
              "\t  36 & 118 &  8.0 & 72 & 5 &  2 & bin2 & 2\\\\\n",
              "\t  12 & 149 & 12.6 & 74 & 5 &  3 & bin1 & 3\\\\\n",
              "\t  18 & 313 & 11.5 & 62 & 5 &  4 & bin1 & 4\\\\\n",
              "\t NA  & NA  & 14.3 & 56 & 5 &  5 & NA   & 5\\\\\n",
              "\t  28 & NA  & 14.9 & 66 & 5 &  6 & bin1 & 6\\\\\n",
              "\\end{tabular}\n"
            ],
            "text/markdown": [
              "\n",
              "A matrix: 6 × 8 of type chr\n",
              "\n",
              "| Ozone | Solar.R | Wind | Temp | Month | Day | Ozone_bins | AbsDay |\n",
              "|---|---|---|---|---|---|---|---|\n",
              "|  41 | 190 |  7.4 | 67 | 5 |  1 | bin2 | 1 |\n",
              "|  36 | 118 |  8.0 | 72 | 5 |  2 | bin2 | 2 |\n",
              "|  12 | 149 | 12.6 | 74 | 5 |  3 | bin1 | 3 |\n",
              "|  18 | 313 | 11.5 | 62 | 5 |  4 | bin1 | 4 |\n",
              "| NA  | NA  | 14.3 | 56 | 5 |  5 | NA   | 5 |\n",
              "|  28 | NA  | 14.9 | 66 | 5 |  6 | bin1 | 6 |\n",
              "\n"
            ],
            "text/plain": [
              "     Ozone Solar.R Wind Temp Month Day Ozone_bins AbsDay\n",
              "[1,]  41   190      7.4 67   5      1  bin2       1     \n",
              "[2,]  36   118      8.0 72   5      2  bin2       2     \n",
              "[3,]  12   149     12.6 74   5      3  bin1       3     \n",
              "[4,]  18   313     11.5 62   5      4  bin1       4     \n",
              "[5,] NA    NA      14.3 56   5      5  NA         5     \n",
              "[6,]  28   NA      14.9 66   5      6  bin1       6     "
            ]
          },
          "metadata": {},
          "output_type": "display_data"
        }
      ],
      "source": [
        "count_days <- function(row) {\n",
        "  month <- as.integer(row[\"Month\"])\n",
        "  day <- as.integer(row[\"Day\"])\n",
        "  months30 <- c(6, 9, 11)\n",
        "\n",
        "  if (!is.na(month) && !is.na(day)){\n",
        "    if (month >= 5) {\n",
        "      if (month %in% months30) {\n",
        "        row[\"AbsDay\"] <- (month - 5) * 30 + day\n",
        "      } else {\n",
        "        row[\"AbsDay\"] <- (month - 5) * 31 + day\n",
        "      }\n",
        "    } else {\n",
        "      row[\"AbsDay\"] <- 0\n",
        "    }\n",
        "  } else {\n",
        "    row[\"AbsDay\"] <- 0\n",
        "  }\n",
        "  return(row)\n",
        "}\n",
        "\n",
        "airquality_data <- t(apply(airquality_data, 1, count_days))\n",
        "\n",
        "head(airquality_data)"
      ]
    },
    {
      "cell_type": "markdown",
      "metadata": {
        "id": "RCbmu-UP4LKj"
      },
      "source": [
        "# Exercise 6: Data transformation (3)."
      ]
    },
    {
      "cell_type": "code",
      "execution_count": 74,
      "metadata": {
        "colab": {
          "base_uri": "https://localhost:8080/",
          "height": 192
        },
        "id": "e6v4WCK5JLWv",
        "outputId": "672c5ddf-9706-4d1a-b3b0-07b12af401e2",
        "vscode": {
          "languageId": "r"
        }
      },
      "outputs": [
        {
          "data": {
            "text/html": [
              "<table class=\"dataframe\">\n",
              "<caption>A data.frame: 3 × 6</caption>\n",
              "<thead>\n",
              "\t<tr><th></th><th scope=col>X</th><th scope=col>Class</th><th scope=col>Sex</th><th scope=col>Age</th><th scope=col>Survived</th><th scope=col>Freq</th></tr>\n",
              "\t<tr><th></th><th scope=col>&lt;int&gt;</th><th scope=col>&lt;chr&gt;</th><th scope=col>&lt;chr&gt;</th><th scope=col>&lt;chr&gt;</th><th scope=col>&lt;chr&gt;</th><th scope=col>&lt;int&gt;</th></tr>\n",
              "</thead>\n",
              "<tbody>\n",
              "\t<tr><th scope=row>1</th><td>1</td><td>1st</td><td>Male</td><td>Child</td><td>No</td><td> 0</td></tr>\n",
              "\t<tr><th scope=row>2</th><td>2</td><td>2nd</td><td>Male</td><td>Child</td><td>No</td><td> 0</td></tr>\n",
              "\t<tr><th scope=row>3</th><td>3</td><td>3rd</td><td>Male</td><td>Child</td><td>No</td><td>35</td></tr>\n",
              "</tbody>\n",
              "</table>\n"
            ],
            "text/latex": [
              "A data.frame: 3 × 6\n",
              "\\begin{tabular}{r|llllll}\n",
              "  & X & Class & Sex & Age & Survived & Freq\\\\\n",
              "  & <int> & <chr> & <chr> & <chr> & <chr> & <int>\\\\\n",
              "\\hline\n",
              "\t1 & 1 & 1st & Male & Child & No &  0\\\\\n",
              "\t2 & 2 & 2nd & Male & Child & No &  0\\\\\n",
              "\t3 & 3 & 3rd & Male & Child & No & 35\\\\\n",
              "\\end{tabular}\n"
            ],
            "text/markdown": [
              "\n",
              "A data.frame: 3 × 6\n",
              "\n",
              "| <!--/--> | X &lt;int&gt; | Class &lt;chr&gt; | Sex &lt;chr&gt; | Age &lt;chr&gt; | Survived &lt;chr&gt; | Freq &lt;int&gt; |\n",
              "|---|---|---|---|---|---|---|\n",
              "| 1 | 1 | 1st | Male | Child | No |  0 |\n",
              "| 2 | 2 | 2nd | Male | Child | No |  0 |\n",
              "| 3 | 3 | 3rd | Male | Child | No | 35 |\n",
              "\n"
            ],
            "text/plain": [
              "  X Class Sex  Age   Survived Freq\n",
              "1 1 1st   Male Child No        0  \n",
              "2 2 2nd   Male Child No        0  \n",
              "3 3 3rd   Male Child No       35  "
            ]
          },
          "metadata": {},
          "output_type": "display_data"
        }
      ],
      "source": [
        "titanic <- read.csv(\"data/titanic.csv\",header=TRUE, sep=\",\")\n",
        "head(titanic, 3)"
      ]
    },
    {
      "cell_type": "code",
      "execution_count": 75,
      "metadata": {
        "colab": {
          "base_uri": "https://localhost:8080/",
          "height": 34
        },
        "id": "Wn2oRUAIJZfV",
        "outputId": "c5b84545-1f78-4849-f408-2ddf5b657352",
        "vscode": {
          "languageId": "r"
        }
      },
      "outputs": [
        {
          "data": {
            "text/html": [
              "<style>\n",
              ".dl-inline {width: auto; margin:0; padding: 0}\n",
              ".dl-inline>dt, .dl-inline>dd {float: none; width: auto; display: inline-block}\n",
              ".dl-inline>dt::after {content: \":\\0020\"; padding-right: .5ex}\n",
              ".dl-inline>dt:not(:first-of-type) {padding-left: .5ex}\n",
              "</style><dl class=dl-inline><dt>Crew</dt><dd>4</dd><dt>1st</dt><dd>3</dd><dt>2nd</dt><dd>2</dd><dt>3rd</dt><dd>1</dd></dl>\n"
            ],
            "text/latex": [
              "\\begin{description*}\n",
              "\\item[Crew] 4\n",
              "\\item[1st] 3\n",
              "\\item[2nd] 2\n",
              "\\item[3rd] 1\n",
              "\\end{description*}\n"
            ],
            "text/markdown": [
              "Crew\n",
              ":   41st\n",
              ":   32nd\n",
              ":   23rd\n",
              ":   1\n",
              "\n"
            ],
            "text/plain": [
              "Crew  1st  2nd  3rd \n",
              "   4    3    2    1 "
            ]
          },
          "metadata": {},
          "output_type": "display_data"
        }
      ],
      "source": [
        "class_mapping <- c('Crew' = 4, '1st' = 3, '2nd' = 2, '3rd' = 1)\n",
        "class_mapping"
      ]
    },
    {
      "cell_type": "code",
      "execution_count": 76,
      "metadata": {
        "colab": {
          "base_uri": "https://localhost:8080/",
          "height": 34
        },
        "id": "_urNI1W-DcsL",
        "outputId": "f7f3256d-71fa-40e5-ad7d-410faf9ab6bb",
        "vscode": {
          "languageId": "r"
        }
      },
      "outputs": [
        {
          "data": {
            "text/html": [
              "<style>\n",
              ".list-inline {list-style: none; margin:0; padding: 0}\n",
              ".list-inline>li {display: inline-block}\n",
              ".list-inline>li:not(:last-child)::after {content: \"\\00b7\"; padding: 0 .5ex}\n",
              "</style>\n",
              "<ol class=list-inline><li>'Crew'</li><li>'1st'</li><li>'2nd'</li><li>'3rd'</li></ol>\n"
            ],
            "text/latex": [
              "\\begin{enumerate*}\n",
              "\\item 'Crew'\n",
              "\\item '1st'\n",
              "\\item '2nd'\n",
              "\\item '3rd'\n",
              "\\end{enumerate*}\n"
            ],
            "text/markdown": [
              "1. 'Crew'\n",
              "2. '1st'\n",
              "3. '2nd'\n",
              "4. '3rd'\n",
              "\n",
              "\n"
            ],
            "text/plain": [
              "[1] \"Crew\" \"1st\"  \"2nd\"  \"3rd\" "
            ]
          },
          "metadata": {},
          "output_type": "display_data"
        }
      ],
      "source": [
        "names(class_mapping)"
      ]
    },
    {
      "cell_type": "code",
      "execution_count": 77,
      "metadata": {
        "colab": {
          "base_uri": "https://localhost:8080/",
          "height": 286
        },
        "id": "h6KfexgwJ9JE",
        "outputId": "70e63e29-c9b9-482b-bd7d-843b25d2210b",
        "vscode": {
          "languageId": "r"
        }
      },
      "outputs": [
        {
          "data": {
            "text/html": [
              "<table class=\"dataframe\">\n",
              "<caption>A data.frame: 6 × 6</caption>\n",
              "<thead>\n",
              "\t<tr><th></th><th scope=col>X</th><th scope=col>Class</th><th scope=col>Sex</th><th scope=col>Age</th><th scope=col>Survived</th><th scope=col>Freq</th></tr>\n",
              "\t<tr><th></th><th scope=col>&lt;int&gt;</th><th scope=col>&lt;dbl&gt;</th><th scope=col>&lt;chr&gt;</th><th scope=col>&lt;chr&gt;</th><th scope=col>&lt;chr&gt;</th><th scope=col>&lt;int&gt;</th></tr>\n",
              "</thead>\n",
              "<tbody>\n",
              "\t<tr><th scope=row>1</th><td>1</td><td>2</td><td>Male  </td><td>Child</td><td>No</td><td> 0</td></tr>\n",
              "\t<tr><th scope=row>2</th><td>2</td><td>3</td><td>Male  </td><td>Child</td><td>No</td><td> 0</td></tr>\n",
              "\t<tr><th scope=row>3</th><td>3</td><td>4</td><td>Male  </td><td>Child</td><td>No</td><td>35</td></tr>\n",
              "\t<tr><th scope=row>4</th><td>4</td><td>1</td><td>Male  </td><td>Child</td><td>No</td><td> 0</td></tr>\n",
              "\t<tr><th scope=row>5</th><td>5</td><td>2</td><td>Female</td><td>Child</td><td>No</td><td> 0</td></tr>\n",
              "\t<tr><th scope=row>6</th><td>6</td><td>3</td><td>Female</td><td>Child</td><td>No</td><td> 0</td></tr>\n",
              "</tbody>\n",
              "</table>\n"
            ],
            "text/latex": [
              "A data.frame: 6 × 6\n",
              "\\begin{tabular}{r|llllll}\n",
              "  & X & Class & Sex & Age & Survived & Freq\\\\\n",
              "  & <int> & <dbl> & <chr> & <chr> & <chr> & <int>\\\\\n",
              "\\hline\n",
              "\t1 & 1 & 2 & Male   & Child & No &  0\\\\\n",
              "\t2 & 2 & 3 & Male   & Child & No &  0\\\\\n",
              "\t3 & 3 & 4 & Male   & Child & No & 35\\\\\n",
              "\t4 & 4 & 1 & Male   & Child & No &  0\\\\\n",
              "\t5 & 5 & 2 & Female & Child & No &  0\\\\\n",
              "\t6 & 6 & 3 & Female & Child & No &  0\\\\\n",
              "\\end{tabular}\n"
            ],
            "text/markdown": [
              "\n",
              "A data.frame: 6 × 6\n",
              "\n",
              "| <!--/--> | X &lt;int&gt; | Class &lt;dbl&gt; | Sex &lt;chr&gt; | Age &lt;chr&gt; | Survived &lt;chr&gt; | Freq &lt;int&gt; |\n",
              "|---|---|---|---|---|---|---|\n",
              "| 1 | 1 | 2 | Male   | Child | No |  0 |\n",
              "| 2 | 2 | 3 | Male   | Child | No |  0 |\n",
              "| 3 | 3 | 4 | Male   | Child | No | 35 |\n",
              "| 4 | 4 | 1 | Male   | Child | No |  0 |\n",
              "| 5 | 5 | 2 | Female | Child | No |  0 |\n",
              "| 6 | 6 | 3 | Female | Child | No |  0 |\n",
              "\n"
            ],
            "text/plain": [
              "  X Class Sex    Age   Survived Freq\n",
              "1 1 2     Male   Child No        0  \n",
              "2 2 3     Male   Child No        0  \n",
              "3 3 4     Male   Child No       35  \n",
              "4 4 1     Male   Child No        0  \n",
              "5 5 2     Female Child No        0  \n",
              "6 6 3     Female Child No        0  "
            ]
          },
          "metadata": {},
          "output_type": "display_data"
        }
      ],
      "source": [
        "titanic$Class <- as.numeric(factor(titanic$Class, levels = names(class_mapping), labels = class_mapping))\n",
        "# factor zamienia te wartości na faktor, będą one traktowane jako kategorie\n",
        "head(titanic)\n"
      ]
    },
    {
      "cell_type": "code",
      "execution_count": 78,
      "metadata": {
        "colab": {
          "base_uri": "https://localhost:8080/",
          "height": 225
        },
        "id": "Iv94HYB7Dzoy",
        "outputId": "ede45522-80f8-4da7-ce8d-52d21dbe21b2",
        "vscode": {
          "languageId": "r"
        }
      },
      "outputs": [
        {
          "data": {
            "text/html": [
              "<style>\n",
              ".list-inline {list-style: none; margin:0; padding: 0}\n",
              ".list-inline>li {display: inline-block}\n",
              ".list-inline>li:not(:last-child)::after {content: \"\\00b7\"; padding: 0 .5ex}\n",
              "</style>\n",
              "<ol class=list-inline><li>1</li><li>1</li><li>1</li><li>1</li><li>1</li><li>1</li><li>1</li><li>1</li><li>1</li><li>1</li><li>1</li><li>1</li><li>1</li><li>1</li><li>1</li><li>1</li><li>1</li><li>1</li><li>1</li><li>1</li><li>1</li><li>1</li><li>1</li><li>1</li><li>1</li><li>1</li><li>1</li><li>1</li><li>1</li><li>1</li><li>1</li><li>1</li><li>1</li><li>1</li><li>1</li><li>2</li><li>2</li><li>2</li><li>2</li><li>2</li><li>2</li><li>2</li><li>2</li><li>2</li><li>2</li><li>2</li><li>2</li><li>2</li><li>2</li><li>2</li><li>2</li><li>2</li><li>3</li><li>3</li><li>3</li><li>3</li><li>3</li><li>3</li><li>3</li><li>3</li><li>3</li><li>3</li><li>3</li><li>3</li><li>3</li><li>3</li><li>3</li><li>3</li><li>3</li><li>3</li><li>3</li><li>3</li><li>3</li><li>3</li><li>3</li><li>3</li><li>3</li><li>3</li><li>3</li><li>3</li><li>3</li><li>3</li><li>3</li><li>3</li><li>3</li><li>3</li><li>3</li><li>3</li><li>3</li><li>3</li><li>3</li><li>3</li><li>3</li><li>3</li><li>3</li><li>3</li><li>3</li><li>3</li><li>3</li><li>3</li><li>3</li><li>3</li><li>3</li><li>3</li><li>3</li><li>3</li><li>3</li><li>3</li><li>3</li><li>3</li><li>3</li><li>3</li><li>3</li><li>3</li><li>3</li><li>3</li><li>3</li><li>3</li><li>3</li><li>3</li><li>3</li><li>3</li><li>3</li><li>3</li><li>3</li><li>3</li><li>3</li><li>3</li><li>3</li><li>3</li><li>3</li><li>3</li><li>3</li><li>3</li><li>3</li><li>3</li><li>3</li><li>3</li><li>3</li><li>3</li><li>3</li><li>3</li><li>3</li><li>3</li><li>3</li><li>3</li><li>3</li><li>3</li><li>3</li><li>3</li><li>3</li><li>3</li><li>3</li><li>3</li><li>3</li><li>3</li><li>3</li><li>3</li><li>3</li><li>3</li><li>3</li><li>3</li><li>3</li><li>3</li><li>3</li><li>3</li><li>3</li><li>3</li><li>3</li><li>3</li><li>4</li><li>4</li><li>4</li><li>4</li><li>4</li><li>4</li><li>4</li><li>4</li><li>4</li><li>4</li><li>4</li><li>4</li><li>4</li><li>4</li><li>4</li><li>4</li><li>4</li><li>4</li><li>4</li><li>4</li><li>4</li><li>4</li><li>4</li><li>4</li><li>4</li><li>4</li><li>4</li><li>4</li><li>4</li><li>4</li><li>⋯</li><li>21</li><li>21</li><li>21</li><li>21</li><li>21</li><li>21</li><li>21</li><li>21</li><li>21</li><li>21</li><li>21</li><li>21</li><li>21</li><li>21</li><li>21</li><li>21</li><li>21</li><li>21</li><li>21</li><li>21</li><li>21</li><li>21</li><li>21</li><li>21</li><li>22</li><li>22</li><li>22</li><li>22</li><li>22</li><li>22</li><li>22</li><li>22</li><li>22</li><li>22</li><li>22</li><li>22</li><li>22</li><li>22</li><li>22</li><li>22</li><li>22</li><li>22</li><li>22</li><li>22</li><li>22</li><li>22</li><li>22</li><li>22</li><li>22</li><li>22</li><li>22</li><li>22</li><li>22</li><li>22</li><li>22</li><li>22</li><li>22</li><li>22</li><li>22</li><li>22</li><li>22</li><li>22</li><li>22</li><li>22</li><li>22</li><li>22</li><li>22</li><li>22</li><li>22</li><li>22</li><li>22</li><li>22</li><li>22</li><li>22</li><li>22</li><li>22</li><li>22</li><li>22</li><li>22</li><li>22</li><li>22</li><li>22</li><li>22</li><li>22</li><li>22</li><li>22</li><li>22</li><li>22</li><li>22</li><li>22</li><li>22</li><li>22</li><li>22</li><li>22</li><li>22</li><li>22</li><li>22</li><li>22</li><li>22</li><li>22</li><li>22</li><li>22</li><li>22</li><li>22</li><li>23</li><li>23</li><li>23</li><li>23</li><li>23</li><li>23</li><li>23</li><li>23</li><li>23</li><li>23</li><li>23</li><li>23</li><li>23</li><li>23</li><li>23</li><li>23</li><li>23</li><li>23</li><li>23</li><li>23</li><li>23</li><li>23</li><li>23</li><li>23</li><li>23</li><li>23</li><li>23</li><li>23</li><li>23</li><li>23</li><li>23</li><li>23</li><li>23</li><li>23</li><li>23</li><li>23</li><li>23</li><li>23</li><li>23</li><li>23</li><li>23</li><li>23</li><li>23</li><li>23</li><li>23</li><li>23</li><li>23</li><li>23</li><li>23</li><li>23</li><li>23</li><li>23</li><li>23</li><li>23</li><li>23</li><li>23</li><li>23</li><li>23</li><li>23</li><li>23</li><li>23</li><li>23</li><li>23</li><li>23</li><li>23</li><li>23</li><li>23</li><li>23</li><li>23</li><li>23</li><li>23</li><li>23</li><li>23</li><li>23</li><li>23</li><li>23</li><li>24</li><li>24</li><li>24</li><li>24</li><li>24</li><li>24</li><li>24</li><li>24</li><li>24</li><li>24</li><li>24</li><li>24</li><li>24</li><li>24</li><li>24</li><li>24</li><li>24</li><li>24</li><li>24</li><li>24</li></ol>\n"
            ],
            "text/latex": [
              "\\begin{enumerate*}\n",
              "\\item 1\n",
              "\\item 1\n",
              "\\item 1\n",
              "\\item 1\n",
              "\\item 1\n",
              "\\item 1\n",
              "\\item 1\n",
              "\\item 1\n",
              "\\item 1\n",
              "\\item 1\n",
              "\\item 1\n",
              "\\item 1\n",
              "\\item 1\n",
              "\\item 1\n",
              "\\item 1\n",
              "\\item 1\n",
              "\\item 1\n",
              "\\item 1\n",
              "\\item 1\n",
              "\\item 1\n",
              "\\item 1\n",
              "\\item 1\n",
              "\\item 1\n",
              "\\item 1\n",
              "\\item 1\n",
              "\\item 1\n",
              "\\item 1\n",
              "\\item 1\n",
              "\\item 1\n",
              "\\item 1\n",
              "\\item 1\n",
              "\\item 1\n",
              "\\item 1\n",
              "\\item 1\n",
              "\\item 1\n",
              "\\item 2\n",
              "\\item 2\n",
              "\\item 2\n",
              "\\item 2\n",
              "\\item 2\n",
              "\\item 2\n",
              "\\item 2\n",
              "\\item 2\n",
              "\\item 2\n",
              "\\item 2\n",
              "\\item 2\n",
              "\\item 2\n",
              "\\item 2\n",
              "\\item 2\n",
              "\\item 2\n",
              "\\item 2\n",
              "\\item 2\n",
              "\\item 3\n",
              "\\item 3\n",
              "\\item 3\n",
              "\\item 3\n",
              "\\item 3\n",
              "\\item 3\n",
              "\\item 3\n",
              "\\item 3\n",
              "\\item 3\n",
              "\\item 3\n",
              "\\item 3\n",
              "\\item 3\n",
              "\\item 3\n",
              "\\item 3\n",
              "\\item 3\n",
              "\\item 3\n",
              "\\item 3\n",
              "\\item 3\n",
              "\\item 3\n",
              "\\item 3\n",
              "\\item 3\n",
              "\\item 3\n",
              "\\item 3\n",
              "\\item 3\n",
              "\\item 3\n",
              "\\item 3\n",
              "\\item 3\n",
              "\\item 3\n",
              "\\item 3\n",
              "\\item 3\n",
              "\\item 3\n",
              "\\item 3\n",
              "\\item 3\n",
              "\\item 3\n",
              "\\item 3\n",
              "\\item 3\n",
              "\\item 3\n",
              "\\item 3\n",
              "\\item 3\n",
              "\\item 3\n",
              "\\item 3\n",
              "\\item 3\n",
              "\\item 3\n",
              "\\item 3\n",
              "\\item 3\n",
              "\\item 3\n",
              "\\item 3\n",
              "\\item 3\n",
              "\\item 3\n",
              "\\item 3\n",
              "\\item 3\n",
              "\\item 3\n",
              "\\item 3\n",
              "\\item 3\n",
              "\\item 3\n",
              "\\item 3\n",
              "\\item 3\n",
              "\\item 3\n",
              "\\item 3\n",
              "\\item 3\n",
              "\\item 3\n",
              "\\item 3\n",
              "\\item 3\n",
              "\\item 3\n",
              "\\item 3\n",
              "\\item 3\n",
              "\\item 3\n",
              "\\item 3\n",
              "\\item 3\n",
              "\\item 3\n",
              "\\item 3\n",
              "\\item 3\n",
              "\\item 3\n",
              "\\item 3\n",
              "\\item 3\n",
              "\\item 3\n",
              "\\item 3\n",
              "\\item 3\n",
              "\\item 3\n",
              "\\item 3\n",
              "\\item 3\n",
              "\\item 3\n",
              "\\item 3\n",
              "\\item 3\n",
              "\\item 3\n",
              "\\item 3\n",
              "\\item 3\n",
              "\\item 3\n",
              "\\item 3\n",
              "\\item 3\n",
              "\\item 3\n",
              "\\item 3\n",
              "\\item 3\n",
              "\\item 3\n",
              "\\item 3\n",
              "\\item 3\n",
              "\\item 3\n",
              "\\item 3\n",
              "\\item 3\n",
              "\\item 3\n",
              "\\item 3\n",
              "\\item 3\n",
              "\\item 3\n",
              "\\item 3\n",
              "\\item 3\n",
              "\\item 3\n",
              "\\item 3\n",
              "\\item 3\n",
              "\\item 3\n",
              "\\item 3\n",
              "\\item 3\n",
              "\\item 3\n",
              "\\item 3\n",
              "\\item 3\n",
              "\\item 3\n",
              "\\item 3\n",
              "\\item 3\n",
              "\\item 3\n",
              "\\item 4\n",
              "\\item 4\n",
              "\\item 4\n",
              "\\item 4\n",
              "\\item 4\n",
              "\\item 4\n",
              "\\item 4\n",
              "\\item 4\n",
              "\\item 4\n",
              "\\item 4\n",
              "\\item 4\n",
              "\\item 4\n",
              "\\item 4\n",
              "\\item 4\n",
              "\\item 4\n",
              "\\item 4\n",
              "\\item 4\n",
              "\\item 4\n",
              "\\item 4\n",
              "\\item 4\n",
              "\\item 4\n",
              "\\item 4\n",
              "\\item 4\n",
              "\\item 4\n",
              "\\item 4\n",
              "\\item 4\n",
              "\\item 4\n",
              "\\item 4\n",
              "\\item 4\n",
              "\\item 4\n",
              "\\item ⋯\n",
              "\\item 21\n",
              "\\item 21\n",
              "\\item 21\n",
              "\\item 21\n",
              "\\item 21\n",
              "\\item 21\n",
              "\\item 21\n",
              "\\item 21\n",
              "\\item 21\n",
              "\\item 21\n",
              "\\item 21\n",
              "\\item 21\n",
              "\\item 21\n",
              "\\item 21\n",
              "\\item 21\n",
              "\\item 21\n",
              "\\item 21\n",
              "\\item 21\n",
              "\\item 21\n",
              "\\item 21\n",
              "\\item 21\n",
              "\\item 21\n",
              "\\item 21\n",
              "\\item 21\n",
              "\\item 22\n",
              "\\item 22\n",
              "\\item 22\n",
              "\\item 22\n",
              "\\item 22\n",
              "\\item 22\n",
              "\\item 22\n",
              "\\item 22\n",
              "\\item 22\n",
              "\\item 22\n",
              "\\item 22\n",
              "\\item 22\n",
              "\\item 22\n",
              "\\item 22\n",
              "\\item 22\n",
              "\\item 22\n",
              "\\item 22\n",
              "\\item 22\n",
              "\\item 22\n",
              "\\item 22\n",
              "\\item 22\n",
              "\\item 22\n",
              "\\item 22\n",
              "\\item 22\n",
              "\\item 22\n",
              "\\item 22\n",
              "\\item 22\n",
              "\\item 22\n",
              "\\item 22\n",
              "\\item 22\n",
              "\\item 22\n",
              "\\item 22\n",
              "\\item 22\n",
              "\\item 22\n",
              "\\item 22\n",
              "\\item 22\n",
              "\\item 22\n",
              "\\item 22\n",
              "\\item 22\n",
              "\\item 22\n",
              "\\item 22\n",
              "\\item 22\n",
              "\\item 22\n",
              "\\item 22\n",
              "\\item 22\n",
              "\\item 22\n",
              "\\item 22\n",
              "\\item 22\n",
              "\\item 22\n",
              "\\item 22\n",
              "\\item 22\n",
              "\\item 22\n",
              "\\item 22\n",
              "\\item 22\n",
              "\\item 22\n",
              "\\item 22\n",
              "\\item 22\n",
              "\\item 22\n",
              "\\item 22\n",
              "\\item 22\n",
              "\\item 22\n",
              "\\item 22\n",
              "\\item 22\n",
              "\\item 22\n",
              "\\item 22\n",
              "\\item 22\n",
              "\\item 22\n",
              "\\item 22\n",
              "\\item 22\n",
              "\\item 22\n",
              "\\item 22\n",
              "\\item 22\n",
              "\\item 22\n",
              "\\item 22\n",
              "\\item 22\n",
              "\\item 22\n",
              "\\item 22\n",
              "\\item 22\n",
              "\\item 22\n",
              "\\item 22\n",
              "\\item 23\n",
              "\\item 23\n",
              "\\item 23\n",
              "\\item 23\n",
              "\\item 23\n",
              "\\item 23\n",
              "\\item 23\n",
              "\\item 23\n",
              "\\item 23\n",
              "\\item 23\n",
              "\\item 23\n",
              "\\item 23\n",
              "\\item 23\n",
              "\\item 23\n",
              "\\item 23\n",
              "\\item 23\n",
              "\\item 23\n",
              "\\item 23\n",
              "\\item 23\n",
              "\\item 23\n",
              "\\item 23\n",
              "\\item 23\n",
              "\\item 23\n",
              "\\item 23\n",
              "\\item 23\n",
              "\\item 23\n",
              "\\item 23\n",
              "\\item 23\n",
              "\\item 23\n",
              "\\item 23\n",
              "\\item 23\n",
              "\\item 23\n",
              "\\item 23\n",
              "\\item 23\n",
              "\\item 23\n",
              "\\item 23\n",
              "\\item 23\n",
              "\\item 23\n",
              "\\item 23\n",
              "\\item 23\n",
              "\\item 23\n",
              "\\item 23\n",
              "\\item 23\n",
              "\\item 23\n",
              "\\item 23\n",
              "\\item 23\n",
              "\\item 23\n",
              "\\item 23\n",
              "\\item 23\n",
              "\\item 23\n",
              "\\item 23\n",
              "\\item 23\n",
              "\\item 23\n",
              "\\item 23\n",
              "\\item 23\n",
              "\\item 23\n",
              "\\item 23\n",
              "\\item 23\n",
              "\\item 23\n",
              "\\item 23\n",
              "\\item 23\n",
              "\\item 23\n",
              "\\item 23\n",
              "\\item 23\n",
              "\\item 23\n",
              "\\item 23\n",
              "\\item 23\n",
              "\\item 23\n",
              "\\item 23\n",
              "\\item 23\n",
              "\\item 23\n",
              "\\item 23\n",
              "\\item 23\n",
              "\\item 23\n",
              "\\item 23\n",
              "\\item 23\n",
              "\\item 24\n",
              "\\item 24\n",
              "\\item 24\n",
              "\\item 24\n",
              "\\item 24\n",
              "\\item 24\n",
              "\\item 24\n",
              "\\item 24\n",
              "\\item 24\n",
              "\\item 24\n",
              "\\item 24\n",
              "\\item 24\n",
              "\\item 24\n",
              "\\item 24\n",
              "\\item 24\n",
              "\\item 24\n",
              "\\item 24\n",
              "\\item 24\n",
              "\\item 24\n",
              "\\item 24\n",
              "\\end{enumerate*}\n"
            ],
            "text/markdown": [
              "1. 1\n",
              "2. 1\n",
              "3. 1\n",
              "4. 1\n",
              "5. 1\n",
              "6. 1\n",
              "7. 1\n",
              "8. 1\n",
              "9. 1\n",
              "10. 1\n",
              "11. 1\n",
              "12. 1\n",
              "13. 1\n",
              "14. 1\n",
              "15. 1\n",
              "16. 1\n",
              "17. 1\n",
              "18. 1\n",
              "19. 1\n",
              "20. 1\n",
              "21. 1\n",
              "22. 1\n",
              "23. 1\n",
              "24. 1\n",
              "25. 1\n",
              "26. 1\n",
              "27. 1\n",
              "28. 1\n",
              "29. 1\n",
              "30. 1\n",
              "31. 1\n",
              "32. 1\n",
              "33. 1\n",
              "34. 1\n",
              "35. 1\n",
              "36. 2\n",
              "37. 2\n",
              "38. 2\n",
              "39. 2\n",
              "40. 2\n",
              "41. 2\n",
              "42. 2\n",
              "43. 2\n",
              "44. 2\n",
              "45. 2\n",
              "46. 2\n",
              "47. 2\n",
              "48. 2\n",
              "49. 2\n",
              "50. 2\n",
              "51. 2\n",
              "52. 2\n",
              "53. 3\n",
              "54. 3\n",
              "55. 3\n",
              "56. 3\n",
              "57. 3\n",
              "58. 3\n",
              "59. 3\n",
              "60. 3\n",
              "61. 3\n",
              "62. 3\n",
              "63. 3\n",
              "64. 3\n",
              "65. 3\n",
              "66. 3\n",
              "67. 3\n",
              "68. 3\n",
              "69. 3\n",
              "70. 3\n",
              "71. 3\n",
              "72. 3\n",
              "73. 3\n",
              "74. 3\n",
              "75. 3\n",
              "76. 3\n",
              "77. 3\n",
              "78. 3\n",
              "79. 3\n",
              "80. 3\n",
              "81. 3\n",
              "82. 3\n",
              "83. 3\n",
              "84. 3\n",
              "85. 3\n",
              "86. 3\n",
              "87. 3\n",
              "88. 3\n",
              "89. 3\n",
              "90. 3\n",
              "91. 3\n",
              "92. 3\n",
              "93. 3\n",
              "94. 3\n",
              "95. 3\n",
              "96. 3\n",
              "97. 3\n",
              "98. 3\n",
              "99. 3\n",
              "100. 3\n",
              "101. 3\n",
              "102. 3\n",
              "103. 3\n",
              "104. 3\n",
              "105. 3\n",
              "106. 3\n",
              "107. 3\n",
              "108. 3\n",
              "109. 3\n",
              "110. 3\n",
              "111. 3\n",
              "112. 3\n",
              "113. 3\n",
              "114. 3\n",
              "115. 3\n",
              "116. 3\n",
              "117. 3\n",
              "118. 3\n",
              "119. 3\n",
              "120. 3\n",
              "121. 3\n",
              "122. 3\n",
              "123. 3\n",
              "124. 3\n",
              "125. 3\n",
              "126. 3\n",
              "127. 3\n",
              "128. 3\n",
              "129. 3\n",
              "130. 3\n",
              "131. 3\n",
              "132. 3\n",
              "133. 3\n",
              "134. 3\n",
              "135. 3\n",
              "136. 3\n",
              "137. 3\n",
              "138. 3\n",
              "139. 3\n",
              "140. 3\n",
              "141. 3\n",
              "142. 3\n",
              "143. 3\n",
              "144. 3\n",
              "145. 3\n",
              "146. 3\n",
              "147. 3\n",
              "148. 3\n",
              "149. 3\n",
              "150. 3\n",
              "151. 3\n",
              "152. 3\n",
              "153. 3\n",
              "154. 3\n",
              "155. 3\n",
              "156. 3\n",
              "157. 3\n",
              "158. 3\n",
              "159. 3\n",
              "160. 3\n",
              "161. 3\n",
              "162. 3\n",
              "163. 3\n",
              "164. 3\n",
              "165. 3\n",
              "166. 3\n",
              "167. 3\n",
              "168. 3\n",
              "169. 3\n",
              "170. 3\n",
              "171. 4\n",
              "172. 4\n",
              "173. 4\n",
              "174. 4\n",
              "175. 4\n",
              "176. 4\n",
              "177. 4\n",
              "178. 4\n",
              "179. 4\n",
              "180. 4\n",
              "181. 4\n",
              "182. 4\n",
              "183. 4\n",
              "184. 4\n",
              "185. 4\n",
              "186. 4\n",
              "187. 4\n",
              "188. 4\n",
              "189. 4\n",
              "190. 4\n",
              "191. 4\n",
              "192. 4\n",
              "193. 4\n",
              "194. 4\n",
              "195. 4\n",
              "196. 4\n",
              "197. 4\n",
              "198. 4\n",
              "199. 4\n",
              "200. 4\n",
              "201. ⋯\n",
              "202. 21\n",
              "203. 21\n",
              "204. 21\n",
              "205. 21\n",
              "206. 21\n",
              "207. 21\n",
              "208. 21\n",
              "209. 21\n",
              "210. 21\n",
              "211. 21\n",
              "212. 21\n",
              "213. 21\n",
              "214. 21\n",
              "215. 21\n",
              "216. 21\n",
              "217. 21\n",
              "218. 21\n",
              "219. 21\n",
              "220. 21\n",
              "221. 21\n",
              "222. 21\n",
              "223. 21\n",
              "224. 21\n",
              "225. 21\n",
              "226. 22\n",
              "227. 22\n",
              "228. 22\n",
              "229. 22\n",
              "230. 22\n",
              "231. 22\n",
              "232. 22\n",
              "233. 22\n",
              "234. 22\n",
              "235. 22\n",
              "236. 22\n",
              "237. 22\n",
              "238. 22\n",
              "239. 22\n",
              "240. 22\n",
              "241. 22\n",
              "242. 22\n",
              "243. 22\n",
              "244. 22\n",
              "245. 22\n",
              "246. 22\n",
              "247. 22\n",
              "248. 22\n",
              "249. 22\n",
              "250. 22\n",
              "251. 22\n",
              "252. 22\n",
              "253. 22\n",
              "254. 22\n",
              "255. 22\n",
              "256. 22\n",
              "257. 22\n",
              "258. 22\n",
              "259. 22\n",
              "260. 22\n",
              "261. 22\n",
              "262. 22\n",
              "263. 22\n",
              "264. 22\n",
              "265. 22\n",
              "266. 22\n",
              "267. 22\n",
              "268. 22\n",
              "269. 22\n",
              "270. 22\n",
              "271. 22\n",
              "272. 22\n",
              "273. 22\n",
              "274. 22\n",
              "275. 22\n",
              "276. 22\n",
              "277. 22\n",
              "278. 22\n",
              "279. 22\n",
              "280. 22\n",
              "281. 22\n",
              "282. 22\n",
              "283. 22\n",
              "284. 22\n",
              "285. 22\n",
              "286. 22\n",
              "287. 22\n",
              "288. 22\n",
              "289. 22\n",
              "290. 22\n",
              "291. 22\n",
              "292. 22\n",
              "293. 22\n",
              "294. 22\n",
              "295. 22\n",
              "296. 22\n",
              "297. 22\n",
              "298. 22\n",
              "299. 22\n",
              "300. 22\n",
              "301. 22\n",
              "302. 22\n",
              "303. 22\n",
              "304. 22\n",
              "305. 22\n",
              "306. 23\n",
              "307. 23\n",
              "308. 23\n",
              "309. 23\n",
              "310. 23\n",
              "311. 23\n",
              "312. 23\n",
              "313. 23\n",
              "314. 23\n",
              "315. 23\n",
              "316. 23\n",
              "317. 23\n",
              "318. 23\n",
              "319. 23\n",
              "320. 23\n",
              "321. 23\n",
              "322. 23\n",
              "323. 23\n",
              "324. 23\n",
              "325. 23\n",
              "326. 23\n",
              "327. 23\n",
              "328. 23\n",
              "329. 23\n",
              "330. 23\n",
              "331. 23\n",
              "332. 23\n",
              "333. 23\n",
              "334. 23\n",
              "335. 23\n",
              "336. 23\n",
              "337. 23\n",
              "338. 23\n",
              "339. 23\n",
              "340. 23\n",
              "341. 23\n",
              "342. 23\n",
              "343. 23\n",
              "344. 23\n",
              "345. 23\n",
              "346. 23\n",
              "347. 23\n",
              "348. 23\n",
              "349. 23\n",
              "350. 23\n",
              "351. 23\n",
              "352. 23\n",
              "353. 23\n",
              "354. 23\n",
              "355. 23\n",
              "356. 23\n",
              "357. 23\n",
              "358. 23\n",
              "359. 23\n",
              "360. 23\n",
              "361. 23\n",
              "362. 23\n",
              "363. 23\n",
              "364. 23\n",
              "365. 23\n",
              "366. 23\n",
              "367. 23\n",
              "368. 23\n",
              "369. 23\n",
              "370. 23\n",
              "371. 23\n",
              "372. 23\n",
              "373. 23\n",
              "374. 23\n",
              "375. 23\n",
              "376. 23\n",
              "377. 23\n",
              "378. 23\n",
              "379. 23\n",
              "380. 23\n",
              "381. 23\n",
              "382. 24\n",
              "383. 24\n",
              "384. 24\n",
              "385. 24\n",
              "386. 24\n",
              "387. 24\n",
              "388. 24\n",
              "389. 24\n",
              "390. 24\n",
              "391. 24\n",
              "392. 24\n",
              "393. 24\n",
              "394. 24\n",
              "395. 24\n",
              "396. 24\n",
              "397. 24\n",
              "398. 24\n",
              "399. 24\n",
              "400. 24\n",
              "401. 24\n",
              "\n",
              "\n"
            ],
            "text/plain": [
              "   [1]  1  1  1  1  1  1  1  1  1  1  1  1  1  1  1  1  1  1  1  1  1  1  1  1\n",
              "  [25]  1  1  1  1  1  1  1  1  1  1  1  2  2  2  2  2  2  2  2  2  2  2  2  2\n",
              "  [49]  2  2  2  2  3  3  3  3  3  3  3  3  3  3  3  3  3  3  3  3  3  3  3  3\n",
              "  [73]  3  3  3  3  3  3  3  3  3  3  3  3  3  3  3  3  3  3  3  3  3  3  3  3\n",
              "  [97]  3  3  3  3  3  3  3  3  3  3  3  3  3  3  3  3  3  3  3  3  3  3  3  3\n",
              " [121]  3  3  3  3  3  3  3  3  3  3  3  3  3  3  3  3  3  3  3  3  3  3  3  3\n",
              " [145]  3  3  3  3  3  3  3  3  3  3  3  3  3  3  3  3  3  3  3  3  3  3  3  3\n",
              " [169]  3  3  4  4  4  4  4  4  4  4  4  4  4  4  4  4  4  4  4  4  4  4  4  4\n",
              " [193]  4  4  4  4  4  4  4  4  4  4  4  4  4  4  4  4  4  4  4  4  4  4  4  4\n",
              " [217]  4  4  4  4  4  4  4  4  4  4  4  4  4  4  4  4  4  4  4  4  4  4  4  4\n",
              " [241]  4  4  4  4  4  4  4  4  4  4  4  4  4  4  4  4  4  4  4  4  4  4  4  4\n",
              " [265]  4  4  4  4  4  4  4  4  4  4  4  4  4  4  4  4  4  4  4  4  4  4  4  4\n",
              " [289]  4  4  4  4  4  4  4  4  4  4  4  4  4  4  4  4  4  4  4  4  4  4  4  4\n",
              " [313]  4  4  4  4  4  4  4  4  4  4  4  4  5  5  5  5  5  5  5  5  5  5  5  5\n",
              " [337]  5  5  5  5  5  5  5  5  5  5  5  5  5  5  5  5  5  5  5  5  5  5  5  5\n",
              " [361]  5  5  5  5  5  5  5  5  5  5  5  5  5  5  5  5  5  5  5  5  5  5  5  5\n",
              " [385]  5  5  5  5  5  5  5  5  5  5  5  5  5  5  5  5  5  5  5  5  5  5  5  5\n",
              " [409]  5  5  5  5  5  5  5  5  5  5  5  5  5  5  5  5  5  5  5  5  5  5  5  5\n",
              " [433]  5  5  5  5  5  5  5  5  5  5  5  5  5  5  5  5  5  5  5  5  5  5  5  5\n",
              " [457]  5  5  5  5  5  5  5  5  5  5  5  5  5  5  5  5  5  5  5  5  5  5  5  5\n",
              " [481]  5  5  5  5  5  5  5  5  5  5  5  5  5  5  5  5  5  5  5  5  5  5  5  5\n",
              " [505]  5  5  5  5  5  5  5  5  5  5  5  5  5  5  5  5  5  5  5  5  5  5  5  5\n",
              " [529]  5  5  5  5  5  5  5  5  5  5  5  5  5  5  5  5  5  5  5  5  5  5  5  5\n",
              " [553]  5  5  5  5  5  5  5  5  5  5  5  5  5  5  5  5  5  5  5  5  5  5  5  5\n",
              " [577]  5  5  5  5  5  5  5  5  5  5  5  5  5  5  5  5  5  5  5  5  5  5  5  5\n",
              " [601]  5  5  5  5  5  5  5  5  5  5  5  5  5  5  5  5  5  5  5  5  5  5  5  5\n",
              " [625]  5  5  5  5  5  5  5  5  5  5  5  5  5  5  5  5  5  5  5  5  5  5  5  5\n",
              " [649]  5  5  5  5  5  5  5  5  5  5  5  5  5  5  5  5  5  5  5  5  5  5  5  5\n",
              " [673]  5  5  5  5  5  5  5  5  5  5  5  5  5  5  5  5  5  5  5  5  5  5  5  5\n",
              " [697]  5  5  5  5  5  5  5  5  5  5  5  5  5  5  5  6  6  6  6  6  6  6  6  6\n",
              " [721]  6  6  6  6  6  6  6  6  6  6  6  6  6  6  6  6  6  6  6  6  6  6  6  6\n",
              " [745]  6  6  6  6  6  6  6  6  6  6  6  6  6  6  6  6  6  6  6  6  6  6  6  6\n",
              " [769]  6  6  6  6  6  6  6  6  6  6  6  6  6  6  6  6  6  6  6  6  6  6  6  6\n",
              " [793]  6  6  6  6  6  6  6  6  6  6  6  6  6  6  6  6  6  6  6  6  6  6  6  6\n",
              " [817]  6  6  6  6  6  6  6  6  6  6  6  6  6  6  6  6  6  6  6  6  6  6  6  6\n",
              " [841]  6  6  6  6  6  6  6  6  6  6  6  6  6  6  6  6  6  6  6  6  6  6  6  6\n",
              " [865]  6  6  6  6  6  6  6  6  6  6  6  6  6  6  6  6  6  6  6  6  6  6  6  6\n",
              " [889]  6  6  6  6  6  6  6  6  6  6  6  6  6  6  6  6  6  6  6  6  6  6  6  6\n",
              " [913]  6  6  6  6  6  6  6  6  6  6  6  6  6  6  6  6  6  6  6  6  6  6  6  6\n",
              " [937]  6  6  6  6  6  6  6  6  6  6  6  6  6  6  6  6  6  6  6  6  6  6  6  6\n",
              " [961]  6  6  6  6  6  6  6  6  6  6  6  6  6  6  6  6  6  6  6  6  6  6  6  6\n",
              " [985]  6  6  6  6  6  6  6  6  6  6  6  6  6  6  6  6  6  6  6  6  6  6  6  6\n",
              "[1009]  6  6  6  6  6  6  6  6  6  6  6  6  6  6  6  6  6  6  6  6  6  6  6  6\n",
              "[1033]  6  6  6  6  6  6  6  6  6  6  6  6  6  6  6  6  6  6  6  6  6  6  6  6\n",
              "[1057]  6  6  6  6  6  6  6  6  6  6  6  6  6  6  6  6  6  6  6  6  6  6  6  6\n",
              "[1081]  6  6  6  6  6  6  6  6  6  6  6  6  6  6  6  6  6  6  6  6  6  6  6  6\n",
              "[1105]  6  6  6  6  6  6  6  6  6  6  6  6  6  6  6  6  6  6  6  6  6  6  6  6\n",
              "[1129]  6  6  6  6  6  6  6  6  6  6  6  6  6  6  6  6  6  6  6  6  6  6  6  6\n",
              "[1153]  6  6  6  6  6  6  6  6  6  6  6  6  6  6  6  6  6  6  6  6  6  6  6  6\n",
              "[1177]  6  6  6  6  6  6  6  6  6  6  6  6  6  6  6  6  6  6  6  6  6  6  6  6\n",
              "[1201]  6  6  6  6  6  6  6  6  6  6  6  6  6  6  6  6  6  6  6  6  6  6  6  6\n",
              "[1225]  6  6  6  6  6  6  6  6  6  6  6  6  6  6  6  6  6  6  6  6  6  6  6  6\n",
              "[1249]  6  6  6  6  6  6  6  6  6  6  6  6  6  6  6  6  6  6  6  6  6  6  6  6\n",
              "[1273]  6  6  6  6  6  6  6  6  6  6  6  6  6  6  6  6  6  6  6  6  6  6  6  6\n",
              "[1297]  6  6  6  6  6  6  6  6  6  6  6  6  6  6  6  6  6  6  6  6  6  6  6  6\n",
              "[1321]  6  6  6  6  6  6  6  6  6  6  6  6  6  6  6  6  6  6  6  6  6  6  6  6\n",
              "[1345]  6  6  6  6  6  6  6  6  6  6  6  6  6  6  6  6  6  6  6  6  6  6  6  6\n",
              "[1369]  6  6  6  6  6  6  6  6  6  6  6  6  6  7  7  7  7  8  8  8  8  8  8  8\n",
              "[1393]  8  8  8  8  8  8  9  9  9  9  9  9  9  9  9  9  9  9  9  9  9  9  9  9\n",
              "[1417]  9  9  9  9  9  9  9  9  9  9  9  9  9  9  9  9  9  9  9  9  9  9  9  9\n",
              "[1441]  9  9  9  9  9  9  9  9  9  9  9  9  9  9  9  9  9  9  9  9  9  9  9  9\n",
              "[1465]  9  9  9  9  9  9  9  9  9  9  9  9  9  9  9  9  9  9  9  9  9  9  9 10\n",
              "[1489] 10 10 11 11 11 11 11 12 12 12 12 12 12 12 12 12 12 12 13 13 13 13 13 13\n",
              "[1513] 13 13 13 13 13 13 13 14 15 15 15 15 15 15 15 15 15 15 15 15 15 16 16 16\n",
              "[1537] 16 16 16 16 16 16 16 16 16 16 16 17 17 17 17 17 17 17 17 17 17 17 17 17\n",
              "[1561] 17 17 17 17 17 17 17 17 17 17 17 17 17 17 17 17 17 17 17 17 17 17 17 17\n",
              "[1585] 17 17 17 17 17 17 17 17 17 17 17 17 17 17 17 17 17 17 17 17 18 18 18 18\n",
              "[1609] 18 18 18 18 18 18 18 18 18 18 19 19 19 19 19 19 19 19 19 19 19 19 19 19\n",
              "[1633] 19 19 19 19 19 19 19 19 19 19 19 19 19 19 19 19 19 19 19 19 19 19 19 19\n",
              "[1657] 19 19 19 19 19 19 19 19 19 19 19 19 19 19 19 19 19 19 19 19 19 19 19 19\n",
              "[1681] 19 19 19 19 19 19 19 19 19 19 19 19 19 20 20 20 20 20 20 20 20 20 20 20\n",
              "[1705] 20 20 20 20 20 20 20 20 20 20 20 20 20 20 20 20 20 20 20 20 20 20 20 20\n",
              "[1729] 20 20 20 20 20 20 20 20 20 20 20 20 20 20 20 20 20 20 20 20 20 20 20 20\n",
              "[1753] 20 20 20 20 20 20 20 20 20 20 20 20 20 20 20 20 20 20 20 20 20 20 20 20\n",
              "[1777] 20 20 20 20 20 20 20 20 20 20 20 20 20 20 20 20 20 20 20 20 20 20 20 20\n",
              "[1801] 20 20 20 20 20 20 20 20 20 20 20 20 20 20 20 20 20 20 20 20 20 20 20 20\n",
              "[1825] 20 20 20 20 20 20 20 20 20 20 20 20 20 20 20 20 20 20 20 20 20 20 20 20\n",
              "[1849] 20 20 20 20 20 20 20 20 20 20 20 20 20 20 20 20 20 20 20 20 20 20 20 20\n",
              "[1873] 20 20 20 20 20 20 20 20 20 20 20 20 20 21 21 21 21 21 21 21 21 21 21 21\n",
              "[1897] 21 21 21 21 21 21 21 21 21 21 21 21 21 21 21 21 21 21 21 21 21 21 21 21\n",
              "[1921] 21 21 21 21 21 21 21 21 21 21 21 21 21 21 21 21 21 21 21 21 21 21 21 21\n",
              "[1945] 21 21 21 21 21 21 21 21 21 21 21 21 21 21 21 21 21 21 21 21 21 21 21 21\n",
              "[1969] 21 21 21 21 21 21 21 21 21 21 21 21 21 21 21 21 21 21 21 21 21 21 21 21\n",
              "[1993] 21 21 21 21 21 21 21 21 21 21 21 21 21 21 21 21 21 21 21 21 21 21 21 21\n",
              "[2017] 21 21 21 21 21 21 21 21 21 22 22 22 22 22 22 22 22 22 22 22 22 22 22 22\n",
              "[2041] 22 22 22 22 22 22 22 22 22 22 22 22 22 22 22 22 22 22 22 22 22 22 22 22\n",
              "[2065] 22 22 22 22 22 22 22 22 22 22 22 22 22 22 22 22 22 22 22 22 22 22 22 22\n",
              "[2089] 22 22 22 22 22 22 22 22 22 22 22 22 22 22 22 22 22 23 23 23 23 23 23 23\n",
              "[2113] 23 23 23 23 23 23 23 23 23 23 23 23 23 23 23 23 23 23 23 23 23 23 23 23\n",
              "[2137] 23 23 23 23 23 23 23 23 23 23 23 23 23 23 23 23 23 23 23 23 23 23 23 23\n",
              "[2161] 23 23 23 23 23 23 23 23 23 23 23 23 23 23 23 23 23 23 23 23 23 24 24 24\n",
              "[2185] 24 24 24 24 24 24 24 24 24 24 24 24 24 24 24 24 24"
            ]
          },
          "metadata": {},
          "output_type": "display_data"
        }
      ],
      "source": [
        "titanic_filtered <- titanic[titanic$Freq > 0, ]\n",
        "rep(seq_len(nrow(titanic_filtered)), titanic_filtered$Freq)\n",
        "# seq_len(nrow(titanic_filtered))"
      ]
    },
    {
      "cell_type": "code",
      "execution_count": 80,
      "metadata": {
        "colab": {
          "base_uri": "https://localhost:8080/",
          "height": 286
        },
        "id": "hktfQJsfK_5s",
        "outputId": "745b0ebe-c39b-40d2-b626-7e0e857c6889",
        "vscode": {
          "languageId": "r"
        }
      },
      "outputs": [
        {
          "data": {
            "text/html": [
              "<table class=\"dataframe\">\n",
              "<caption>A data.frame: 6 × 6</caption>\n",
              "<thead>\n",
              "\t<tr><th></th><th scope=col>X</th><th scope=col>Class</th><th scope=col>Sex</th><th scope=col>Age</th><th scope=col>Survived</th><th scope=col>Freq</th></tr>\n",
              "\t<tr><th></th><th scope=col>&lt;int&gt;</th><th scope=col>&lt;dbl&gt;</th><th scope=col>&lt;chr&gt;</th><th scope=col>&lt;chr&gt;</th><th scope=col>&lt;chr&gt;</th><th scope=col>&lt;int&gt;</th></tr>\n",
              "</thead>\n",
              "<tbody>\n",
              "\t<tr><th scope=row>3</th><td>3</td><td>4</td><td>Male</td><td>Child</td><td>No</td><td>35</td></tr>\n",
              "\t<tr><th scope=row>3.1</th><td>3</td><td>4</td><td>Male</td><td>Child</td><td>No</td><td>35</td></tr>\n",
              "\t<tr><th scope=row>3.2</th><td>3</td><td>4</td><td>Male</td><td>Child</td><td>No</td><td>35</td></tr>\n",
              "\t<tr><th scope=row>3.3</th><td>3</td><td>4</td><td>Male</td><td>Child</td><td>No</td><td>35</td></tr>\n",
              "\t<tr><th scope=row>3.4</th><td>3</td><td>4</td><td>Male</td><td>Child</td><td>No</td><td>35</td></tr>\n",
              "\t<tr><th scope=row>3.5</th><td>3</td><td>4</td><td>Male</td><td>Child</td><td>No</td><td>35</td></tr>\n",
              "</tbody>\n",
              "</table>\n"
            ],
            "text/latex": [
              "A data.frame: 6 × 6\n",
              "\\begin{tabular}{r|llllll}\n",
              "  & X & Class & Sex & Age & Survived & Freq\\\\\n",
              "  & <int> & <dbl> & <chr> & <chr> & <chr> & <int>\\\\\n",
              "\\hline\n",
              "\t3 & 3 & 4 & Male & Child & No & 35\\\\\n",
              "\t3.1 & 3 & 4 & Male & Child & No & 35\\\\\n",
              "\t3.2 & 3 & 4 & Male & Child & No & 35\\\\\n",
              "\t3.3 & 3 & 4 & Male & Child & No & 35\\\\\n",
              "\t3.4 & 3 & 4 & Male & Child & No & 35\\\\\n",
              "\t3.5 & 3 & 4 & Male & Child & No & 35\\\\\n",
              "\\end{tabular}\n"
            ],
            "text/markdown": [
              "\n",
              "A data.frame: 6 × 6\n",
              "\n",
              "| <!--/--> | X &lt;int&gt; | Class &lt;dbl&gt; | Sex &lt;chr&gt; | Age &lt;chr&gt; | Survived &lt;chr&gt; | Freq &lt;int&gt; |\n",
              "|---|---|---|---|---|---|---|\n",
              "| 3 | 3 | 4 | Male | Child | No | 35 |\n",
              "| 3.1 | 3 | 4 | Male | Child | No | 35 |\n",
              "| 3.2 | 3 | 4 | Male | Child | No | 35 |\n",
              "| 3.3 | 3 | 4 | Male | Child | No | 35 |\n",
              "| 3.4 | 3 | 4 | Male | Child | No | 35 |\n",
              "| 3.5 | 3 | 4 | Male | Child | No | 35 |\n",
              "\n"
            ],
            "text/plain": [
              "    X Class Sex  Age   Survived Freq\n",
              "3   3 4     Male Child No       35  \n",
              "3.1 3 4     Male Child No       35  \n",
              "3.2 3 4     Male Child No       35  \n",
              "3.3 3 4     Male Child No       35  \n",
              "3.4 3 4     Male Child No       35  \n",
              "3.5 3 4     Male Child No       35  "
            ]
          },
          "metadata": {},
          "output_type": "display_data"
        }
      ],
      "source": [
        "titanic_filtered <- titanic[titanic$Freq > 0, ]\n",
        "\n",
        "titanic2 <- titanic_filtered[rep(seq_len(nrow(titanic_filtered)), titanic_filtered$Freq), ]\n",
        "\n",
        "titanic2 <- titanic2[order(titanic2$X), ]\n",
        "\n",
        "head(titanic2)\n"
      ]
    },
    {
      "cell_type": "code",
      "execution_count": 81,
      "metadata": {
        "colab": {
          "base_uri": "https://localhost:8080/",
          "height": 857
        },
        "id": "CN6KMiZ7pQbd",
        "outputId": "78cc4def-3838-4693-f379-eb37828033ff",
        "vscode": {
          "languageId": "r"
        }
      },
      "outputs": [
        {
          "data": {
            "image/png": "[encoded data removed]",
            "text/plain": [
              "Plot with title “Original Titanic Data ”"
            ]
          },
          "metadata": {
            "image/png": {
              "height": 420,
              "width": 420
            }
          },
          "output_type": "display_data"
        },
        {
          "data": {
            "image/png": "[encoded data removed]",
            "text/plain": [
              "Plot with title “Transformed Titanic Data ”"
            ]
          },
          "metadata": {
            "image/png": {
              "height": 420,
              "width": 420
            }
          },
          "output_type": "display_data"
        }
      ],
      "source": [
        "barplot(table(titanic$Freq), main=\"Original Titanic Data \", xlab=\"Freq feature\", ylab=\"Count\", col=\"skyblue\")\n",
        "\n",
        "barplot(table(titanic2$Freq), main=\"Transformed Titanic Data \", xlab=\"Freq feature\", ylab=\"Count\", col=\"lightgreen\")\n"
      ]
    },
    {
      "cell_type": "markdown",
      "metadata": {
        "id": "qeG5tJVtEwWB"
      },
      "source": [
        "# Exercise 7: Data selection."
      ]
    },
    {
      "cell_type": "code",
      "execution_count": 82,
      "metadata": {
        "colab": {
          "base_uri": "https://localhost:8080/",
          "height": 286
        },
        "id": "ENE-JBBjqf9F",
        "outputId": "cd89a725-84fc-4a94-cd3b-7122b53ec524",
        "vscode": {
          "languageId": "r"
        }
      },
      "outputs": [
        {
          "data": {
            "text/html": [
              "<table class=\"dataframe\">\n",
              "<caption>A data.frame: 6 × 6</caption>\n",
              "<thead>\n",
              "\t<tr><th></th><th scope=col>Ozone</th><th scope=col>Solar.R</th><th scope=col>Wind</th><th scope=col>Temp</th><th scope=col>Month</th><th scope=col>Day</th></tr>\n",
              "\t<tr><th></th><th scope=col>&lt;dbl&gt;</th><th scope=col>&lt;dbl&gt;</th><th scope=col>&lt;dbl&gt;</th><th scope=col>&lt;int&gt;</th><th scope=col>&lt;int&gt;</th><th scope=col>&lt;int&gt;</th></tr>\n",
              "</thead>\n",
              "<tbody>\n",
              "\t<tr><th scope=row>1</th><td>41.00000</td><td>190.0000</td><td> 7.4</td><td>67</td><td>5</td><td>1</td></tr>\n",
              "\t<tr><th scope=row>2</th><td>36.00000</td><td>118.0000</td><td> 8.0</td><td>72</td><td>5</td><td>2</td></tr>\n",
              "\t<tr><th scope=row>3</th><td>12.00000</td><td>149.0000</td><td>12.6</td><td>74</td><td>5</td><td>3</td></tr>\n",
              "\t<tr><th scope=row>4</th><td>18.00000</td><td>313.0000</td><td>11.5</td><td>62</td><td>5</td><td>4</td></tr>\n",
              "\t<tr><th scope=row>5</th><td>42.12931</td><td>185.9315</td><td>14.3</td><td>56</td><td>5</td><td>5</td></tr>\n",
              "\t<tr><th scope=row>6</th><td>28.00000</td><td>185.9315</td><td>14.9</td><td>66</td><td>5</td><td>6</td></tr>\n",
              "</tbody>\n",
              "</table>\n"
            ],
            "text/latex": [
              "A data.frame: 6 × 6\n",
              "\\begin{tabular}{r|llllll}\n",
              "  & Ozone & Solar.R & Wind & Temp & Month & Day\\\\\n",
              "  & <dbl> & <dbl> & <dbl> & <int> & <int> & <int>\\\\\n",
              "\\hline\n",
              "\t1 & 41.00000 & 190.0000 &  7.4 & 67 & 5 & 1\\\\\n",
              "\t2 & 36.00000 & 118.0000 &  8.0 & 72 & 5 & 2\\\\\n",
              "\t3 & 12.00000 & 149.0000 & 12.6 & 74 & 5 & 3\\\\\n",
              "\t4 & 18.00000 & 313.0000 & 11.5 & 62 & 5 & 4\\\\\n",
              "\t5 & 42.12931 & 185.9315 & 14.3 & 56 & 5 & 5\\\\\n",
              "\t6 & 28.00000 & 185.9315 & 14.9 & 66 & 5 & 6\\\\\n",
              "\\end{tabular}\n"
            ],
            "text/markdown": [
              "\n",
              "A data.frame: 6 × 6\n",
              "\n",
              "| <!--/--> | Ozone &lt;dbl&gt; | Solar.R &lt;dbl&gt; | Wind &lt;dbl&gt; | Temp &lt;int&gt; | Month &lt;int&gt; | Day &lt;int&gt; |\n",
              "|---|---|---|---|---|---|---|\n",
              "| 1 | 41.00000 | 190.0000 |  7.4 | 67 | 5 | 1 |\n",
              "| 2 | 36.00000 | 118.0000 |  8.0 | 72 | 5 | 2 |\n",
              "| 3 | 12.00000 | 149.0000 | 12.6 | 74 | 5 | 3 |\n",
              "| 4 | 18.00000 | 313.0000 | 11.5 | 62 | 5 | 4 |\n",
              "| 5 | 42.12931 | 185.9315 | 14.3 | 56 | 5 | 5 |\n",
              "| 6 | 28.00000 | 185.9315 | 14.9 | 66 | 5 | 6 |\n",
              "\n"
            ],
            "text/plain": [
              "  Ozone    Solar.R  Wind Temp Month Day\n",
              "1 41.00000 190.0000  7.4 67   5     1  \n",
              "2 36.00000 118.0000  8.0 72   5     2  \n",
              "3 12.00000 149.0000 12.6 74   5     3  \n",
              "4 18.00000 313.0000 11.5 62   5     4  \n",
              "5 42.12931 185.9315 14.3 56   5     5  \n",
              "6 28.00000 185.9315 14.9 66   5     6  "
            ]
          },
          "metadata": {},
          "output_type": "display_data"
        }
      ],
      "source": [
        "airq <- read.csv(\"data/airquality.csv\",header=TRUE, sep=\",\")\n",
        "\n",
        "for (col in names(airq)) {\n",
        "  airq[is.na(airq[[col]]), col] <- mean(airq[[col]], na.rm = TRUE)\n",
        "}\n",
        "head(airq)"
      ]
    },
    {
      "cell_type": "code",
      "execution_count": 83,
      "metadata": {
        "colab": {
          "base_uri": "https://localhost:8080/"
        },
        "id": "57Ng5pmmq6LX",
        "outputId": "187aef14-a97b-4b11-a6c6-6a7bd93254d4",
        "vscode": {
          "languageId": "r"
        }
      },
      "outputs": [
        {
          "name": "stdout",
          "output_type": "stream",
          "text": [
            "              Ozone     Solar.R        Wind       Temp        Month\n",
            "Ozone    1.00000000  0.30296951 -0.53093584  0.6087420  0.149081301\n",
            "Solar.R  0.30296951  1.00000000 -0.05524488  0.2625689 -0.072904429\n",
            "Wind    -0.53093584 -0.05524488  1.00000000 -0.4579879 -0.178292579\n",
            "Temp     0.60874201  0.26256886 -0.45798788  1.0000000  0.420947252\n",
            "Month    0.14908130 -0.07290443 -0.17829258  0.4209473  1.000000000\n",
            "Day     -0.01135537 -0.14562113  0.02718090 -0.1305932 -0.007961763\n",
            "                 Day\n",
            "Ozone   -0.011355366\n",
            "Solar.R -0.145621130\n",
            "Wind     0.027180903\n",
            "Temp    -0.130593175\n",
            "Month   -0.007961763\n",
            "Day      1.000000000\n"
          ]
        }
      ],
      "source": [
        "correlation_matrix <- cor(airq)\n",
        "\n",
        "print(correlation_matrix)"
      ]
    },
    {
      "cell_type": "markdown",
      "metadata": {
        "id": "7RznJHB0FGzj"
      },
      "source": [
        "Calculate a correlation matrix for the air dataset. Do you see a\n",
        "pair of attributes that are redundant?\n",
        "\n",
        "I dont see souch a attributes. Thw highest correlation have Ozone and Temp, but still 0.6 its too small to named it redundant."
      ]
    },
    {
      "cell_type": "code",
      "execution_count": 84,
      "metadata": {
        "colab": {
          "base_uri": "https://localhost:8080/",
          "height": 437
        },
        "id": "MslEkt8yvKUz",
        "outputId": "546591e1-0b55-4a7f-9998-4988a83848b1",
        "vscode": {
          "languageId": "r"
        }
      },
      "outputs": [
        {
          "data": {
            "image/png": "[encoded data removed]",
            "text/plain": [
              "Plot with title “Correlation Heatmap for cars Dataset”"
            ]
          },
          "metadata": {
            "image/png": {
              "height": 420,
              "width": 420
            }
          },
          "output_type": "display_data"
        }
      ],
      "source": [
        "heatmap(correlation_matrix,\n",
        "        col = colorRampPalette(c(\"navy\", \"white\", \"firebrick3\"))(100),\n",
        "        scale = \"none\",\n",
        "        margins = c(10, 10))\n",
        "\n",
        "# Dodaj tytuł do mapy cieplnej\n",
        "title(\"Correlation Heatmap for cars Dataset\")\n",
        "\n"
      ]
    },
    {
      "cell_type": "code",
      "execution_count": 85,
      "metadata": {
        "colab": {
          "base_uri": "https://localhost:8080/",
          "height": 161
        },
        "id": "c7U8B3fyFgn4",
        "outputId": "41e3bc91-dd3b-4b9b-eb7c-04d3da876d79",
        "vscode": {
          "languageId": "r"
        }
      },
      "outputs": [
        {
          "data": {
            "text/html": [
              "<table class=\"dataframe\">\n",
              "<caption>A matrix: 3 × 3 of type dbl</caption>\n",
              "<thead>\n",
              "\t<tr><th></th><th scope=col>X</th><th scope=col>speed</th><th scope=col>dist</th></tr>\n",
              "</thead>\n",
              "<tbody>\n",
              "\t<tr><th scope=row>X</th><td>1.0000000</td><td>0.9854590</td><td>0.8176576</td></tr>\n",
              "\t<tr><th scope=row>speed</th><td>0.9854590</td><td>1.0000000</td><td>0.8068949</td></tr>\n",
              "\t<tr><th scope=row>dist</th><td>0.8176576</td><td>0.8068949</td><td>1.0000000</td></tr>\n",
              "</tbody>\n",
              "</table>\n"
            ],
            "text/latex": [
              "A matrix: 3 × 3 of type dbl\n",
              "\\begin{tabular}{r|lll}\n",
              "  & X & speed & dist\\\\\n",
              "\\hline\n",
              "\tX & 1.0000000 & 0.9854590 & 0.8176576\\\\\n",
              "\tspeed & 0.9854590 & 1.0000000 & 0.8068949\\\\\n",
              "\tdist & 0.8176576 & 0.8068949 & 1.0000000\\\\\n",
              "\\end{tabular}\n"
            ],
            "text/markdown": [
              "\n",
              "A matrix: 3 × 3 of type dbl\n",
              "\n",
              "| <!--/--> | X | speed | dist |\n",
              "|---|---|---|---|\n",
              "| X | 1.0000000 | 0.9854590 | 0.8176576 |\n",
              "| speed | 0.9854590 | 1.0000000 | 0.8068949 |\n",
              "| dist | 0.8176576 | 0.8068949 | 1.0000000 |\n",
              "\n"
            ],
            "text/plain": [
              "      X         speed     dist     \n",
              "X     1.0000000 0.9854590 0.8176576\n",
              "speed 0.9854590 1.0000000 0.8068949\n",
              "dist  0.8176576 0.8068949 1.0000000"
            ]
          },
          "metadata": {},
          "output_type": "display_data"
        }
      ],
      "source": [
        "cars <- read.csv(\"data/cars.csv\",header=TRUE, sep=\",\")\n",
        "\n",
        "correlation_matrix <- cor(cars)\n",
        "correlation_matrix\n"
      ]
    },
    {
      "cell_type": "markdown",
      "metadata": {
        "id": "DE9FTF0iFs4P"
      },
      "source": [
        "Calculate a correlation matrix for the air dataset. Do you see a\n",
        "pair of attributes that are redundant?\n",
        "\n",
        "All attributes have a high correlation score, when speed and X are redundant (0.985)."
      ]
    },
    {
      "cell_type": "code",
      "execution_count": null,
      "metadata": {
        "colab": {
          "base_uri": "https://localhost:8080/",
          "height": 437
        },
        "id": "mWJshYKTrK1H",
        "outputId": "285b22f4-588e-4adc-a9a8-922d2159ab51",
        "vscode": {
          "languageId": "r"
        }
      },
      "outputs": [
        {
          "data": {
            "image/png": "[encoded data removed]",
            "text/plain": [
              "Plot with title “Correlation Heatmap for cars Dataset”"
            ]
          },
          "metadata": {
            "image/png": {
              "height": 420,
              "width": 420
            }
          },
          "output_type": "display_data"
        }
      ],
      "source": [
        "heatmap(correlation_matrix,\n",
        "        col = colorRampPalette(c(\"navy\", \"white\", \"firebrick3\"))(100),\n",
        "        scale = \"none\",\n",
        "        margins = c(10, 10))\n",
        "\n",
        "# Dodaj tytuł do mapy cieplnej\n",
        "title(\"Correlation Heatmap for cars Dataset\")\n"
      ]
    },
    {
      "cell_type": "code",
      "execution_count": 86,
      "metadata": {
        "colab": {
          "base_uri": "https://localhost:8080/",
          "height": 286
        },
        "id": "_wvw5HRstzW1",
        "outputId": "69721ac8-c586-477c-e71d-5f437eb7dec6",
        "vscode": {
          "languageId": "r"
        }
      },
      "outputs": [
        {
          "data": {
            "text/html": [
              "<table class=\"dataframe\">\n",
              "<caption>A data.frame: 6 × 6</caption>\n",
              "<thead>\n",
              "\t<tr><th></th><th scope=col>Ozone</th><th scope=col>Solar.R</th><th scope=col>Wind</th><th scope=col>Temp</th><th scope=col>Month</th><th scope=col>Day</th></tr>\n",
              "\t<tr><th></th><th scope=col>&lt;dbl&gt;</th><th scope=col>&lt;dbl&gt;</th><th scope=col>&lt;dbl&gt;</th><th scope=col>&lt;int&gt;</th><th scope=col>&lt;int&gt;</th><th scope=col>&lt;int&gt;</th></tr>\n",
              "</thead>\n",
              "<tbody>\n",
              "\t<tr><th scope=row>115</th><td>42.12931</td><td>255</td><td>12.6</td><td>75</td><td>8</td><td>23</td></tr>\n",
              "\t<tr><th scope=row>149</th><td>30.00000</td><td>193</td><td> 6.9</td><td>70</td><td>9</td><td>26</td></tr>\n",
              "\t<tr><th scope=row>126</th><td>73.00000</td><td>183</td><td> 2.8</td><td>93</td><td>9</td><td> 3</td></tr>\n",
              "\t<tr><th scope=row>42</th><td>42.12931</td><td>259</td><td>10.9</td><td>93</td><td>6</td><td>11</td></tr>\n",
              "\t<tr><th scope=row>71</th><td>85.00000</td><td>175</td><td> 7.4</td><td>89</td><td>7</td><td>10</td></tr>\n",
              "\t<tr><th scope=row>25</th><td>42.12931</td><td> 66</td><td>16.6</td><td>57</td><td>5</td><td>25</td></tr>\n",
              "</tbody>\n",
              "</table>\n"
            ],
            "text/latex": [
              "A data.frame: 6 × 6\n",
              "\\begin{tabular}{r|llllll}\n",
              "  & Ozone & Solar.R & Wind & Temp & Month & Day\\\\\n",
              "  & <dbl> & <dbl> & <dbl> & <int> & <int> & <int>\\\\\n",
              "\\hline\n",
              "\t115 & 42.12931 & 255 & 12.6 & 75 & 8 & 23\\\\\n",
              "\t149 & 30.00000 & 193 &  6.9 & 70 & 9 & 26\\\\\n",
              "\t126 & 73.00000 & 183 &  2.8 & 93 & 9 &  3\\\\\n",
              "\t42 & 42.12931 & 259 & 10.9 & 93 & 6 & 11\\\\\n",
              "\t71 & 85.00000 & 175 &  7.4 & 89 & 7 & 10\\\\\n",
              "\t25 & 42.12931 &  66 & 16.6 & 57 & 5 & 25\\\\\n",
              "\\end{tabular}\n"
            ],
            "text/markdown": [
              "\n",
              "A data.frame: 6 × 6\n",
              "\n",
              "| <!--/--> | Ozone &lt;dbl&gt; | Solar.R &lt;dbl&gt; | Wind &lt;dbl&gt; | Temp &lt;int&gt; | Month &lt;int&gt; | Day &lt;int&gt; |\n",
              "|---|---|---|---|---|---|---|\n",
              "| 115 | 42.12931 | 255 | 12.6 | 75 | 8 | 23 |\n",
              "| 149 | 30.00000 | 193 |  6.9 | 70 | 9 | 26 |\n",
              "| 126 | 73.00000 | 183 |  2.8 | 93 | 9 |  3 |\n",
              "| 42 | 42.12931 | 259 | 10.9 | 93 | 6 | 11 |\n",
              "| 71 | 85.00000 | 175 |  7.4 | 89 | 7 | 10 |\n",
              "| 25 | 42.12931 |  66 | 16.6 | 57 | 5 | 25 |\n",
              "\n"
            ],
            "text/plain": [
              "    Ozone    Solar.R Wind Temp Month Day\n",
              "115 42.12931 255     12.6 75   8     23 \n",
              "149 30.00000 193      6.9 70   9     26 \n",
              "126 73.00000 183      2.8 93   9      3 \n",
              "42  42.12931 259     10.9 93   6     11 \n",
              "71  85.00000 175      7.4 89   7     10 \n",
              "25  42.12931  66     16.6 57   5     25 "
            ]
          },
          "metadata": {},
          "output_type": "display_data"
        }
      ],
      "source": [
        "random_sample <- airq[sample(nrow(airq), 50), ]\n",
        "\n",
        "head(random_sample)\n"
      ]
    },
    {
      "cell_type": "code",
      "execution_count": 87,
      "metadata": {
        "colab": {
          "base_uri": "https://localhost:8080/"
        },
        "id": "ocTOedQquUWB",
        "outputId": "03f4323a-626a-4963-8065-39d313f4bdd9",
        "vscode": {
          "languageId": "r"
        }
      },
      "outputs": [
        {
          "name": "stderr",
          "output_type": "stream",
          "text": [
            "Instalowanie pakietu w ‘/home/anna/R/x86_64-pc-linux-gnu-library/4.1’\n",
            "(ponieważ ‘lib’ nie jest określony)\n",
            "\n"
          ]
        }
      ],
      "source": [
        "install.packages(\"splitstackshape\")\n"
      ]
    },
    {
      "cell_type": "code",
      "execution_count": 88,
      "metadata": {
        "colab": {
          "base_uri": "https://localhost:8080/"
        },
        "id": "BEEyAo-vuBDn",
        "outputId": "ad74a48b-e5ee-48f8-e7b1-07f1f6884100",
        "vscode": {
          "languageId": "r"
        }
      },
      "outputs": [
        {
          "name": "stdout",
          "output_type": "stream",
          "text": [
            "        Ozone Solar.R Wind Temp Month Day\n",
            " 1:  12.00000     149 12.6   74     5   3\n",
            " 2:  18.00000      65 13.2   58     5  15\n",
            " 3:  34.00000     307 12.0   66     5  17\n",
            " 4:  36.00000     118  8.0   72     5   2\n",
            " 5:  23.00000     299  8.6   65     5   7\n",
            " 6:  29.00000     127  9.7   82     6   7\n",
            " 7:  12.00000     120 11.5   73     6  19\n",
            " 8:  13.00000     137 10.3   76     6  20\n",
            " 9:  42.12931     127  8.0   78     6  26\n",
            "10:  42.12931      98 11.5   80     6  28\n",
            "11: 135.00000     269  4.1   84     7   1\n",
            "12:  42.12931     258  9.7   81     7  22\n",
            "13:  97.00000     267  6.3   92     7   8\n",
            "14:  42.12931     295 11.5   82     7  23\n",
            "15:  64.00000     175  4.6   83     7   5\n",
            "16: 110.00000     207  8.0   90     8   9\n",
            "17:  44.00000     192 11.5   86     8  12\n",
            "18:  39.00000      83  6.9   81     8   1\n",
            "19:  76.00000     203  9.7   97     8  28\n",
            "20:  42.12931     137 11.5   86     8  11\n",
            "21:  24.00000     259  9.7   73     9  10\n",
            "22:  18.00000     224 13.8   67     9  17\n",
            "23:  24.00000     238 10.3   68     9  19\n",
            "24:  13.00000     238 12.6   64     9  21\n",
            "25:  20.00000     223 11.5   68     9  30\n",
            "        Ozone Solar.R Wind Temp Month Day\n"
          ]
        }
      ],
      "source": [
        "library(splitstackshape)\n",
        "# stratified_sample - na podstawie miesiąca\n",
        "# najpierw populacja zostanie podzielona na 12 podgrup, każda reprezentująca jeden miesiąc.\n",
        "# Następnie z każdej podgrupy zostaną losowo wybrane 5 przykłady\n",
        "stratified_sample <- stratified(airq, \"Month\", 5)\n",
        "\n",
        "print(stratified_sample)\n"
      ]
    }
  ],
  "metadata": {
    "colab": {
      "provenance": []
    },
    "kernelspec": {
      "display_name": "R",
      "language": "R",
      "name": "ir"
    },
    "language_info": {
      "codemirror_mode": "r",
      "file_extension": ".r",
      "mimetype": "text/x-r-source",
      "name": "R",
      "pygments_lexer": "r",
      "version": "4.1.2"
    }
  },
  "nbformat": 4,
  "nbformat_minor": 0
}
